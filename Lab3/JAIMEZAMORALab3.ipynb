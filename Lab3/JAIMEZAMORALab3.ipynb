{
  "cells": [
    {
      "cell_type": "markdown",
      "metadata": {
        "id": "view-in-github",
        "colab_type": "text"
      },
      "source": [
        "<a href=\"https://colab.research.google.com/github/jzam0ra/AlgorithmsUN2024II/blob/main/Lab3/JAIMEZAMORALab3.ipynb\" target=\"_parent\"><img src=\"https://colab.research.google.com/assets/colab-badge.svg\" alt=\"Open In Colab\"/></a>"
      ]
    },
    {
      "cell_type": "code",
      "execution_count": null,
      "metadata": {
        "id": "im-VVd1__7VU",
        "colab": {
          "base_uri": "https://localhost:8080/"
        },
        "outputId": "914b0392-8679-4592-8104-6b40f28b2c67"
      },
      "outputs": [
        {
          "output_type": "stream",
          "name": "stdout",
          "text": [
            "processor\t: 0\n",
            "vendor_id\t: GenuineIntel\n",
            "cpu family\t: 6\n",
            "model\t\t: 79\n",
            "model name\t: Intel(R) Xeon(R) CPU @ 2.20GHz\n",
            "stepping\t: 0\n",
            "microcode\t: 0xffffffff\n",
            "cpu MHz\t\t: 2199.998\n",
            "cache size\t: 56320 KB\n",
            "physical id\t: 0\n",
            "siblings\t: 2\n",
            "core id\t\t: 0\n",
            "cpu cores\t: 1\n",
            "apicid\t\t: 0\n",
            "initial apicid\t: 0\n",
            "fpu\t\t: yes\n",
            "fpu_exception\t: yes\n",
            "cpuid level\t: 13\n",
            "wp\t\t: yes\n",
            "flags\t\t: fpu vme de pse tsc msr pae mce cx8 apic sep mtrr pge mca cmov pat pse36 clflush mmx fxsr sse sse2 ss ht syscall nx pdpe1gb rdtscp lm constant_tsc rep_good nopl xtopology nonstop_tsc cpuid tsc_known_freq pni pclmulqdq ssse3 fma cx16 pcid sse4_1 sse4_2 x2apic movbe popcnt aes xsave avx f16c rdrand hypervisor lahf_lm abm 3dnowprefetch invpcid_single ssbd ibrs ibpb stibp fsgsbase tsc_adjust bmi1 hle avx2 smep bmi2 erms invpcid rtm rdseed adx smap xsaveopt arat md_clear arch_capabilities\n",
            "bugs\t\t: cpu_meltdown spectre_v1 spectre_v2 spec_store_bypass l1tf mds swapgs taa mmio_stale_data retbleed bhi\n",
            "bogomips\t: 4399.99\n",
            "clflush size\t: 64\n",
            "cache_alignment\t: 64\n",
            "address sizes\t: 46 bits physical, 48 bits virtual\n",
            "power management:\n",
            "\n",
            "processor\t: 1\n",
            "vendor_id\t: GenuineIntel\n",
            "cpu family\t: 6\n",
            "model\t\t: 79\n",
            "model name\t: Intel(R) Xeon(R) CPU @ 2.20GHz\n",
            "stepping\t: 0\n",
            "microcode\t: 0xffffffff\n",
            "cpu MHz\t\t: 2199.998\n",
            "cache size\t: 56320 KB\n",
            "physical id\t: 0\n",
            "siblings\t: 2\n",
            "core id\t\t: 0\n",
            "cpu cores\t: 1\n",
            "apicid\t\t: 1\n",
            "initial apicid\t: 1\n",
            "fpu\t\t: yes\n",
            "fpu_exception\t: yes\n",
            "cpuid level\t: 13\n",
            "wp\t\t: yes\n",
            "flags\t\t: fpu vme de pse tsc msr pae mce cx8 apic sep mtrr pge mca cmov pat pse36 clflush mmx fxsr sse sse2 ss ht syscall nx pdpe1gb rdtscp lm constant_tsc rep_good nopl xtopology nonstop_tsc cpuid tsc_known_freq pni pclmulqdq ssse3 fma cx16 pcid sse4_1 sse4_2 x2apic movbe popcnt aes xsave avx f16c rdrand hypervisor lahf_lm abm 3dnowprefetch invpcid_single ssbd ibrs ibpb stibp fsgsbase tsc_adjust bmi1 hle avx2 smep bmi2 erms invpcid rtm rdseed adx smap xsaveopt arat md_clear arch_capabilities\n",
            "bugs\t\t: cpu_meltdown spectre_v1 spectre_v2 spec_store_bypass l1tf mds swapgs taa mmio_stale_data retbleed bhi\n",
            "bogomips\t: 4399.99\n",
            "clflush size\t: 64\n",
            "cache_alignment\t: 64\n",
            "address sizes\t: 46 bits physical, 48 bits virtual\n",
            "power management:\n",
            "\n"
          ]
        }
      ],
      "source": [
        "!cat /proc/cpuinfo"
      ]
    },
    {
      "cell_type": "markdown",
      "metadata": {
        "id": "N1ok_-56OjB1"
      },
      "source": [
        "# I Solving the Sum of Two Digits Programming Challenge"
      ]
    },
    {
      "cell_type": "markdown",
      "metadata": {
        "id": "MMY7kmDSO0KM"
      },
      "source": [
        "## C++"
      ]
    },
    {
      "cell_type": "code",
      "execution_count": null,
      "metadata": {
        "colab": {
          "base_uri": "https://localhost:8080/"
        },
        "id": "2pGGf9BkPNIk",
        "outputId": "026d6a1d-f268-40dc-bd83-3fb5dda07da1"
      },
      "outputs": [
        {
          "output_type": "stream",
          "name": "stdout",
          "text": [
            "Writing APlusB.cpp\n"
          ]
        }
      ],
      "source": [
        "%%writefile APlusB.cpp\n",
        "#include <iostream>\n",
        "\n",
        "int sum_of_two_digits(int first_digit, int second_digit) {\n",
        "    return first_digit + second_digit;\n",
        "}\n",
        "\n",
        "int main() {\n",
        "    int a = 0;\n",
        "    int b = 0;\n",
        "    std::cin >> a;\n",
        "    std::cin >> b;\n",
        "    std::cout << sum_of_two_digits(a, b);\n",
        "    return 0;\n",
        "}"
      ]
    },
    {
      "cell_type": "code",
      "execution_count": null,
      "metadata": {
        "colab": {
          "base_uri": "https://localhost:8080/"
        },
        "id": "0G3ZKOYAPXSU",
        "outputId": "970b7a71-2748-47a9-a41e-70248df97fd9"
      },
      "outputs": [
        {
          "output_type": "stream",
          "name": "stdout",
          "text": [
            "^C\n"
          ]
        }
      ],
      "source": [
        "!g++ APlusB.cpp -o APlusB -std=c++11\n",
        "!./APlusB"
      ]
    },
    {
      "cell_type": "markdown",
      "metadata": {
        "id": "iNkG2HqfTl9c"
      },
      "source": [
        "### Test input output files"
      ]
    },
    {
      "cell_type": "code",
      "execution_count": null,
      "metadata": {
        "colab": {
          "base_uri": "https://localhost:8080/"
        },
        "id": "aTzU2efzMxly",
        "outputId": "9da1ac2a-f823-43ab-c22d-1659ab61020d"
      },
      "outputs": [
        {
          "output_type": "stream",
          "name": "stdout",
          "text": [
            "Writing input1.txt\n"
          ]
        }
      ],
      "source": [
        "%%writefile input1.txt\n",
        "4 8"
      ]
    },
    {
      "cell_type": "code",
      "execution_count": null,
      "metadata": {
        "colab": {
          "base_uri": "https://localhost:8080/"
        },
        "id": "zBJ0Gc0NQRet",
        "outputId": "28795319-2255-4d6e-c6bc-477a2037b039"
      },
      "outputs": [
        {
          "output_type": "stream",
          "name": "stdout",
          "text": [
            "Writing output1.txt\n"
          ]
        }
      ],
      "source": [
        "%%writefile output1.txt\n",
        "12"
      ]
    },
    {
      "cell_type": "code",
      "execution_count": null,
      "metadata": {
        "colab": {
          "base_uri": "https://localhost:8080/"
        },
        "id": "IjEcIx63PJAN",
        "outputId": "e9e6a2d1-7024-4124-aece-a6459a1cac4e"
      },
      "outputs": [
        {
          "output_type": "stream",
          "name": "stdout",
          "text": [
            "Writing input2.txt\n"
          ]
        }
      ],
      "source": [
        "%%writefile input2.txt\n",
        "0 9"
      ]
    },
    {
      "cell_type": "code",
      "execution_count": null,
      "metadata": {
        "colab": {
          "base_uri": "https://localhost:8080/"
        },
        "id": "Up9gOrxURTmd",
        "outputId": "3c554f10-c883-43d3-8fe0-c542fee360d2"
      },
      "outputs": [
        {
          "output_type": "stream",
          "name": "stdout",
          "text": [
            "Writing output2.txt\n"
          ]
        }
      ],
      "source": [
        "%%writefile output2.txt\n",
        "9"
      ]
    },
    {
      "cell_type": "code",
      "execution_count": null,
      "metadata": {
        "colab": {
          "base_uri": "https://localhost:8080/"
        },
        "id": "PST6G-s-Pwgc",
        "outputId": "04251483-2644-442c-e156-05afb9880f85"
      },
      "outputs": [
        {
          "output_type": "stream",
          "name": "stdout",
          "text": [
            "12"
          ]
        }
      ],
      "source": [
        "!./APlusB < input1.txt"
      ]
    },
    {
      "cell_type": "code",
      "execution_count": null,
      "metadata": {
        "colab": {
          "base_uri": "https://localhost:8080/"
        },
        "id": "cKxZOjSlRfIN",
        "outputId": "be684ff3-6361-4d08-ebda-f06c0dd10afe"
      },
      "outputs": [
        {
          "output_type": "stream",
          "name": "stdout",
          "text": [
            "9"
          ]
        }
      ],
      "source": [
        "!./APlusB < input2.txt"
      ]
    },
    {
      "cell_type": "markdown",
      "metadata": {
        "id": "Qw2TQWCCUwqk"
      },
      "source": [
        "### Comparing files with grep\n",
        "\n",
        "https://askubuntu.com/questions/546796/comparing-two-text-files"
      ]
    },
    {
      "cell_type": "code",
      "execution_count": null,
      "metadata": {
        "id": "Jlja0Xm4TX9M"
      },
      "outputs": [],
      "source": [
        "!./APlusB < input1.txt> ctest1.txt\n",
        "!grep -xvFf output1.txt ctest1.txt"
      ]
    },
    {
      "cell_type": "code",
      "execution_count": null,
      "metadata": {
        "id": "g9OIUZA_QLCQ"
      },
      "outputs": [],
      "source": [
        "!./APlusB < input2.txt > ctest2.txt\n",
        "!grep -xvFf output2.txt ctest2.txt"
      ]
    },
    {
      "cell_type": "markdown",
      "metadata": {
        "id": "3BgOaDjUVJk6"
      },
      "source": [
        "## Python"
      ]
    },
    {
      "cell_type": "code",
      "execution_count": null,
      "metadata": {
        "colab": {
          "base_uri": "https://localhost:8080/"
        },
        "id": "DBvl-T0CTN_8",
        "outputId": "42dd8d62-5fc5-4389-fdc0-ce777007bcbe"
      },
      "outputs": [
        {
          "output_type": "stream",
          "name": "stdout",
          "text": [
            "Writing sum.py\n"
          ]
        }
      ],
      "source": [
        "%%writefile sum.py\n",
        "# python3\n",
        "\n",
        "def sum_of_two_digits(first_digit, second_digit):\n",
        "    return first_digit + second_digit\n",
        "\n",
        "if __name__ == '__main__':\n",
        "    a, b = map(int, input().split())\n",
        "    print(sum_of_two_digits(a, b))"
      ]
    },
    {
      "cell_type": "code",
      "execution_count": null,
      "metadata": {
        "colab": {
          "base_uri": "https://localhost:8080/"
        },
        "id": "QKoKM11_WGyF",
        "outputId": "0c2e7a5d-1cfb-4243-9842-1fc60efb097d"
      },
      "outputs": [
        {
          "output_type": "stream",
          "name": "stdout",
          "text": [
            "Traceback (most recent call last):\n",
            "  File \"/content/sum.py\", line 7, in <module>\n",
            "    a, b = map(int, input().split())\n",
            "KeyboardInterrupt\n",
            "^C\n"
          ]
        }
      ],
      "source": [
        "!python sum.py"
      ]
    },
    {
      "cell_type": "code",
      "execution_count": null,
      "metadata": {
        "id": "cocFbPRTWrqt"
      },
      "outputs": [],
      "source": [
        "!python sum.py  < input1.txt> ptest1.txt\n",
        "!grep -xvFf output1.txt ptest1.txt"
      ]
    },
    {
      "cell_type": "code",
      "execution_count": null,
      "metadata": {
        "id": "MorKTa-XXASN"
      },
      "outputs": [],
      "source": [
        "!python sum.py  < input2.txt> ptest2.txt\n",
        "!grep -xvFf output2.txt ptest2.txt"
      ]
    },
    {
      "cell_type": "markdown",
      "metadata": {
        "id": "uvP-mOubW_5F"
      },
      "source": [
        "# II Solving The Maximum Pairwise Product Programming Challenge in C++"
      ]
    },
    {
      "cell_type": "markdown",
      "metadata": {
        "id": "C12yoFR6Xonl"
      },
      "source": [
        "## C++\n",
        "\n",
        "$$ T(n) < 6 n^2 = O(n^2)$$"
      ]
    },
    {
      "cell_type": "code",
      "source": [
        "%%writefile max_pairwise_product_full.cpp\n",
        "#include <iostream>\n",
        "#include <vector>\n",
        "#include <algorithm>\n",
        "\n",
        "int MaxPairwiseProduct(const std::vector<int>& numbers) {\n",
        "    int max_product = 0;\n",
        "    int aux_product = 0;\n",
        "    int n = numbers.size();\n",
        "\n",
        "    for (int first = 0; first < n; ++first) {\n",
        "        for (int second = 0; second < n; ++second) {\n",
        "          if ( first != second ){\n",
        "                aux_product = numbers[first] * numbers[second];\n",
        "                if (aux_product > max_product)  max_product = aux_product;\n",
        "          }\n",
        "        }\n",
        "    }\n",
        "\n",
        "    return max_product;\n",
        "}\n",
        "\n",
        "int main() {\n",
        "    int n;\n",
        "    std::cin >> n;\n",
        "    std::vector<int> numbers(n);\n",
        "    for (int i = 0; i < n; ++i) {\n",
        "        std::cin >> numbers[i];\n",
        "    }\n",
        "\n",
        "    std::cout << MaxPairwiseProduct(numbers) << \"\\n\";\n",
        "    return 0;\n",
        "}"
      ],
      "metadata": {
        "colab": {
          "base_uri": "https://localhost:8080/"
        },
        "id": "3LpfoGv2Ae81",
        "outputId": "201dd6b0-d5fc-4ff0-b17c-14edee206b7d"
      },
      "execution_count": null,
      "outputs": [
        {
          "output_type": "stream",
          "name": "stdout",
          "text": [
            "Writing max_pairwise_product_full.cpp\n"
          ]
        }
      ]
    },
    {
      "cell_type": "markdown",
      "metadata": {
        "id": "m75IQQPbEHBS"
      },
      "source": [
        "#### Time Complexity\n",
        "$$\\left. \\begin{array}{llc}\n",
        " \\text{INSTRUCTION} & \\text{TYPE}& \\text{# EXECUTIONS}\\\\\n",
        "\\text{first != second} &  \\text{comparisons} &n^2 \\\\\n",
        "\\text{numbers[first] * numbers[second]}& \\ \\text{ products}  &n^2 - n \\\\\n",
        "\\text{max_product = aux_product} &  \\text{assigments} & [1, \\frac{n^2 - n}{2})  \n",
        "\\end{array}\\right\\}  =  O(n^2)$$"
      ]
    },
    {
      "cell_type": "code",
      "source": [
        "!g++ max_pairwise_product_full.cpp -o max_pairwise_product_full\n",
        "!./max_pairwise_product_full"
      ],
      "metadata": {
        "id": "PCVo1h6nCF9k",
        "colab": {
          "base_uri": "https://localhost:8080/"
        },
        "outputId": "c609b2f5-a2ed-4453-8ec2-7fbf347c3fd9"
      },
      "execution_count": null,
      "outputs": [
        {
          "output_type": "stream",
          "name": "stdout",
          "text": [
            "^C\n"
          ]
        }
      ]
    },
    {
      "cell_type": "markdown",
      "metadata": {
        "id": "e7KhxHGNS3i0"
      },
      "source": [
        "### Test 1: Small numbers"
      ]
    },
    {
      "cell_type": "code",
      "source": [
        "%%writefile input0.txt\n",
        "10\n",
        "0 0 0 0 0 0 0 0 0 0"
      ],
      "metadata": {
        "colab": {
          "base_uri": "https://localhost:8080/"
        },
        "id": "17npyXt7lYzA",
        "outputId": "a50b234e-dbc5-495f-bf82-9b47007e4d76"
      },
      "execution_count": null,
      "outputs": [
        {
          "output_type": "stream",
          "name": "stdout",
          "text": [
            "Writing input0.txt\n"
          ]
        }
      ]
    },
    {
      "cell_type": "code",
      "source": [
        "%%writefile output0.txt\n",
        "0"
      ],
      "metadata": {
        "colab": {
          "base_uri": "https://localhost:8080/"
        },
        "id": "NooGEkJylezm",
        "outputId": "167ddadb-88df-4cd4-a57a-79b43dad0491"
      },
      "execution_count": null,
      "outputs": [
        {
          "output_type": "stream",
          "name": "stdout",
          "text": [
            "Writing output0.txt\n"
          ]
        }
      ]
    },
    {
      "cell_type": "code",
      "source": [
        "!./max_pairwise_product_full< input0.txt > ctest0.txt\n",
        "!grep -xvFf output0.txt ctest0.txt"
      ],
      "metadata": {
        "id": "R0yFaAOrlqrE"
      },
      "execution_count": null,
      "outputs": []
    },
    {
      "cell_type": "code",
      "execution_count": null,
      "metadata": {
        "colab": {
          "base_uri": "https://localhost:8080/"
        },
        "id": "e1mmTzBgShT-",
        "outputId": "2e0ec9eb-03f3-4717-ac5a-e9085afb224c"
      },
      "outputs": [
        {
          "output_type": "stream",
          "name": "stdout",
          "text": [
            "Overwriting input1.txt\n"
          ]
        }
      ],
      "source": [
        "%%writefile input1.txt\n",
        "10\n",
        "1 2 3 4 5 6 7 8 9 10"
      ]
    },
    {
      "cell_type": "code",
      "execution_count": null,
      "metadata": {
        "colab": {
          "base_uri": "https://localhost:8080/"
        },
        "id": "vy_uI0x7TCId",
        "outputId": "3cee7808-e826-485a-fb8a-6d4a505753d2"
      },
      "outputs": [
        {
          "output_type": "stream",
          "name": "stdout",
          "text": [
            "/bin/bash: line 1: ./max_pairwise_product: No such file or directory\n"
          ]
        }
      ],
      "source": [
        "!./max_pairwise_product < input1.txt"
      ]
    },
    {
      "cell_type": "code",
      "execution_count": null,
      "metadata": {
        "colab": {
          "base_uri": "https://localhost:8080/"
        },
        "id": "xaj6f9bxC6D6",
        "outputId": "f8897756-af0b-480d-8f77-e085a99eb346"
      },
      "outputs": [
        {
          "output_type": "stream",
          "name": "stdout",
          "text": [
            "Overwriting output1.txt\n"
          ]
        }
      ],
      "source": [
        "%%writefile output1.txt\n",
        "90"
      ]
    },
    {
      "cell_type": "code",
      "execution_count": null,
      "metadata": {
        "id": "fYCjAdA_C-wy"
      },
      "outputs": [],
      "source": [
        "!./max_pairwise_product_full< input1.txt > ctest1.txt\n",
        "!grep -xvFf output1.txt ctest1.txt"
      ]
    },
    {
      "cell_type": "code",
      "source": [
        "%%writefile input2.txt\n",
        "10\n",
        "10 9 8 7 6 5 4 3 2 1"
      ],
      "metadata": {
        "colab": {
          "base_uri": "https://localhost:8080/"
        },
        "id": "ZPe40LY14_6f",
        "outputId": "c56727ae-a3dc-47cb-b4d0-d775d5bdfc7d"
      },
      "execution_count": null,
      "outputs": [
        {
          "output_type": "stream",
          "name": "stdout",
          "text": [
            "Overwriting input2.txt\n"
          ]
        }
      ]
    },
    {
      "cell_type": "code",
      "source": [
        "%%writefile output2.txt\n",
        "90"
      ],
      "metadata": {
        "colab": {
          "base_uri": "https://localhost:8080/"
        },
        "id": "xiHmF7HA5Faa",
        "outputId": "1dbf5b86-d22b-4008-a218-6f2c21a937f4"
      },
      "execution_count": null,
      "outputs": [
        {
          "output_type": "stream",
          "name": "stdout",
          "text": [
            "Overwriting output2.txt\n"
          ]
        }
      ]
    },
    {
      "cell_type": "code",
      "source": [
        "!./max_pairwise_product_full< input2.txt > ctest2.txt\n",
        "!grep -xvFf output2.txt ctest2.txt"
      ],
      "metadata": {
        "id": "jjwc9kwb5t_k"
      },
      "execution_count": null,
      "outputs": []
    },
    {
      "cell_type": "markdown",
      "metadata": {
        "id": "IeZ3kTjpYmR9"
      },
      "source": [
        "### Test 2: largest input numbers 200000 200000 to check possible intger overflow"
      ]
    },
    {
      "cell_type": "code",
      "execution_count": null,
      "metadata": {
        "colab": {
          "base_uri": "https://localhost:8080/"
        },
        "id": "LQNlZqaqYt7U",
        "outputId": "495c4cad-05f1-4f96-d2ed-453611aef523"
      },
      "outputs": [
        {
          "output_type": "stream",
          "name": "stdout",
          "text": [
            "Writing input3.txt\n"
          ]
        }
      ],
      "source": [
        "%%writefile input3.txt\n",
        "6\n",
        "1 3 200000 9 200000 23"
      ]
    },
    {
      "cell_type": "code",
      "execution_count": null,
      "metadata": {
        "colab": {
          "base_uri": "https://localhost:8080/"
        },
        "id": "GjQq7QOUCw-9",
        "outputId": "5e1103b8-c3af-45b8-8040-ee2dea36d168"
      },
      "outputs": [
        {
          "output_type": "execute_result",
          "data": {
            "text/plain": [
              "40000000000"
            ]
          },
          "metadata": {},
          "execution_count": 29
        }
      ],
      "source": [
        "200000*200000"
      ]
    },
    {
      "cell_type": "code",
      "execution_count": null,
      "metadata": {
        "colab": {
          "base_uri": "https://localhost:8080/"
        },
        "id": "EuS6n3jtDK5C",
        "outputId": "6244f379-599d-4226-fae2-32aedde8dff2"
      },
      "outputs": [
        {
          "output_type": "stream",
          "name": "stdout",
          "text": [
            "Writing output3.txt\n"
          ]
        }
      ],
      "source": [
        "%%writefile output3.txt\n",
        "40000000000"
      ]
    },
    {
      "cell_type": "code",
      "execution_count": null,
      "metadata": {
        "colab": {
          "base_uri": "https://localhost:8080/"
        },
        "id": "2Wad2VZUZDxR",
        "outputId": "21551e17-b5f7-439f-cf1b-4e76afde3170"
      },
      "outputs": [
        {
          "output_type": "stream",
          "name": "stdout",
          "text": [
            "1345294336\n"
          ]
        }
      ],
      "source": [
        "!./max_pairwise_product_full < input3.txt"
      ]
    },
    {
      "cell_type": "code",
      "execution_count": null,
      "metadata": {
        "colab": {
          "base_uri": "https://localhost:8080/"
        },
        "id": "pEvp1ieyDJGq",
        "outputId": "e6b19398-2f68-4622-964a-40757c0ccced"
      },
      "outputs": [
        {
          "output_type": "stream",
          "name": "stdout",
          "text": [
            "1345294336\n"
          ]
        }
      ],
      "source": [
        "!./max_pairwise_product_full < input3.txt > ctest3.txt\n",
        "!grep -xvFf output3.txt ctest3.txt"
      ]
    },
    {
      "cell_type": "code",
      "source": [
        " %%writefile run_all_test.sh\n",
        "#!/bin/bash\n",
        "g++ max_pairwise_product_full.cpp -o max_pairwise_product_full\n",
        "for i in {0..3}\n",
        "do\n",
        "    ./max_pairwise_product_full < input$i.txt > ctest$i.txt\n",
        "    grep -xvFf output$i.txt ctest$i.txt\n",
        "done"
      ],
      "metadata": {
        "colab": {
          "base_uri": "https://localhost:8080/"
        },
        "id": "SrtJrKqM-God",
        "outputId": "1e1995d6-6fb4-4d5c-a265-4ba8b47da46f"
      },
      "execution_count": null,
      "outputs": [
        {
          "output_type": "stream",
          "name": "stdout",
          "text": [
            "Writing run_all_test.sh\n"
          ]
        }
      ]
    },
    {
      "cell_type": "code",
      "source": [
        "!chmod u+x run_all_test.sh\n",
        "!./run_all_test.sh"
      ],
      "metadata": {
        "colab": {
          "base_uri": "https://localhost:8080/"
        },
        "id": "wGWMHtzS-QnA",
        "outputId": "77f6cf22-957b-4f71-9326-a270151fbb79"
      },
      "execution_count": null,
      "outputs": [
        {
          "output_type": "stream",
          "name": "stdout",
          "text": [
            "1345294336\n"
          ]
        }
      ]
    },
    {
      "cell_type": "markdown",
      "metadata": {
        "id": "H2SC0Qt5HCzz"
      },
      "source": [
        "### Changing the variables to long long"
      ]
    },
    {
      "cell_type": "code",
      "execution_count": null,
      "metadata": {
        "colab": {
          "base_uri": "https://localhost:8080/"
        },
        "id": "MPcmsxiQZSfE",
        "outputId": "92c5f048-bdb2-4787-ba15-6fdb61297b6c"
      },
      "outputs": [
        {
          "output_type": "stream",
          "name": "stdout",
          "text": [
            "Writing max_pairwise_product_long_full.cpp\n"
          ]
        }
      ],
      "source": [
        "%%writefile max_pairwise_product_long_full.cpp\n",
        "#include <iostream>\n",
        "#include <vector>\n",
        "#include <algorithm>\n",
        "\n",
        "long long MaxPairwiseProduct(const std::vector<int>& numbers) {\n",
        "    long long max_product = 0LL;\n",
        "\t  long long aux_product = 0LL;\n",
        "    int n = numbers.size();\n",
        "\n",
        "    for (int first = 0; first < n; ++first) {\n",
        "        for (int second = 0; second < n; ++second) {\n",
        "          if ( first != second){\n",
        "                aux_product = (long long) numbers[first] * numbers[second];\n",
        "                if (aux_product > max_product)  max_product = aux_product;\n",
        "          }\n",
        "        }\n",
        "    }\n",
        "\n",
        "\n",
        "    return max_product;\n",
        "}\n",
        "\n",
        "int main() {\n",
        "    int n;\n",
        "    std::cin >> n;\n",
        "    std::vector<int> numbers(n);\n",
        "    for (int i = 0; i < n; ++i) {\n",
        "        std::cin >> numbers[i];\n",
        "    }\n",
        "\n",
        "    std::cout << MaxPairwiseProduct(numbers) << \"\\n\";\n",
        "    return 0;\n",
        "}\n"
      ]
    },
    {
      "cell_type": "code",
      "source": [
        "!g++ max_pairwise_product_long_full.cpp -o max_pairwise_product_long_full"
      ],
      "metadata": {
        "id": "W3xQpFXL6wjO"
      },
      "execution_count": null,
      "outputs": []
    },
    {
      "cell_type": "code",
      "source": [
        "!./max_pairwise_product_long_full < input3.txt"
      ],
      "metadata": {
        "colab": {
          "base_uri": "https://localhost:8080/"
        },
        "id": "H5dvN9M3R9sV",
        "outputId": "b8f43a9b-9d35-4b47-905c-2bd261387936"
      },
      "execution_count": null,
      "outputs": [
        {
          "output_type": "stream",
          "name": "stdout",
          "text": [
            "40000000000\n"
          ]
        }
      ]
    },
    {
      "cell_type": "markdown",
      "source": [
        "### Runing multuple test with a bash shell"
      ],
      "metadata": {
        "id": "gx-sEYdfQ8f8"
      }
    },
    {
      "cell_type": "code",
      "source": [
        " %%writefile run_all_test.sh\n",
        "#!/bin/bash\n",
        "g++ max_pairwise_product_long_full.cpp -o max_pairwise_product_long_full\n",
        "for i in {1..3}\n",
        "do\n",
        "    ./max_pairwise_product_long_full < input$i.txt > ctest$i.txt\n",
        "    grep -xvFf output$i.txt ctest$i.txt\n",
        "done"
      ],
      "metadata": {
        "colab": {
          "base_uri": "https://localhost:8080/"
        },
        "id": "O9qsq2nn7elw",
        "outputId": "66effe27-4181-436c-b052-f4ef28513745"
      },
      "execution_count": null,
      "outputs": [
        {
          "output_type": "stream",
          "name": "stdout",
          "text": [
            "Overwriting run_all_test.sh\n"
          ]
        }
      ]
    },
    {
      "cell_type": "code",
      "source": [
        "!chmod u+x run_all_test.sh\n",
        "!./run_all_test.sh"
      ],
      "metadata": {
        "id": "0g5kKVph7xIA"
      },
      "execution_count": null,
      "outputs": []
    },
    {
      "cell_type": "markdown",
      "metadata": {
        "id": "XPVHkHxH6_7s"
      },
      "source": [
        "### Test 3  stress tests, 6 testing cases files input4.txt/output4.txt .. input10.txt/output10.txt\n",
        "\n",
        "---\n",
        "\n"
      ]
    },
    {
      "cell_type": "code",
      "execution_count": null,
      "metadata": {
        "id": "PwqpBmYr69fu",
        "colab": {
          "base_uri": "https://localhost:8080/"
        },
        "outputId": "787ed811-2e3c-4657-aeeb-e8cc52348ded"
      },
      "outputs": [
        {
          "output_type": "stream",
          "name": "stdout",
          "text": [
            "Writing input5.txt\n"
          ]
        }
      ],
      "source": [
        "%%writefile input5.txt\n",
        "5\n",
        "876 435 921 123 456789"
      ]
    },
    {
      "cell_type": "code",
      "execution_count": null,
      "metadata": {
        "id": "jBCkMeR6Fw4y",
        "colab": {
          "base_uri": "https://localhost:8080/"
        },
        "outputId": "e919b3ba-d4c0-4510-bab4-ee4c582bf589"
      },
      "outputs": [
        {
          "output_type": "stream",
          "name": "stdout",
          "text": [
            "Writing input6.txt\n"
          ]
        }
      ],
      "source": [
        "%%writefile input6.txt\n",
        "5\n",
        "101 202 303 404 50505"
      ]
    },
    {
      "cell_type": "code",
      "source": [
        "%%writefile input7.txt\n",
        "6\n",
        "321 654 987 111 222 333444"
      ],
      "metadata": {
        "id": "zED8V8wu-eoM",
        "colab": {
          "base_uri": "https://localhost:8080/"
        },
        "outputId": "364e4b91-5e09-44ab-a367-5574e7daa2cb"
      },
      "execution_count": null,
      "outputs": [
        {
          "output_type": "stream",
          "name": "stdout",
          "text": [
            "Writing input7.txt\n"
          ]
        }
      ]
    },
    {
      "cell_type": "code",
      "source": [
        "%%writefile input8.txt\n",
        "7\n",
        "111 222 333 444 555 666 777888"
      ],
      "metadata": {
        "colab": {
          "base_uri": "https://localhost:8080/"
        },
        "id": "U7jy4xyWO2GY",
        "outputId": "84f19ba5-7a0c-48ce-bbd0-3cb4c914c618"
      },
      "execution_count": null,
      "outputs": [
        {
          "output_type": "stream",
          "name": "stdout",
          "text": [
            "Overwriting input8.txt\n"
          ]
        }
      ]
    },
    {
      "cell_type": "code",
      "source": [
        "%%writefile input9.txt\n",
        "8\n",
        "10 20 30 40 50 60 70 80000"
      ],
      "metadata": {
        "colab": {
          "base_uri": "https://localhost:8080/"
        },
        "id": "5Ch5PlAFO19u",
        "outputId": "4f5de0c9-c79a-47ba-f479-2beec362fc84"
      },
      "execution_count": null,
      "outputs": [
        {
          "output_type": "stream",
          "name": "stdout",
          "text": [
            "Overwriting input9.txt\n"
          ]
        }
      ]
    },
    {
      "cell_type": "code",
      "source": [
        "%%writefile input10.txt\n",
        "5\n",
        "90909 80808 70707 60606 50505"
      ],
      "metadata": {
        "colab": {
          "base_uri": "https://localhost:8080/"
        },
        "id": "azs35n7HO1zn",
        "outputId": "eb991666-f696-444b-95f7-0d238f56c959"
      },
      "execution_count": null,
      "outputs": [
        {
          "output_type": "stream",
          "name": "stdout",
          "text": [
            "Writing input10.txt\n"
          ]
        }
      ]
    },
    {
      "cell_type": "code",
      "source": [
        "!./max_pairwise_product_long_full < input5.txt > output5.txt\n",
        "!./max_pairwise_product_long_full < input6.txt > output6.txt\n",
        "!./max_pairwise_product_long_full < input7.txt > output7.txt\n",
        "!./max_pairwise_product_long_full < input8.txt > output8.txt\n",
        "!./max_pairwise_product_long_full < input9.txt > output9.txt\n",
        "!./max_pairwise_product_long_full < input10.txt > output10.txt"
      ],
      "metadata": {
        "id": "VdyV92GiP1K2"
      },
      "execution_count": null,
      "outputs": []
    },
    {
      "cell_type": "markdown",
      "metadata": {
        "id": "9z9yr5QkeyJF"
      },
      "source": [
        "### Test 4  time test  measure the execution time running with the the largest worst cases input11.txt  (200000 increasing numbers) and input12.txt (199998 increasing numbers and  200000, 200000 at the end)"
      ]
    },
    {
      "cell_type": "code",
      "source": [
        "# input11.txt 200000 increasing numbers:  1 2 .. 200000\n",
        "\n",
        "%%writefile WriteTest.cpp\n",
        "\n",
        "#include <iostream>\n",
        "#include <fstream>\n",
        "#include <cstdlib>\n",
        "\n",
        "using namespace std;\n",
        "\n",
        "int main() {\n",
        "  // Create and open a text file\n",
        "  ofstream MyFile(\"input11.txt\");\n",
        "\n",
        " MyFile << 200000 <<\"\\n\";  // n\n",
        " for (int i=1; i <200001; i++){\n",
        "     MyFile << i <<\" \";\n",
        " }\n",
        "\n",
        "  // Close the file\n",
        "  MyFile.close();\n",
        "}"
      ],
      "metadata": {
        "colab": {
          "base_uri": "https://localhost:8080/"
        },
        "id": "UmB1ipWM_nSk",
        "outputId": "26e7343a-0d0f-4c51-faba-4f1f9c46d86d"
      },
      "execution_count": null,
      "outputs": [
        {
          "output_type": "stream",
          "name": "stdout",
          "text": [
            "Writing WriteTest.cpp\n"
          ]
        }
      ]
    },
    {
      "cell_type": "code",
      "execution_count": null,
      "metadata": {
        "id": "EH25TkOkZfD9"
      },
      "outputs": [],
      "source": [
        "!g++ WriteTest.cpp -o WriteTest\n",
        "!./WriteTest"
      ]
    },
    {
      "cell_type": "code",
      "source": [
        "199999 * 200000"
      ],
      "metadata": {
        "colab": {
          "base_uri": "https://localhost:8080/"
        },
        "id": "j0mokSOnCCtZ",
        "outputId": "44e23218-2606-4be6-f9e8-3982e8603ae8"
      },
      "execution_count": null,
      "outputs": [
        {
          "output_type": "execute_result",
          "data": {
            "text/plain": [
              "39999800000"
            ]
          },
          "metadata": {},
          "execution_count": 42
        }
      ]
    },
    {
      "cell_type": "code",
      "source": [
        "%%writefile output11.txt\n",
        "39999800000"
      ],
      "metadata": {
        "id": "VoDhDV73B5Mo",
        "colab": {
          "base_uri": "https://localhost:8080/"
        },
        "outputId": "1b60b62f-22b9-4858-9111-aa602da56c87"
      },
      "execution_count": null,
      "outputs": [
        {
          "output_type": "stream",
          "name": "stdout",
          "text": [
            "Writing output11.txt\n"
          ]
        }
      ]
    },
    {
      "cell_type": "code",
      "execution_count": null,
      "metadata": {
        "colab": {
          "base_uri": "https://localhost:8080/"
        },
        "id": "oLiMjbAIfPlX",
        "outputId": "5e7b4610-1d9e-48d5-9401-6663f8981eae"
      },
      "outputs": [
        {
          "output_type": "stream",
          "name": "stdout",
          "text": [
            "Overwriting WriteTest.cpp\n"
          ]
        }
      ],
      "source": [
        "# input12.txt 200000 decreasing numbers and 200000, 199999 ...  2 1\n",
        "\n",
        "%%writefile WriteTest.cpp\n",
        "\n",
        "#include <iostream>\n",
        "#include <fstream>\n",
        "#include <cstdlib>\n",
        "\n",
        "using namespace std;\n",
        "\n",
        "int main() {\n",
        "  // Create and open a text file\n",
        "  ofstream MyFile(\"input12.txt\");\n",
        "\n",
        " MyFile << 200000 <<\"\\n\";  // n\n",
        " for (int i=1; i <200001; i++){\n",
        "     MyFile << 200001-i <<\" \";\n",
        " }\n",
        "\n",
        "  // Close the file\n",
        "  MyFile.close();\n",
        "}"
      ]
    },
    {
      "cell_type": "code",
      "source": [
        "!g++ WriteTest.cpp -o WriteTest\n",
        "!./WriteTest"
      ],
      "metadata": {
        "id": "oULNBr_zAd9c"
      },
      "execution_count": null,
      "outputs": []
    },
    {
      "cell_type": "code",
      "source": [
        "%%writefile output12.txt\n",
        "39999800000"
      ],
      "metadata": {
        "colab": {
          "base_uri": "https://localhost:8080/"
        },
        "id": "PQLyocaFB-y4",
        "outputId": "e65e5bc8-ff6e-43ca-a821-59304a68629b"
      },
      "execution_count": null,
      "outputs": [
        {
          "output_type": "stream",
          "name": "stdout",
          "text": [
            "Writing output12.txt\n"
          ]
        }
      ]
    },
    {
      "cell_type": "markdown",
      "metadata": {
        "id": "JB6f03qO-lj9"
      },
      "source": [
        "### Measure time\n",
        "\n",
        "https://askubuntu.com/questions/53444/how-can-i-measure-the-execution-time-of-a-terminal-process"
      ]
    },
    {
      "cell_type": "code",
      "execution_count": null,
      "metadata": {
        "colab": {
          "base_uri": "https://localhost:8080/"
        },
        "id": "6p2QLEr576zk",
        "outputId": "27feadcc-436f-4d5f-dc93-025c0912a7f6"
      },
      "outputs": [
        {
          "output_type": "stream",
          "name": "stdout",
          "text": [
            "^C\n"
          ]
        }
      ],
      "source": [
        "!g++ max_pairwise_product_long_full.cpp -o max_pairwise_product_long_full\n",
        "!time ./max_pairwise_product_long_full< input11.txt"
      ]
    },
    {
      "cell_type": "code",
      "source": [
        "!g++ max_pairwise_product_long_full.cpp -o max_pairwise_product_long_full\n",
        "!time ./max_pairwise_product_long_full< input12.txt"
      ],
      "metadata": {
        "colab": {
          "base_uri": "https://localhost:8080/"
        },
        "id": "cnjCyeUdAnZj",
        "outputId": "599967d2-3d3b-456c-dc52-133e3e2c8d1b"
      },
      "execution_count": null,
      "outputs": [
        {
          "output_type": "stream",
          "name": "stdout",
          "text": [
            "^C\n"
          ]
        }
      ]
    },
    {
      "cell_type": "markdown",
      "metadata": {
        "id": "FXClpBsUJuXC"
      },
      "source": [
        "### Calculate the number or and upper bound to the number of instructions executed by the algorithm as a function of n, add in each line a comment with the number of instructions that are executed in that line."
      ]
    },
    {
      "cell_type": "code",
      "execution_count": null,
      "metadata": {
        "colab": {
          "base_uri": "https://localhost:8080/"
        },
        "id": "uG6Mv-Pwlkii",
        "outputId": "3125c370-ac69-46b7-94f6-a908a7e429f8"
      },
      "outputs": [
        {
          "output_type": "stream",
          "name": "stdout",
          "text": [
            "Overwriting max_pairwise_product_long_full.cpp\n"
          ]
        }
      ],
      "source": [
        "%%writefile max_pairwise_product_long_full.cpp\n",
        "#include <iostream>\n",
        "#include <vector>\n",
        "#include <algorithm>\n",
        "\n",
        "long long MaxPairwiseProduct(const std::vector<int>& numbers) {              //INSTRUCTIONS executed by line\n",
        "    long long max_product = 0LL;                                             //1\n",
        "\t  long long aux_product = 0LL;                                             //1\n",
        "    int n = numbers.size();                                                  //1\n",
        "\n",
        "    for (int first = 0; first < n; ++first) {                                //2+2n\n",
        "        for (int second = 0; second < n; ++second) {                         //2n + 2n**2\n",
        "          if ( first != second ){                                            //n**2\n",
        "                aux_product = numbers[first] * numbers[second];              //n**2 -n\n",
        "                if (aux_product > max_product)                               //n**2 -n\n",
        "                    max_product = aux_product;                               //[0, n**2/2 - n/2] upper bound\n",
        "          }\n",
        "        }\n",
        "    }\n",
        "\n",
        "                                                                             // --------------\n",
        "    return max_product;                                                      // 5 + 2*n + [5*n**2, 11*n**2/2  - n/2]  upper bound\n",
        "}\n",
        "\n",
        "int main() {                                              //INSTRUCTIONS executed by line\n",
        "    int n;                                                //1\n",
        "    std::cin >> n;                                        //1\n",
        "    std::vector<int> numbers(n);                          //n\n",
        "    for (int i = 0; i < n; ++i) {                         //2 + 2n\n",
        "        std::cin >> numbers[i];                           //n\n",
        "    }\n",
        "\n",
        "    std::cout << MaxPairwiseProduct(numbers) << \"\\n\";     //1 + 1  + 5 + 2*n + [5*n**2, 11*n**2/2  - n/2]\n",
        "\n",
        "    return 0;                                             // --------------\n",
        "}                                                         //  11 + 6*n + [5*n**2, 11*n**2/2  - n/2]  upper bound\n"
      ]
    },
    {
      "cell_type": "markdown",
      "metadata": {
        "id": "0vTsUg8OwcHs"
      },
      "source": [
        "### Count executed intructions in code"
      ]
    },
    {
      "cell_type": "code",
      "execution_count": null,
      "metadata": {
        "colab": {
          "base_uri": "https://localhost:8080/"
        },
        "id": "CuRKkqQc137V",
        "outputId": "691adc1d-8b1b-4193-a965-55aaaf3d81ee"
      },
      "outputs": [
        {
          "output_type": "stream",
          "name": "stdout",
          "text": [
            "Writing max_pairwise_product_long_full_execints.cpp\n"
          ]
        }
      ],
      "source": [
        "%%writefile max_pairwise_product_long_full_execints.cpp\n",
        "#include <iostream>\n",
        "#include <vector>\n",
        "#include <algorithm>\n",
        "\n",
        "long long MaxPairwiseProduct(const std::vector<int>& numbers, long long &execints) {      //INSTRUCTIONS executed by line\n",
        "\n",
        "    long long max_product = 0LL;                                                          //1\n",
        "    execints++;\n",
        "\n",
        "\t  long long aux_product = 0LL;                                                          //1\n",
        "    execints++;\n",
        "\n",
        "    int n = numbers.size();                                                               //1\n",
        "    execints++;\n",
        "\n",
        "    execints++;\n",
        "    for (int first = 0; first < n; ++first) {                                             //2+2n\n",
        "        execints += 2;\n",
        "\n",
        "        execints++;\n",
        "        for (int second = 0; second < n; ++second) {                                       //2n + 2n**2\n",
        "          execints += 2;\n",
        "\n",
        "          execints++;\n",
        "          if ( first != second ){                                                         //n**2\n",
        "                aux_product = numbers[first] * numbers[second];                           //n**2 -n\n",
        "                execints++;\n",
        "\n",
        "                execints++;\n",
        "                if (aux_product > max_product){                                           //n**2 -n\n",
        "                    max_product = aux_product;                                            //[0,n**2/2 - n/2)  upper bound\n",
        "                    execints++;\n",
        "\n",
        "                }\n",
        "        }\n",
        "\n",
        "      }\n",
        "      execints++;\n",
        "    }\n",
        "    execints++;\n",
        "                                                                                        // --------------\n",
        "    return max_product;                                                                 // 5 + 2*n + [5*n**2, 11*n**2/2  - n/2] upper bound\n",
        "}\n",
        "\n",
        "int main() {                                                 //INSTRUCTIONS executed by line\n",
        "\n",
        "    long long execints =0LL;\n",
        "\n",
        "    int n;                                                   //1\n",
        "    execints++;\n",
        "\n",
        "    std::cin >> n;                                           //1\n",
        "    execints++;\n",
        "\n",
        "    std::vector<int> numbers(n);                             //n\n",
        "    execints += n;\n",
        "\n",
        "    execints++;\n",
        "    for (int i = 0; i < n; ++i) {                            //2 + 2n\n",
        "        execints += 2;\n",
        "\n",
        "        std::cin >> numbers[i];\n",
        "        execints++;                                          //n\n",
        "\n",
        "    }\n",
        "\n",
        "\n",
        "    //std::cout << MaxPairwiseProduct(numbers) << \"\\n\";      //1 + 1  + 5 + 2*n + [5*n**2, 11*n**2/2  - n/2] upper bound\n",
        "\n",
        "    execints++;\n",
        "    int M = MaxPairwiseProduct(numbers,execints);\n",
        "\n",
        "    execints++;\n",
        "    std::cout <<  execints << \"\\n\";\n",
        "    return 0;                                                // --------------\n",
        "}                                                            // 11 + 6*n + [5*n**2, 11*n**2/2  - n/2]"
      ]
    },
    {
      "cell_type": "markdown",
      "source": [
        "The number of instructions executed by the algooirithm with a list of size $n$ is  \n",
        "\n",
        "$$T (n) = 11 + 6n + \\left[5n^2, 11\\frac{n^2}{2}  - \\frac{n}{2}\\right)  >  6n^2 = O(n^2)$$\n",
        "\n",
        "It depends on the size of the lists and  the order of the list.\n",
        "\n",
        "For the input0.txt\n",
        "```\n",
        "10\n",
        "0 0 0 0 0 0 0 0 0 0\n",
        "```\n",
        "$$T = 11 + 6(10) + 5(10)^2   = 561 $$\n",
        "\n",
        "$$T(10) \\in [571, 621)  $$\n"
      ],
      "metadata": {
        "id": "cUjHtvtdDsmr"
      }
    },
    {
      "cell_type": "code",
      "source": [
        "!g++ max_pairwise_product_long_full_execints.cpp -o max_pairwise_product_long_full_execints\n",
        "!./max_pairwise_product_long_full_execints < input0.txt"
      ],
      "metadata": {
        "colab": {
          "base_uri": "https://localhost:8080/"
        },
        "id": "Om9Fevb0miAT",
        "outputId": "2461dd28-8f84-4173-b5e3-bac383007b2d"
      },
      "execution_count": null,
      "outputs": [
        {
          "output_type": "stream",
          "name": "stdout",
          "text": [
            "570\n"
          ]
        }
      ]
    },
    {
      "cell_type": "markdown",
      "source": [
        "For the input1.txt\n",
        "```\n",
        "10\n",
        "1 2 3 4 5 6 7 8 9 10\n",
        "```\n",
        "$$T = 11 + 6(10) + 5(10)^2 +  9 + 5 + 4 + 3 + 2 + 2 + 2 + 2 + 1 + 0  = 601 $$\n",
        "\n",
        "$$T(10) \\in [572, 622)  $$\n"
      ],
      "metadata": {
        "id": "FwJzZ6VzmArY"
      }
    },
    {
      "cell_type": "code",
      "source": [
        "#The number of times that  max_product = aux_product; in the worst case is less than (n**2 -n)/2 -  upper bound\n",
        "\n",
        "#     1  2  3  4  5  6  7  8  9  10\n",
        "#  1  x  2  3  4  5  6  7  8  9  10         9\n",
        "#  2  2  x  6  8  10 12 14 16 18 20         5 14\n",
        "#  3  3  6  x  12 15 18 21 24 27 30         4 18\n",
        "#  4  4  8  12 x  20 24 28 32 36 40         3 21\n",
        "#  5  5  10 15 20 x  30 35 40 45 50         2 23\n",
        "#  6  6  12 18 24 30 x  42 48 54 60         2 25\n",
        "#  7  7  14 21 28 35 42 x  56 63 70         2 27\n",
        "#  8  8  18 27 36 45 54 63 72 x  90         1 30\n",
        "#  10 10 20 30 40 50 60 70 60 90 x          0"
      ],
      "metadata": {
        "id": "K59xQMWiBNFj"
      },
      "execution_count": null,
      "outputs": []
    },
    {
      "cell_type": "code",
      "source": [
        "11 + 6*(10) + 5*(10)*(10) +  9 + 5 + 4 + 3 + 2 + 2 + 2 + 2 + 1 + 0"
      ],
      "metadata": {
        "colab": {
          "base_uri": "https://localhost:8080/"
        },
        "id": "E3O8dzFfEgir",
        "outputId": "013a40dd-1d0a-4f6f-fec7-7b298b4df5a9"
      },
      "execution_count": null,
      "outputs": [
        {
          "output_type": "execute_result",
          "data": {
            "text/plain": [
              "601"
            ]
          },
          "metadata": {},
          "execution_count": 53
        }
      ]
    },
    {
      "cell_type": "code",
      "source": [
        "n = 10\n",
        "print( \"[\", 11 + 6*n + 5*n**2,  \",\", 11 + 6*n  + 5.5*n**2, \")\")"
      ],
      "metadata": {
        "colab": {
          "base_uri": "https://localhost:8080/"
        },
        "id": "TCpdl5u_Gq1a",
        "outputId": "0a2e4974-0e55-461b-96dd-10d728cf3d69"
      },
      "execution_count": null,
      "outputs": [
        {
          "output_type": "stream",
          "name": "stdout",
          "text": [
            "[ 571 , 621.0 )\n"
          ]
        }
      ]
    },
    {
      "cell_type": "code",
      "execution_count": null,
      "metadata": {
        "colab": {
          "base_uri": "https://localhost:8080/"
        },
        "id": "Kuvm1C05ly2a",
        "outputId": "ed673d61-82e4-40d6-db97-e2eb57ecd24f"
      },
      "outputs": [
        {
          "output_type": "stream",
          "name": "stdout",
          "text": [
            "600\n"
          ]
        }
      ],
      "source": [
        "!g++ max_pairwise_product_long_full_execints.cpp -o max_pairwise_product_long_full_execints\n",
        "!./max_pairwise_product_long_full_execints < input1.txt"
      ]
    },
    {
      "cell_type": "markdown",
      "source": [
        "\n",
        "For the input2.txt\n",
        "```\n",
        "10\n",
        "10 9 8 7 6 5 4 3 2 1\n",
        "```\n",
        "$$T = 11 + 6*(10) + 5*(10)**2 +  1  = 571 $$"
      ],
      "metadata": {
        "id": "Yr_Lb7CaHfxB"
      }
    },
    {
      "cell_type": "code",
      "source": [
        "11 + 6*(10) + 5*(10)**2 +  1"
      ],
      "metadata": {
        "colab": {
          "base_uri": "https://localhost:8080/"
        },
        "id": "HOdqlwJiZUIp",
        "outputId": "dc732de9-a026-49c2-b422-25d930a2f5e4"
      },
      "execution_count": null,
      "outputs": [
        {
          "output_type": "execute_result",
          "data": {
            "text/plain": [
              "572"
            ]
          },
          "metadata": {},
          "execution_count": 56
        }
      ]
    },
    {
      "cell_type": "code",
      "source": [
        "!g++ max_pairwise_product_long_full_execints.cpp -o max_pairwise_product_long_full_execints\n",
        "!./max_pairwise_product_long_full_execints < input2.txt"
      ],
      "metadata": {
        "id": "_znzLectjFSe",
        "colab": {
          "base_uri": "https://localhost:8080/"
        },
        "outputId": "db1573ca-e903-4697-d1b3-0c79da5065dd"
      },
      "execution_count": null,
      "outputs": [
        {
          "output_type": "stream",
          "name": "stdout",
          "text": [
            "571\n"
          ]
        }
      ]
    },
    {
      "cell_type": "markdown",
      "metadata": {
        "id": "NXW7QkoBL6xH"
      },
      "source": [
        "Calculate estimated time by instruction and number of instructions by second"
      ]
    },
    {
      "cell_type": "markdown",
      "source": [
        "For the input11.txt\n",
        "```\n",
        "200000\n",
        "1 2 ..  199999 2000\n",
        "```\n",
        "$$T = 11 + 6*(200000) + 5.5*(200000)**2  = 200001200012  $$"
      ],
      "metadata": {
        "id": "dlyRjaohz-YH"
      }
    },
    {
      "cell_type": "code",
      "source": [
        "!g++ max_pairwise_product_long_full_execints.cpp -o max_pairwise_product_long_full_execints\n",
        "!./max_pairwise_product_long_full_execints < input11.txt"
      ],
      "metadata": {
        "colab": {
          "base_uri": "https://localhost:8080/"
        },
        "id": "BMH8mF3EKn2w",
        "outputId": "d7f77c55-238c-471d-aa93-a866dcbeff26"
      },
      "execution_count": null,
      "outputs": [
        {
          "output_type": "stream",
          "name": "stdout",
          "text": [
            "^C\n"
          ]
        }
      ]
    },
    {
      "cell_type": "code",
      "execution_count": null,
      "metadata": {
        "colab": {
          "base_uri": "https://localhost:8080/"
        },
        "id": "pKqB3i7dIxnc",
        "outputId": "7602e395-ed6c-45dc-ffbd-62be74393d36"
      },
      "outputs": [
        {
          "output_type": "execute_result",
          "data": {
            "text/plain": [
              "1.4749765693187072e-09"
            ]
          },
          "metadata": {},
          "execution_count": 59
        }
      ],
      "source": [
        "# Estimated time by instruction\n",
        "# use the real reported  !time ./max_pairwise_product_long_full< input11.txt in seconds intead of the 295\n",
        "\n",
        "295/200003177092\n"
      ]
    },
    {
      "cell_type": "code",
      "execution_count": null,
      "metadata": {
        "colab": {
          "base_uri": "https://localhost:8080/"
        },
        "id": "18N1ouqeMhE1",
        "outputId": "11014088-d07a-44ee-c13e-ab96c382fea5"
      },
      "outputs": [
        {
          "output_type": "execute_result",
          "data": {
            "text/plain": [
              "677976871.4983051"
            ]
          },
          "metadata": {},
          "execution_count": 60
        }
      ],
      "source": [
        "# Estimated number of instructions by second\n",
        "\n",
        "200003177092/295"
      ]
    },
    {
      "cell_type": "markdown",
      "source": [
        "### Estimate and verify the maximun n that can be solved in 1 second\n",
        "\n",
        "$$(5.5n^2 + 5.5n + 11) \\times 1.47*10^{-9} s = 1 s$$\n",
        "\n",
        "$$ n \\approx 11000$$\n"
      ],
      "metadata": {
        "id": "KyuxejFkL5X_"
      }
    },
    {
      "cell_type": "code",
      "source": [
        "# Verify input13.txt\n",
        "%%writefile WriteTest.cpp\n",
        "\n",
        "#include <iostream>\n",
        "#include <fstream>\n",
        "#include <cstdlib>\n",
        "\n",
        "using namespace std;\n",
        "\n",
        "int main() {\n",
        "  // Create and open a text file\n",
        "  ofstream MyFile(\"input13.txt\");\n",
        "\n",
        " MyFile << 11000 <<\"\\n\";  // n\n",
        " for (int i=1; i <11001; i++){\n",
        "     MyFile << i <<\" \";\n",
        " }\n",
        "\n",
        "  // Close the file\n",
        "  MyFile.close();\n",
        "}"
      ],
      "metadata": {
        "colab": {
          "base_uri": "https://localhost:8080/"
        },
        "id": "WXu5jp-DLTOI",
        "outputId": "4dc73236-3959-4e46-9d42-b1d53a04820c"
      },
      "execution_count": null,
      "outputs": [
        {
          "output_type": "stream",
          "name": "stdout",
          "text": [
            "Overwriting WriteTest.cpp\n"
          ]
        }
      ]
    },
    {
      "cell_type": "code",
      "source": [
        "!g++ WriteTest.cpp -o WriteTest\n",
        "!./WriteTest"
      ],
      "metadata": {
        "id": "AQ8N52pUMCeT"
      },
      "execution_count": null,
      "outputs": []
    },
    {
      "cell_type": "code",
      "source": [
        "10999 * 11000"
      ],
      "metadata": {
        "colab": {
          "base_uri": "https://localhost:8080/"
        },
        "id": "2iIOdbTrEtBx",
        "outputId": "29e02207-4584-41f4-c87e-884b71858828"
      },
      "execution_count": null,
      "outputs": [
        {
          "output_type": "execute_result",
          "data": {
            "text/plain": [
              "120989000"
            ]
          },
          "metadata": {},
          "execution_count": 63
        }
      ]
    },
    {
      "cell_type": "code",
      "source": [
        "!g++ max_pairwise_product_long_full.cpp -o max_pairwise_product_long_full\n",
        "!time ./max_pairwise_product_long_full< input13.txt"
      ],
      "metadata": {
        "colab": {
          "base_uri": "https://localhost:8080/"
        },
        "id": "ussuAokfM2du",
        "outputId": "86d07469-e88a-42ea-c4ee-bf95621f2857"
      },
      "execution_count": null,
      "outputs": [
        {
          "output_type": "stream",
          "name": "stdout",
          "text": [
            "120989000\n",
            "\n",
            "real\t0m1.465s\n",
            "user\t0m1.410s\n",
            "sys\t0m0.002s\n"
          ]
        }
      ]
    },
    {
      "cell_type": "markdown",
      "metadata": {
        "id": "Tm_AVmt-QQH4"
      },
      "source": [
        "## Python"
      ]
    },
    {
      "cell_type": "code",
      "execution_count": null,
      "metadata": {
        "id": "gRCCcd7IQTKZ"
      },
      "outputs": [],
      "source": []
    },
    {
      "cell_type": "code",
      "execution_count": null,
      "metadata": {
        "id": "kAEAoNZEQTCw"
      },
      "outputs": [],
      "source": []
    },
    {
      "cell_type": "code",
      "execution_count": null,
      "metadata": {
        "id": "hjw7TJrDL0d-"
      },
      "outputs": [],
      "source": [
        "# Verify"
      ]
    },
    {
      "cell_type": "markdown",
      "source": [
        "# For the follwing solutions rquired  the same tests and analysis performed for the first solution"
      ],
      "metadata": {
        "id": "fEZR-3V4ZjCv"
      }
    },
    {
      "cell_type": "markdown",
      "metadata": {
        "id": "MKQKSC-vKePK"
      },
      "source": [
        "## Solutions in C++ and Python that uses\n",
        "$$\\frac{n^2 - n}{2} = O(n^2)\\ \\ \\text{products}$$"
      ]
    },
    {
      "cell_type": "code",
      "execution_count": null,
      "metadata": {
        "id": "jkkHHoxSK65p",
        "colab": {
          "base_uri": "https://localhost:8080/"
        },
        "outputId": "7e04b9fb-6ab9-490f-95cf-4fb208e3be2a"
      },
      "outputs": [
        {
          "output_type": "stream",
          "name": "stdout",
          "text": [
            "Writing max_pairwise_product.cpp\n"
          ]
        }
      ],
      "source": [
        "%%writefile max_pairwise_product.cpp\n",
        "#include <iostream>\n",
        "#include <vector>\n",
        "#include <algorithm>\n",
        "\n",
        "int MaxPairwiseProduct(const std::vector<int>& numbers) {\n",
        "    int max_product = 0;\n",
        "    int n = numbers.size();\n",
        "\n",
        "    for (int first = 0; first < n; ++first) {\n",
        "        for (int second = first + 1; second < n; ++second) {\n",
        "            max_product = std::max(max_product,\n",
        "                numbers[first] * numbers[second]);\n",
        "        }\n",
        "    }\n",
        "\n",
        "    return max_product;\n",
        "}\n",
        "\n",
        "int main() {\n",
        "    int n;\n",
        "    std::cin >> n;\n",
        "    std::vector<int> numbers(n);\n",
        "    for (int i = 0; i < n; ++i) {\n",
        "        std::cin >> numbers[i];\n",
        "    }\n",
        "\n",
        "    std::cout << MaxPairwiseProduct(numbers) << \"\\n\";\n",
        "    return 0;\n",
        "}"
      ]
    },
    {
      "cell_type": "code",
      "execution_count": null,
      "metadata": {
        "id": "sU8-Ote7K8vz",
        "colab": {
          "base_uri": "https://localhost:8080/"
        },
        "outputId": "b130f8c6-95a2-4e6c-cb23-6f5dde0eebf1"
      },
      "outputs": [
        {
          "output_type": "stream",
          "name": "stdout",
          "text": [
            "Writing max_pairwise_product_long.cpp\n"
          ]
        }
      ],
      "source": [
        "%%writefile max_pairwise_product_long.cpp\n",
        "#include <iostream>\n",
        "#include <vector>\n",
        "#include <algorithm>\n",
        "\n",
        "long long MaxPairwiseProduct(const std::vector<int>& numbers) {              //INSTRUCTIONS executed by line\n",
        "    long long max_product = 0LL;                                             //1\n",
        "\t  long long aux_product = 0LL;                                             //1\n",
        "    int n = numbers.size();                                                  //1\n",
        "\n",
        "    for (int first = 0; first < n; ++first) {                                //2+2n\n",
        "        for (int second = first + 1; second < n; ++second) {                 //2n + (n-1)n\n",
        "\t\t\t       aux_product =  (long long) numbers[first] * numbers[second];    //(n-1)n/2\n",
        "            if (max_product < aux_product)  {                                //(n-1)n/2\n",
        "\t\t\t\t        max_product = aux_product;                                   //[1,(n-1)n/2)  upper bound\n",
        "             }\n",
        "        }\n",
        "    }\n",
        "                                                                             // --------------\n",
        "    return max_product;                                                      // 5 + 4n + [2(n-1)n+1, 2.5 (n-1)n) upper bound\n",
        "}\n",
        "\n",
        "int main() {                                              //INSTRUCTIONS executed by line\n",
        "    int n;                                                //1\n",
        "    std::cin >> n;                                        //1\n",
        "    std::vector<int> numbers(n);                          //n\n",
        "    for (int i = 0; i < n; ++i) {                         //2 + 2n\n",
        "        std::cin >> numbers[i];                           //n\n",
        "    }\n",
        "\n",
        "    std::cout << MaxPairwiseProduct(numbers) << \"\\n\";     //1 + 1  + 5 + 4n + [2(n-1)n+1, 2.5 (n-1)n) upper bound\n",
        "    return 0;                                             // --------------\n",
        "}                                                         // 11 + 7n + [2(n-1)n+1, 2.5 (n-1)n) upper bound\n"
      ]
    },
    {
      "cell_type": "code",
      "execution_count": null,
      "metadata": {
        "id": "5QWT3fneK8nw"
      },
      "outputs": [],
      "source": []
    },
    {
      "cell_type": "code",
      "execution_count": null,
      "metadata": {
        "id": "mxIVvm1RK8dB"
      },
      "outputs": [],
      "source": []
    },
    {
      "cell_type": "markdown",
      "source": [
        "### Estimate and verify the maximun n that can be solved in 1 second\n",
        "\n"
      ],
      "metadata": {
        "id": "zxCvxiB-XQJh"
      }
    },
    {
      "cell_type": "code",
      "source": [],
      "metadata": {
        "id": "Su8drkhrZwcp"
      },
      "execution_count": null,
      "outputs": []
    },
    {
      "cell_type": "markdown",
      "metadata": {
        "id": "1Hsbd-uHOb_j"
      },
      "source": [
        "# Sort solution in C++ and Python\n",
        "\n",
        "$$ O(n \\lg n)$$\n",
        "\n",
        "**Which sorting algorithm is used in GCC?**\n",
        "https://stackoverflow.com/questions/7221257/which-sorting-algorithm-is-used-in-gcc\n",
        "\n",
        "* ...  the algorithm is called introsort, a combination between Insertionsort, Quicksort & Heapsort. ...\n",
        "\n",
        "**Introsort**\n",
        "https://en.wikipedia.org/wiki/Introsort\n",
        "\n",
        "Introsort or introspective sort is a hybrid sorting algorithm that provides both fast average performance and (asymptotically) optimal worst-case performance. It begins with quicksort, it switches to heapsort when the recursion depth exceeds a level based on (the logarithm of) the number of elements being sorted and it switches to insertion sort when the number of elements is below some threshold\n",
        "\n",
        "*   Class\tSorting algorithm\n",
        "*   Data structure\tArray\n",
        "*   Worst-case performance\t$O(n \\lg n)$\n",
        "*   Average performance\t$O(n \\lg n)$\n",
        "\n",
        "**Tinsort**\n",
        "https://en.wikipedia.org/wiki/Timsort\n",
        "\n",
        "Timsort is a hybrid, stable sorting algorithm, derived from merge sort and insertion sort, designed to perform well on many kinds of real-world data. It was implemented by Tim Peters in 2002 for use in the Python programming language.\n",
        "\n",
        "*   Class\tSorting algorithm\n",
        "*   Data structure\tArray\n",
        "*   Worst-case performance\t$O(n \\lg n)$\n",
        "*   Best-case performance $O(n)$\n",
        "*   Average performance\t$O(n \\lg n)$\n",
        "*   Worst-case space complexity $O(n)$"
      ]
    },
    {
      "cell_type": "markdown",
      "metadata": {
        "id": "WMUthAXjOb_k"
      },
      "source": []
    },
    {
      "cell_type": "code",
      "source": [],
      "metadata": {
        "id": "jnIRWyUEDu_C"
      },
      "execution_count": null,
      "outputs": []
    },
    {
      "cell_type": "markdown",
      "metadata": {
        "id": "v8pdV9ABOb_k"
      },
      "source": [
        "Test with inputs 1 and 2\n",
        "\n"
      ]
    },
    {
      "cell_type": "code",
      "execution_count": null,
      "metadata": {
        "id": "kdXAyLG4Ob_k"
      },
      "outputs": [],
      "source": []
    },
    {
      "cell_type": "markdown",
      "metadata": {
        "id": "Sw-5X1q1Ob_k"
      },
      "source": [
        "Test and time it with input 3"
      ]
    },
    {
      "cell_type": "code",
      "execution_count": null,
      "metadata": {
        "id": "ryHJ30WIOb_k"
      },
      "outputs": [],
      "source": []
    },
    {
      "cell_type": "markdown",
      "metadata": {
        "id": "oJGdPl1HOb_k"
      },
      "source": [
        "20 stress tests"
      ]
    },
    {
      "cell_type": "code",
      "execution_count": null,
      "metadata": {
        "id": "pXHtO1dEOb_k"
      },
      "outputs": [],
      "source": []
    },
    {
      "cell_type": "markdown",
      "metadata": {
        "id": "2beTmWFPOb_k"
      },
      "source": [
        "Count executed instructions in code and verify with inputs 1,2 and 3\n"
      ]
    },
    {
      "cell_type": "code",
      "execution_count": null,
      "metadata": {
        "id": "iuByv4x1Ob_k"
      },
      "outputs": [],
      "source": []
    },
    {
      "cell_type": "markdown",
      "metadata": {
        "id": "x2CXhkwTOb_l"
      },
      "source": [
        "Calculate estimated time by instruction and number of instructions by second"
      ]
    },
    {
      "cell_type": "code",
      "execution_count": null,
      "metadata": {
        "id": "nTjxyTMtOb_l"
      },
      "outputs": [],
      "source": []
    },
    {
      "cell_type": "markdown",
      "source": [
        "### Estimate and verify the maximun n that can be solved in 1 second"
      ],
      "metadata": {
        "id": "CcgDYDQuaFeH"
      }
    },
    {
      "cell_type": "code",
      "source": [],
      "metadata": {
        "id": "fLztHReKaGFq"
      },
      "execution_count": null,
      "outputs": []
    },
    {
      "cell_type": "markdown",
      "metadata": {
        "id": "VMKC5duEOQfk"
      },
      "source": [
        "## Efficient solution with largest and second-largest in an list, array or vector in C++ and Python\n",
        "\n",
        " $$T(n) < 10 n  = O(n)$$\n",
        "\n",
        "\n",
        "\n"
      ]
    },
    {
      "cell_type": "markdown",
      "metadata": {
        "id": "nLcKBwbU0QsE"
      },
      "source": [
        "Add in each line a coment with the number of intstrcution that are executed in that line"
      ]
    },
    {
      "cell_type": "code",
      "execution_count": null,
      "metadata": {
        "id": "knls5Fh3NSt_"
      },
      "outputs": [],
      "source": []
    },
    {
      "cell_type": "markdown",
      "metadata": {
        "id": "-JCijbWxNSii"
      },
      "source": [
        "Test with inputs 1 and 2\n",
        "\n"
      ]
    },
    {
      "cell_type": "code",
      "execution_count": null,
      "metadata": {
        "id": "TrTGAfqlNVXT"
      },
      "outputs": [],
      "source": []
    },
    {
      "cell_type": "markdown",
      "metadata": {
        "id": "PRX51wADNR8b"
      },
      "source": [
        "Test and time it with input 3"
      ]
    },
    {
      "cell_type": "code",
      "execution_count": null,
      "metadata": {
        "id": "v4z7-Is_NRt7"
      },
      "outputs": [],
      "source": []
    },
    {
      "cell_type": "markdown",
      "metadata": {
        "id": "rpdfs0_TNZJf"
      },
      "source": [
        "20 stress tests"
      ]
    },
    {
      "cell_type": "code",
      "execution_count": null,
      "metadata": {
        "id": "Lu4tYcKzNcTT"
      },
      "outputs": [],
      "source": []
    },
    {
      "cell_type": "markdown",
      "metadata": {
        "id": "L8U4151JNbxk"
      },
      "source": [
        "Count executed instructions in code and verify with inputs 1,2 and 3\n"
      ]
    },
    {
      "cell_type": "code",
      "execution_count": null,
      "metadata": {
        "id": "dh85RM8vNhFz"
      },
      "outputs": [],
      "source": []
    },
    {
      "cell_type": "markdown",
      "metadata": {
        "id": "K6ybgCmpNygr"
      },
      "source": [
        "Calculate estimated time by instruction and number of instructions by second"
      ]
    },
    {
      "cell_type": "code",
      "execution_count": null,
      "metadata": {
        "id": "kwe3G1O3Nz1w"
      },
      "outputs": [],
      "source": []
    },
    {
      "cell_type": "markdown",
      "source": [
        "### Estimate and verify the maximun n that can be solved in 1 second"
      ],
      "metadata": {
        "id": "v8GY6n_ZaJ4P"
      }
    },
    {
      "cell_type": "code",
      "source": [],
      "metadata": {
        "id": "z3xjzg1YaKk6"
      },
      "execution_count": null,
      "outputs": []
    },
    {
      "cell_type": "markdown",
      "metadata": {
        "id": "sUpIWcykOGpT"
      },
      "source": [
        "## Super efficient solution\n",
        "\n",
        "Whitout storing the list in memory, only stpring the largest and second largest and whitout calling a function, add in each line a coment with the number of instructions that are executed in that line\n",
        "\n",
        "in C++ and Python\n",
        "\n",
        "\n",
        " $$T(n) < 13 n  = O(n)$$\n"
      ]
    },
    {
      "cell_type": "code",
      "execution_count": null,
      "metadata": {
        "id": "hBLt_xBQLy8E"
      },
      "outputs": [],
      "source": []
    },
    {
      "cell_type": "markdown",
      "metadata": {
        "id": "683gc3roHqzb"
      },
      "source": [
        "Test with inputs 1 and 2\n",
        "\n",
        "\n"
      ]
    },
    {
      "cell_type": "code",
      "execution_count": null,
      "metadata": {
        "id": "b7d4LA8OIc2_"
      },
      "outputs": [],
      "source": []
    },
    {
      "cell_type": "markdown",
      "metadata": {
        "id": "36Ugn1odIeJz"
      },
      "source": [
        "Test and time it with input 3"
      ]
    },
    {
      "cell_type": "code",
      "execution_count": null,
      "metadata": {
        "id": "jDyMbCnxHqSN"
      },
      "outputs": [],
      "source": []
    },
    {
      "cell_type": "markdown",
      "metadata": {
        "id": "bhqiKQG6fjKM"
      },
      "source": [
        "20 stress tests"
      ]
    },
    {
      "cell_type": "code",
      "execution_count": null,
      "metadata": {
        "id": "2KsiXKhALzwm"
      },
      "outputs": [],
      "source": []
    },
    {
      "cell_type": "markdown",
      "metadata": {
        "id": "fEXj8GHJH5p1"
      },
      "source": [
        "Count executed instructions in code and verify with inputs 1,2 and 3"
      ]
    },
    {
      "cell_type": "code",
      "execution_count": null,
      "metadata": {
        "id": "LF1DHjKXIAsF"
      },
      "outputs": [],
      "source": []
    },
    {
      "cell_type": "markdown",
      "metadata": {
        "id": "yae7sSm2IG9U"
      },
      "source": [
        "Calculate estimated time by instruction and number of instructions by second"
      ]
    },
    {
      "cell_type": "code",
      "execution_count": null,
      "metadata": {
        "id": "suouY7BYL2dz"
      },
      "outputs": [],
      "source": []
    },
    {
      "cell_type": "markdown",
      "metadata": {
        "id": "sy33CNNfPxcE"
      },
      "source": [
        "### Super efficient solution in Python\n",
        "\n",
        "Whitout storing the list in memory and whitout calling a function, add in each line a coment with the number of intstrcution that are executed in that line"
      ]
    },
    {
      "cell_type": "code",
      "execution_count": null,
      "metadata": {
        "id": "_mOjJwKrPxcJ"
      },
      "outputs": [],
      "source": []
    },
    {
      "cell_type": "markdown",
      "metadata": {
        "id": "K08Eow0hPxcJ"
      },
      "source": [
        "Test with inputs 1 and 2\n",
        "\n",
        "\n"
      ]
    },
    {
      "cell_type": "code",
      "execution_count": null,
      "metadata": {
        "id": "1_mUee2cPxcJ"
      },
      "outputs": [],
      "source": []
    },
    {
      "cell_type": "markdown",
      "metadata": {
        "id": "CE5DB3CmPxcJ"
      },
      "source": [
        "Test and time it with input 3"
      ]
    },
    {
      "cell_type": "code",
      "execution_count": null,
      "metadata": {
        "id": "lyLhFOoePxcJ"
      },
      "outputs": [],
      "source": []
    },
    {
      "cell_type": "markdown",
      "metadata": {
        "id": "HZEI236lPxcK"
      },
      "source": [
        "20 stress tests"
      ]
    },
    {
      "cell_type": "code",
      "execution_count": null,
      "metadata": {
        "id": "_LoV-p4zPxcK"
      },
      "outputs": [],
      "source": []
    },
    {
      "cell_type": "markdown",
      "metadata": {
        "id": "IRVdP3iuPxcK"
      },
      "source": [
        "Count executed instructions in code and verify with inputs 1,2 and 3"
      ]
    },
    {
      "cell_type": "code",
      "execution_count": null,
      "metadata": {
        "id": "RghJOg78PxcK"
      },
      "outputs": [],
      "source": []
    },
    {
      "cell_type": "markdown",
      "metadata": {
        "id": "R6qeUjPaPxcK"
      },
      "source": [
        "Calculate estimated time by instruction and number of instructions by second"
      ]
    },
    {
      "cell_type": "code",
      "execution_count": null,
      "metadata": {
        "id": "iLdXYvn3PxcK"
      },
      "outputs": [],
      "source": []
    },
    {
      "cell_type": "markdown",
      "source": [
        "### Estimate and verify the maximun n that can be solved in 1 second"
      ],
      "metadata": {
        "id": "uZGdjUwuaO4v"
      }
    },
    {
      "cell_type": "code",
      "source": [],
      "metadata": {
        "id": "FjqFevOaaOVz"
      },
      "execution_count": null,
      "outputs": []
    },
    {
      "cell_type": "markdown",
      "source": [
        "## Perform 100 randomized automated tests in C++ and Python with a porgram  compares the answers,for the same 100 random input instances, of the super efficient solution $(T(n) < 10 n = O(n))$ against the sorting solution  $(T(n)  = O(n \\lg{n}))$,  if the answers are not the same stops and displays \"Error\" listing  the input and the two answers; if the 100 tests are completed without stoping displays \"Pass\"."
      ],
      "metadata": {
        "id": "4hHRQMXzW6oR"
      }
    }
  ],
  "metadata": {
    "colab": {
      "provenance": [],
      "include_colab_link": true
    },
    "kernelspec": {
      "display_name": "Python 3",
      "name": "python3"
    },
    "language_info": {
      "name": "python"
    }
  },
  "nbformat": 4,
  "nbformat_minor": 0
}