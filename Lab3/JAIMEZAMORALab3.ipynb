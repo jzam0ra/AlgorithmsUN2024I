{
  "cells": [
    {
      "cell_type": "markdown",
      "metadata": {
        "id": "view-in-github",
        "colab_type": "text"
      },
      "source": [
        "<a href=\"https://colab.research.google.com/github/jzam0ra/AlgorithmsUN2024II/blob/main/Lab3/JAIMEZAMORALab3.ipynb\" target=\"_parent\"><img src=\"https://colab.research.google.com/assets/colab-badge.svg\" alt=\"Open In Colab\"/></a>"
      ]
    },
    {
      "cell_type": "code",
      "execution_count": 8,
      "metadata": {
        "id": "im-VVd1__7VU",
        "colab": {
          "base_uri": "https://localhost:8080/"
        },
        "outputId": "17e31985-2aba-4773-c2f5-cab99d8565a6"
      },
      "outputs": [
        {
          "output_type": "stream",
          "name": "stdout",
          "text": [
            "processor\t: 0\n",
            "vendor_id\t: GenuineIntel\n",
            "cpu family\t: 6\n",
            "model\t\t: 79\n",
            "model name\t: Intel(R) Xeon(R) CPU @ 2.20GHz\n",
            "stepping\t: 0\n",
            "microcode\t: 0xffffffff\n",
            "cpu MHz\t\t: 2200.220\n",
            "cache size\t: 56320 KB\n",
            "physical id\t: 0\n",
            "siblings\t: 2\n",
            "core id\t\t: 0\n",
            "cpu cores\t: 1\n",
            "apicid\t\t: 0\n",
            "initial apicid\t: 0\n",
            "fpu\t\t: yes\n",
            "fpu_exception\t: yes\n",
            "cpuid level\t: 13\n",
            "wp\t\t: yes\n",
            "flags\t\t: fpu vme de pse tsc msr pae mce cx8 apic sep mtrr pge mca cmov pat pse36 clflush mmx fxsr sse sse2 ss ht syscall nx pdpe1gb rdtscp lm constant_tsc rep_good nopl xtopology nonstop_tsc cpuid tsc_known_freq pni pclmulqdq ssse3 fma cx16 pcid sse4_1 sse4_2 x2apic movbe popcnt aes xsave avx f16c rdrand hypervisor lahf_lm abm 3dnowprefetch invpcid_single ssbd ibrs ibpb stibp fsgsbase tsc_adjust bmi1 hle avx2 smep bmi2 erms invpcid rtm rdseed adx smap xsaveopt arat md_clear arch_capabilities\n",
            "bugs\t\t: cpu_meltdown spectre_v1 spectre_v2 spec_store_bypass l1tf mds swapgs taa mmio_stale_data retbleed bhi\n",
            "bogomips\t: 4400.44\n",
            "clflush size\t: 64\n",
            "cache_alignment\t: 64\n",
            "address sizes\t: 46 bits physical, 48 bits virtual\n",
            "power management:\n",
            "\n",
            "processor\t: 1\n",
            "vendor_id\t: GenuineIntel\n",
            "cpu family\t: 6\n",
            "model\t\t: 79\n",
            "model name\t: Intel(R) Xeon(R) CPU @ 2.20GHz\n",
            "stepping\t: 0\n",
            "microcode\t: 0xffffffff\n",
            "cpu MHz\t\t: 2200.220\n",
            "cache size\t: 56320 KB\n",
            "physical id\t: 0\n",
            "siblings\t: 2\n",
            "core id\t\t: 0\n",
            "cpu cores\t: 1\n",
            "apicid\t\t: 1\n",
            "initial apicid\t: 1\n",
            "fpu\t\t: yes\n",
            "fpu_exception\t: yes\n",
            "cpuid level\t: 13\n",
            "wp\t\t: yes\n",
            "flags\t\t: fpu vme de pse tsc msr pae mce cx8 apic sep mtrr pge mca cmov pat pse36 clflush mmx fxsr sse sse2 ss ht syscall nx pdpe1gb rdtscp lm constant_tsc rep_good nopl xtopology nonstop_tsc cpuid tsc_known_freq pni pclmulqdq ssse3 fma cx16 pcid sse4_1 sse4_2 x2apic movbe popcnt aes xsave avx f16c rdrand hypervisor lahf_lm abm 3dnowprefetch invpcid_single ssbd ibrs ibpb stibp fsgsbase tsc_adjust bmi1 hle avx2 smep bmi2 erms invpcid rtm rdseed adx smap xsaveopt arat md_clear arch_capabilities\n",
            "bugs\t\t: cpu_meltdown spectre_v1 spectre_v2 spec_store_bypass l1tf mds swapgs taa mmio_stale_data retbleed bhi\n",
            "bogomips\t: 4400.44\n",
            "clflush size\t: 64\n",
            "cache_alignment\t: 64\n",
            "address sizes\t: 46 bits physical, 48 bits virtual\n",
            "power management:\n",
            "\n"
          ]
        }
      ],
      "source": [
        "!cat /proc/cpuinfo"
      ]
    },
    {
      "cell_type": "markdown",
      "metadata": {
        "id": "N1ok_-56OjB1"
      },
      "source": [
        "# I Solving the Sum of Two Digits Programming Challenge"
      ]
    },
    {
      "cell_type": "markdown",
      "metadata": {
        "id": "MMY7kmDSO0KM"
      },
      "source": [
        "## C++"
      ]
    },
    {
      "cell_type": "code",
      "execution_count": 9,
      "metadata": {
        "colab": {
          "base_uri": "https://localhost:8080/"
        },
        "id": "2pGGf9BkPNIk",
        "outputId": "4815eb02-d050-40a7-f3dd-e5491614eca7"
      },
      "outputs": [
        {
          "output_type": "stream",
          "name": "stdout",
          "text": [
            "Overwriting APlusB.cpp\n"
          ]
        }
      ],
      "source": [
        "%%writefile APlusB.cpp\n",
        "#include <iostream>\n",
        "\n",
        "int sum_of_two_digits(int first_digit, int second_digit) {\n",
        "    return first_digit + second_digit;\n",
        "}\n",
        "\n",
        "int main() {\n",
        "    int a = 0;\n",
        "    int b = 0;\n",
        "    std::cin >> a;\n",
        "    std::cin >> b;\n",
        "    std::cout << sum_of_two_digits(a, b);\n",
        "    return 0;\n",
        "}"
      ]
    },
    {
      "cell_type": "code",
      "execution_count": 10,
      "metadata": {
        "colab": {
          "base_uri": "https://localhost:8080/"
        },
        "id": "0G3ZKOYAPXSU",
        "outputId": "377d6294-f3c3-46a8-8287-5f8a2288365c"
      },
      "outputs": [
        {
          "output_type": "stream",
          "name": "stdout",
          "text": [
            "^C\n"
          ]
        }
      ],
      "source": [
        "!g++ APlusB.cpp -o APlusB -std=c++11\n",
        "!./APlusB"
      ]
    },
    {
      "cell_type": "markdown",
      "metadata": {
        "id": "iNkG2HqfTl9c"
      },
      "source": [
        "### Test input output files"
      ]
    },
    {
      "cell_type": "code",
      "execution_count": 11,
      "metadata": {
        "colab": {
          "base_uri": "https://localhost:8080/"
        },
        "id": "aTzU2efzMxly",
        "outputId": "dd483b77-d8d0-4a28-b040-cc145007ff03"
      },
      "outputs": [
        {
          "output_type": "stream",
          "name": "stdout",
          "text": [
            "Writing input1.txt\n"
          ]
        }
      ],
      "source": [
        "%%writefile input1.txt\n",
        "4 8"
      ]
    },
    {
      "cell_type": "code",
      "execution_count": 12,
      "metadata": {
        "colab": {
          "base_uri": "https://localhost:8080/"
        },
        "id": "zBJ0Gc0NQRet",
        "outputId": "4549e628-29c4-4c3a-9fdf-73da92d7436d"
      },
      "outputs": [
        {
          "output_type": "stream",
          "name": "stdout",
          "text": [
            "Writing output1.txt\n"
          ]
        }
      ],
      "source": [
        "%%writefile output1.txt\n",
        "12"
      ]
    },
    {
      "cell_type": "code",
      "execution_count": 13,
      "metadata": {
        "colab": {
          "base_uri": "https://localhost:8080/"
        },
        "id": "IjEcIx63PJAN",
        "outputId": "12479e10-5f3d-4c6f-e853-830cc888a55e"
      },
      "outputs": [
        {
          "output_type": "stream",
          "name": "stdout",
          "text": [
            "Writing input2.txt\n"
          ]
        }
      ],
      "source": [
        "%%writefile input2.txt\n",
        "0 9"
      ]
    },
    {
      "cell_type": "code",
      "execution_count": 14,
      "metadata": {
        "colab": {
          "base_uri": "https://localhost:8080/"
        },
        "id": "Up9gOrxURTmd",
        "outputId": "9db05322-e7b4-4896-af5c-e54ef3e43527"
      },
      "outputs": [
        {
          "output_type": "stream",
          "name": "stdout",
          "text": [
            "Writing output2.txt\n"
          ]
        }
      ],
      "source": [
        "%%writefile output2.txt\n",
        "9"
      ]
    },
    {
      "cell_type": "code",
      "execution_count": 15,
      "metadata": {
        "colab": {
          "base_uri": "https://localhost:8080/"
        },
        "id": "PST6G-s-Pwgc",
        "outputId": "03d91684-95bd-4d59-9ff0-80d9fc130900"
      },
      "outputs": [
        {
          "output_type": "stream",
          "name": "stdout",
          "text": [
            "12"
          ]
        }
      ],
      "source": [
        "!./APlusB < input1.txt"
      ]
    },
    {
      "cell_type": "code",
      "execution_count": 16,
      "metadata": {
        "colab": {
          "base_uri": "https://localhost:8080/"
        },
        "id": "cKxZOjSlRfIN",
        "outputId": "3398f94f-8d51-4583-bc8b-0c789f1e326a"
      },
      "outputs": [
        {
          "output_type": "stream",
          "name": "stdout",
          "text": [
            "9"
          ]
        }
      ],
      "source": [
        "!./APlusB < input2.txt"
      ]
    },
    {
      "cell_type": "markdown",
      "metadata": {
        "id": "Qw2TQWCCUwqk"
      },
      "source": [
        "### Comparing files with grep\n",
        "\n",
        "https://askubuntu.com/questions/546796/comparing-two-text-files"
      ]
    },
    {
      "cell_type": "code",
      "execution_count": 17,
      "metadata": {
        "id": "Jlja0Xm4TX9M"
      },
      "outputs": [],
      "source": [
        "!./APlusB < input1.txt> ctest1.txt\n",
        "!grep -xvFf output1.txt ctest1.txt"
      ]
    },
    {
      "cell_type": "code",
      "execution_count": 18,
      "metadata": {
        "id": "g9OIUZA_QLCQ"
      },
      "outputs": [],
      "source": [
        "!./APlusB < input2.txt > ctest2.txt\n",
        "!grep -xvFf output2.txt ctest2.txt"
      ]
    },
    {
      "cell_type": "markdown",
      "metadata": {
        "id": "3BgOaDjUVJk6"
      },
      "source": [
        "## Python"
      ]
    },
    {
      "cell_type": "code",
      "execution_count": 19,
      "metadata": {
        "colab": {
          "base_uri": "https://localhost:8080/"
        },
        "id": "DBvl-T0CTN_8",
        "outputId": "ce49c57a-d86c-4827-939a-ca36e9edf00c"
      },
      "outputs": [
        {
          "output_type": "stream",
          "name": "stdout",
          "text": [
            "Writing sum.py\n"
          ]
        }
      ],
      "source": [
        "%%writefile sum.py\n",
        "# python3\n",
        "\n",
        "def sum_of_two_digits(first_digit, second_digit):\n",
        "    return first_digit + second_digit\n",
        "\n",
        "if __name__ == '__main__':\n",
        "    a, b = map(int, input().split())\n",
        "    print(sum_of_two_digits(a, b))"
      ]
    },
    {
      "cell_type": "code",
      "execution_count": 20,
      "metadata": {
        "colab": {
          "base_uri": "https://localhost:8080/"
        },
        "id": "QKoKM11_WGyF",
        "outputId": "4f8ef174-1939-473b-c2f4-fea8da090627"
      },
      "outputs": [
        {
          "output_type": "stream",
          "name": "stdout",
          "text": [
            "\n",
            "^C\n"
          ]
        }
      ],
      "source": [
        "!python sum.py"
      ]
    },
    {
      "cell_type": "code",
      "execution_count": 21,
      "metadata": {
        "id": "cocFbPRTWrqt"
      },
      "outputs": [],
      "source": [
        "!python sum.py  < input1.txt> ptest1.txt\n",
        "!grep -xvFf output1.txt ptest1.txt"
      ]
    },
    {
      "cell_type": "code",
      "execution_count": 22,
      "metadata": {
        "id": "MorKTa-XXASN"
      },
      "outputs": [],
      "source": [
        "!python sum.py  < input2.txt> ptest2.txt\n",
        "!grep -xvFf output2.txt ptest2.txt"
      ]
    },
    {
      "cell_type": "markdown",
      "metadata": {
        "id": "uvP-mOubW_5F"
      },
      "source": [
        "# II Solving The Maximum Pairwise Product Programming Challenge in C++"
      ]
    },
    {
      "cell_type": "markdown",
      "metadata": {
        "id": "C12yoFR6Xonl"
      },
      "source": [
        "## C++\n",
        "\n",
        "$$ T(n) < 6 n^2 = O(n^2)$$"
      ]
    },
    {
      "cell_type": "code",
      "source": [
        "%%writefile max_pairwise_product_full.cpp\n",
        "#include <iostream>\n",
        "#include <vector>\n",
        "#include <algorithm>\n",
        "\n",
        "int MaxPairwiseProduct(const std::vector<int>& numbers) {\n",
        "    int max_product = 0;\n",
        "    int aux_product = 0;\n",
        "    int n = numbers.size();\n",
        "\n",
        "    for (int first = 0; first < n; ++first) {\n",
        "        for (int second = 0; second < n; ++second) {\n",
        "          if ( first != second ){\n",
        "                aux_product = numbers[first] * numbers[second];\n",
        "                if (aux_product > max_product)  max_product = aux_product;\n",
        "          }\n",
        "        }\n",
        "    }\n",
        "\n",
        "    return max_product;\n",
        "}\n",
        "\n",
        "int main() {\n",
        "    int n;\n",
        "    std::cin >> n;\n",
        "    std::vector<int> numbers(n);\n",
        "    for (int i = 0; i < n; ++i) {\n",
        "        std::cin >> numbers[i];\n",
        "    }\n",
        "\n",
        "    std::cout << MaxPairwiseProduct(numbers) << \"\\n\";\n",
        "    return 0;\n",
        "}"
      ],
      "metadata": {
        "colab": {
          "base_uri": "https://localhost:8080/"
        },
        "id": "3LpfoGv2Ae81",
        "outputId": "b79d8ffa-a1e6-45c6-f432-3194ea9fce73"
      },
      "execution_count": 23,
      "outputs": [
        {
          "output_type": "stream",
          "name": "stdout",
          "text": [
            "Writing max_pairwise_product_full.cpp\n"
          ]
        }
      ]
    },
    {
      "cell_type": "markdown",
      "metadata": {
        "id": "m75IQQPbEHBS"
      },
      "source": [
        "#### Time Complexity\n",
        "$$\\left. \\begin{array}{llc}\n",
        " \\text{INSTRUCTION} & \\text{TYPE}& \\text{# EXECUTIONS}\\\\\n",
        "\\text{first != second} &  \\text{comparisons} &n^2 \\\\\n",
        "\\text{numbers[first] * numbers[second]}& \\ \\text{ products}  &n^2 - n \\\\\n",
        "\\text{max_product = aux_product} &  \\text{assigments} & [1, \\frac{n^2 - n}{2})  \n",
        "\\end{array}\\right\\}  =  O(n^2)$$"
      ]
    },
    {
      "cell_type": "code",
      "source": [
        "!g++ max_pairwise_product_full.cpp -o max_pairwise_product_full\n",
        "!./max_pairwise_product_full"
      ],
      "metadata": {
        "id": "PCVo1h6nCF9k",
        "colab": {
          "base_uri": "https://localhost:8080/"
        },
        "outputId": "baa43243-2623-468d-baf2-2bf9ad892a86"
      },
      "execution_count": 24,
      "outputs": [
        {
          "output_type": "stream",
          "name": "stdout",
          "text": [
            "^C\n"
          ]
        }
      ]
    },
    {
      "cell_type": "markdown",
      "metadata": {
        "id": "e7KhxHGNS3i0"
      },
      "source": [
        "### Test 1: Small numbers"
      ]
    },
    {
      "cell_type": "code",
      "source": [
        "%%writefile input0.txt\n",
        "10\n",
        "0 0 0 0 0 0 0 0 0 0"
      ],
      "metadata": {
        "colab": {
          "base_uri": "https://localhost:8080/"
        },
        "id": "17npyXt7lYzA",
        "outputId": "30f0fe18-25e2-4dfd-b95d-6e52a792b65e"
      },
      "execution_count": 25,
      "outputs": [
        {
          "output_type": "stream",
          "name": "stdout",
          "text": [
            "Writing input0.txt\n"
          ]
        }
      ]
    },
    {
      "cell_type": "code",
      "source": [
        "%%writefile output0.txt\n",
        "0"
      ],
      "metadata": {
        "colab": {
          "base_uri": "https://localhost:8080/"
        },
        "id": "NooGEkJylezm",
        "outputId": "ea3692d4-f040-44af-c3f8-6193369c1c26"
      },
      "execution_count": 26,
      "outputs": [
        {
          "output_type": "stream",
          "name": "stdout",
          "text": [
            "Writing output0.txt\n"
          ]
        }
      ]
    },
    {
      "cell_type": "code",
      "source": [
        "!./max_pairwise_product_full< input0.txt > ctest0.txt\n",
        "!grep -xvFf output0.txt ctest0.txt"
      ],
      "metadata": {
        "id": "R0yFaAOrlqrE"
      },
      "execution_count": 27,
      "outputs": []
    },
    {
      "cell_type": "code",
      "execution_count": 28,
      "metadata": {
        "colab": {
          "base_uri": "https://localhost:8080/"
        },
        "id": "e1mmTzBgShT-",
        "outputId": "ac42b250-f26d-45c1-b86b-135adc3270b8"
      },
      "outputs": [
        {
          "output_type": "stream",
          "name": "stdout",
          "text": [
            "Overwriting input1.txt\n"
          ]
        }
      ],
      "source": [
        "%%writefile input1.txt\n",
        "10\n",
        "1 2 3 4 5 6 7 8 9 10"
      ]
    },
    {
      "cell_type": "code",
      "execution_count": 29,
      "metadata": {
        "colab": {
          "base_uri": "https://localhost:8080/"
        },
        "id": "vy_uI0x7TCId",
        "outputId": "61186377-bc66-4c07-fa4f-8dd0b6186195"
      },
      "outputs": [
        {
          "output_type": "stream",
          "name": "stdout",
          "text": [
            "/bin/bash: line 1: ./max_pairwise_product: No such file or directory\n"
          ]
        }
      ],
      "source": [
        "!./max_pairwise_product < input1.txt"
      ]
    },
    {
      "cell_type": "code",
      "execution_count": 30,
      "metadata": {
        "colab": {
          "base_uri": "https://localhost:8080/"
        },
        "id": "xaj6f9bxC6D6",
        "outputId": "2399c038-d463-4e6c-df2f-9237cdcbee86"
      },
      "outputs": [
        {
          "output_type": "stream",
          "name": "stdout",
          "text": [
            "Overwriting output1.txt\n"
          ]
        }
      ],
      "source": [
        "%%writefile output1.txt\n",
        "90"
      ]
    },
    {
      "cell_type": "code",
      "execution_count": 31,
      "metadata": {
        "id": "fYCjAdA_C-wy"
      },
      "outputs": [],
      "source": [
        "!./max_pairwise_product_full< input1.txt > ctest1.txt\n",
        "!grep -xvFf output1.txt ctest1.txt"
      ]
    },
    {
      "cell_type": "code",
      "source": [
        "%%writefile input2.txt\n",
        "10\n",
        "10 9 8 7 6 5 4 3 2 1"
      ],
      "metadata": {
        "colab": {
          "base_uri": "https://localhost:8080/"
        },
        "id": "ZPe40LY14_6f",
        "outputId": "c5d82d8a-6132-4641-bf84-920f0ba73352"
      },
      "execution_count": 32,
      "outputs": [
        {
          "output_type": "stream",
          "name": "stdout",
          "text": [
            "Overwriting input2.txt\n"
          ]
        }
      ]
    },
    {
      "cell_type": "code",
      "source": [
        "%%writefile output2.txt\n",
        "90"
      ],
      "metadata": {
        "colab": {
          "base_uri": "https://localhost:8080/"
        },
        "id": "xiHmF7HA5Faa",
        "outputId": "1ba38ae6-fc97-40f0-ba5e-7ca2399e74ce"
      },
      "execution_count": 33,
      "outputs": [
        {
          "output_type": "stream",
          "name": "stdout",
          "text": [
            "Overwriting output2.txt\n"
          ]
        }
      ]
    },
    {
      "cell_type": "code",
      "source": [
        "!./max_pairwise_product_full< input2.txt > ctest2.txt\n",
        "!grep -xvFf output2.txt ctest2.txt"
      ],
      "metadata": {
        "id": "jjwc9kwb5t_k"
      },
      "execution_count": 34,
      "outputs": []
    },
    {
      "cell_type": "markdown",
      "metadata": {
        "id": "IeZ3kTjpYmR9"
      },
      "source": [
        "### Test 2: largest input numbers 200000 200000 to check possible intger overflow"
      ]
    },
    {
      "cell_type": "code",
      "execution_count": 158,
      "metadata": {
        "colab": {
          "base_uri": "https://localhost:8080/"
        },
        "id": "LQNlZqaqYt7U",
        "outputId": "3b0e5aa1-fa82-41f2-e4c0-35b33774116c"
      },
      "outputs": [
        {
          "output_type": "stream",
          "name": "stdout",
          "text": [
            "Overwriting input3.txt\n"
          ]
        }
      ],
      "source": [
        "%%writefile input3.txt\n",
        "6\n",
        "1 3 200000 9 200000 23"
      ]
    },
    {
      "cell_type": "code",
      "execution_count": 36,
      "metadata": {
        "colab": {
          "base_uri": "https://localhost:8080/"
        },
        "id": "GjQq7QOUCw-9",
        "outputId": "562f268f-0af7-4039-eb41-7962a1d11713"
      },
      "outputs": [
        {
          "output_type": "execute_result",
          "data": {
            "text/plain": [
              "40000000000"
            ]
          },
          "metadata": {},
          "execution_count": 36
        }
      ],
      "source": [
        "200000*200000"
      ]
    },
    {
      "cell_type": "code",
      "execution_count": 37,
      "metadata": {
        "colab": {
          "base_uri": "https://localhost:8080/"
        },
        "id": "EuS6n3jtDK5C",
        "outputId": "03ca4680-b211-4855-aaee-e8e2a171b569"
      },
      "outputs": [
        {
          "output_type": "stream",
          "name": "stdout",
          "text": [
            "Writing output3.txt\n"
          ]
        }
      ],
      "source": [
        "%%writefile output3.txt\n",
        "40000000000"
      ]
    },
    {
      "cell_type": "code",
      "execution_count": 38,
      "metadata": {
        "colab": {
          "base_uri": "https://localhost:8080/"
        },
        "id": "2Wad2VZUZDxR",
        "outputId": "29a263f8-697a-45fa-fa25-1ad79c4ae049"
      },
      "outputs": [
        {
          "output_type": "stream",
          "name": "stdout",
          "text": [
            "1345294336\n"
          ]
        }
      ],
      "source": [
        "!./max_pairwise_product_full < input3.txt"
      ]
    },
    {
      "cell_type": "code",
      "execution_count": 39,
      "metadata": {
        "colab": {
          "base_uri": "https://localhost:8080/"
        },
        "id": "pEvp1ieyDJGq",
        "outputId": "94452f69-c02c-4d8b-baaa-14ab70252200"
      },
      "outputs": [
        {
          "output_type": "stream",
          "name": "stdout",
          "text": [
            "1345294336\n"
          ]
        }
      ],
      "source": [
        "!./max_pairwise_product_full < input3.txt > ctest3.txt\n",
        "!grep -xvFf output3.txt ctest3.txt"
      ]
    },
    {
      "cell_type": "code",
      "source": [
        " %%writefile run_all_test.sh\n",
        "#!/bin/bash\n",
        "g++ max_pairwise_product_full.cpp -o max_pairwise_product_full\n",
        "for i in {0..3}\n",
        "do\n",
        "    ./max_pairwise_product_full < input$i.txt > ctest$i.txt\n",
        "    grep -xvFf output$i.txt ctest$i.txt\n",
        "done"
      ],
      "metadata": {
        "colab": {
          "base_uri": "https://localhost:8080/"
        },
        "id": "SrtJrKqM-God",
        "outputId": "6fa46bc9-7032-4fa8-fd22-48742ec3d3bf"
      },
      "execution_count": 40,
      "outputs": [
        {
          "output_type": "stream",
          "name": "stdout",
          "text": [
            "Writing run_all_test.sh\n"
          ]
        }
      ]
    },
    {
      "cell_type": "code",
      "source": [
        "!chmod u+x run_all_test.sh\n",
        "!./run_all_test.sh"
      ],
      "metadata": {
        "colab": {
          "base_uri": "https://localhost:8080/"
        },
        "id": "wGWMHtzS-QnA",
        "outputId": "e76ef3ca-7f67-4098-dea0-766ed9090e9e"
      },
      "execution_count": 41,
      "outputs": [
        {
          "output_type": "stream",
          "name": "stdout",
          "text": [
            "1345294336\n"
          ]
        }
      ]
    },
    {
      "cell_type": "markdown",
      "metadata": {
        "id": "H2SC0Qt5HCzz"
      },
      "source": [
        "### Changing the variables to long long"
      ]
    },
    {
      "cell_type": "code",
      "execution_count": 42,
      "metadata": {
        "colab": {
          "base_uri": "https://localhost:8080/"
        },
        "id": "MPcmsxiQZSfE",
        "outputId": "c8b2d1c7-f40a-4066-fd7d-543f60832550"
      },
      "outputs": [
        {
          "output_type": "stream",
          "name": "stdout",
          "text": [
            "Writing max_pairwise_product_long_full.cpp\n"
          ]
        }
      ],
      "source": [
        "%%writefile max_pairwise_product_long_full.cpp\n",
        "#include <iostream>\n",
        "#include <vector>\n",
        "#include <algorithm>\n",
        "\n",
        "long long MaxPairwiseProduct(const std::vector<int>& numbers) {\n",
        "    long long max_product = 0LL;\n",
        "\t  long long aux_product = 0LL;\n",
        "    int n = numbers.size();\n",
        "\n",
        "    for (int first = 0; first < n; ++first) {\n",
        "        for (int second = 0; second < n; ++second) {\n",
        "          if ( first != second){\n",
        "                aux_product = (long long) numbers[first] * numbers[second];\n",
        "                if (aux_product > max_product)  max_product = aux_product;\n",
        "          }\n",
        "        }\n",
        "    }\n",
        "\n",
        "\n",
        "    return max_product;\n",
        "}\n",
        "\n",
        "int main() {\n",
        "    int n;\n",
        "    std::cin >> n;\n",
        "    std::vector<int> numbers(n);\n",
        "    for (int i = 0; i < n; ++i) {\n",
        "        std::cin >> numbers[i];\n",
        "    }\n",
        "\n",
        "    std::cout << MaxPairwiseProduct(numbers) << \"\\n\";\n",
        "    return 0;\n",
        "}\n"
      ]
    },
    {
      "cell_type": "code",
      "source": [
        "!g++ max_pairwise_product_long_full.cpp -o max_pairwise_product_long_full"
      ],
      "metadata": {
        "id": "W3xQpFXL6wjO"
      },
      "execution_count": 43,
      "outputs": []
    },
    {
      "cell_type": "code",
      "source": [
        "!./max_pairwise_product_long_full < input3.txt"
      ],
      "metadata": {
        "colab": {
          "base_uri": "https://localhost:8080/"
        },
        "id": "H5dvN9M3R9sV",
        "outputId": "641575ae-ab84-4737-bcc0-e59a8ad0c551"
      },
      "execution_count": 44,
      "outputs": [
        {
          "output_type": "stream",
          "name": "stdout",
          "text": [
            "40000000000\n"
          ]
        }
      ]
    },
    {
      "cell_type": "markdown",
      "source": [
        "### Runing multuple test with a bash shell"
      ],
      "metadata": {
        "id": "gx-sEYdfQ8f8"
      }
    },
    {
      "cell_type": "code",
      "source": [
        " %%writefile run_all_test.sh\n",
        "#!/bin/bash\n",
        "g++ max_pairwise_product_long_full.cpp -o max_pairwise_product_long_full\n",
        "for i in {1..3}\n",
        "do\n",
        "    ./max_pairwise_product_long_full < input$i.txt > ctest$i.txt\n",
        "    grep -xvFf output$i.txt ctest$i.txt\n",
        "done"
      ],
      "metadata": {
        "colab": {
          "base_uri": "https://localhost:8080/"
        },
        "id": "O9qsq2nn7elw",
        "outputId": "36e02de9-deb1-4e2e-e91c-2b083fbc76a0"
      },
      "execution_count": 45,
      "outputs": [
        {
          "output_type": "stream",
          "name": "stdout",
          "text": [
            "Overwriting run_all_test.sh\n"
          ]
        }
      ]
    },
    {
      "cell_type": "code",
      "source": [
        "!chmod u+x run_all_test.sh\n",
        "!./run_all_test.sh"
      ],
      "metadata": {
        "id": "0g5kKVph7xIA"
      },
      "execution_count": 46,
      "outputs": []
    },
    {
      "cell_type": "markdown",
      "metadata": {
        "id": "XPVHkHxH6_7s"
      },
      "source": [
        "### Test 3  stress tests, 6 testing cases files input4.txt/output4.txt .. input10.txt/output10.txt\n",
        "\n",
        "---\n",
        "\n"
      ]
    },
    {
      "cell_type": "code",
      "source": [
        "%%writefile input4.txt\n",
        "5\n",
        "876 435 921 123 456789"
      ],
      "metadata": {
        "colab": {
          "base_uri": "https://localhost:8080/"
        },
        "id": "o9Kadhbb8rG3",
        "outputId": "c44df1d7-5760-4d27-8d8c-488d016dd107"
      },
      "execution_count": 159,
      "outputs": [
        {
          "output_type": "stream",
          "name": "stdout",
          "text": [
            "Writing input4.txt\n"
          ]
        }
      ]
    },
    {
      "cell_type": "code",
      "execution_count": 47,
      "metadata": {
        "id": "PwqpBmYr69fu",
        "colab": {
          "base_uri": "https://localhost:8080/"
        },
        "outputId": "ceec7223-bba3-4ae8-c937-b8254d2c3ee6"
      },
      "outputs": [
        {
          "output_type": "stream",
          "name": "stdout",
          "text": [
            "Writing input5.txt\n"
          ]
        }
      ],
      "source": [
        "%%writefile input5.txt\n",
        "5\n",
        "876 435 921 123 456789"
      ]
    },
    {
      "cell_type": "code",
      "execution_count": 48,
      "metadata": {
        "id": "jBCkMeR6Fw4y",
        "colab": {
          "base_uri": "https://localhost:8080/"
        },
        "outputId": "aa1207ac-ec39-4f28-c200-0a1ca4c04029"
      },
      "outputs": [
        {
          "output_type": "stream",
          "name": "stdout",
          "text": [
            "Writing input6.txt\n"
          ]
        }
      ],
      "source": [
        "%%writefile input6.txt\n",
        "5\n",
        "101 202 303 404 50505"
      ]
    },
    {
      "cell_type": "code",
      "source": [
        "%%writefile input7.txt\n",
        "6\n",
        "321 654 987 111 222 333444"
      ],
      "metadata": {
        "id": "zED8V8wu-eoM",
        "colab": {
          "base_uri": "https://localhost:8080/"
        },
        "outputId": "e542c418-a63f-4db7-cdfb-f2525f352b16"
      },
      "execution_count": 49,
      "outputs": [
        {
          "output_type": "stream",
          "name": "stdout",
          "text": [
            "Writing input7.txt\n"
          ]
        }
      ]
    },
    {
      "cell_type": "code",
      "source": [
        "%%writefile input8.txt\n",
        "7\n",
        "111 222 333 444 555 666 777888"
      ],
      "metadata": {
        "colab": {
          "base_uri": "https://localhost:8080/"
        },
        "id": "U7jy4xyWO2GY",
        "outputId": "ad266f5f-59bd-41eb-9451-9b56ca92a54c"
      },
      "execution_count": 50,
      "outputs": [
        {
          "output_type": "stream",
          "name": "stdout",
          "text": [
            "Writing input8.txt\n"
          ]
        }
      ]
    },
    {
      "cell_type": "code",
      "source": [
        "%%writefile input9.txt\n",
        "8\n",
        "10 20 30 40 50 60 70 80000"
      ],
      "metadata": {
        "colab": {
          "base_uri": "https://localhost:8080/"
        },
        "id": "5Ch5PlAFO19u",
        "outputId": "92514cdc-57bb-4d76-b5c9-d0db7ada2bb5"
      },
      "execution_count": 51,
      "outputs": [
        {
          "output_type": "stream",
          "name": "stdout",
          "text": [
            "Writing input9.txt\n"
          ]
        }
      ]
    },
    {
      "cell_type": "code",
      "source": [
        "%%writefile input10.txt\n",
        "5\n",
        "90909 80808 70707 60606 50505"
      ],
      "metadata": {
        "colab": {
          "base_uri": "https://localhost:8080/"
        },
        "id": "azs35n7HO1zn",
        "outputId": "d5c4bef4-8dd2-4a79-dfd4-f32d2ccd0b00"
      },
      "execution_count": 52,
      "outputs": [
        {
          "output_type": "stream",
          "name": "stdout",
          "text": [
            "Writing input10.txt\n"
          ]
        }
      ]
    },
    {
      "cell_type": "code",
      "source": [
        "!./max_pairwise_product_long_full < input5.txt > output5.txt\n",
        "!./max_pairwise_product_long_full < input6.txt > output6.txt\n",
        "!./max_pairwise_product_long_full < input7.txt > output7.txt\n",
        "!./max_pairwise_product_long_full < input8.txt > output8.txt\n",
        "!./max_pairwise_product_long_full < input9.txt > output9.txt\n",
        "!./max_pairwise_product_long_full < input10.txt > output10.txt"
      ],
      "metadata": {
        "id": "VdyV92GiP1K2"
      },
      "execution_count": 160,
      "outputs": []
    },
    {
      "cell_type": "markdown",
      "metadata": {
        "id": "9z9yr5QkeyJF"
      },
      "source": [
        "### Test 4  time test  measure the execution time running with the the largest worst cases input11.txt  (200000 increasing numbers) and input12.txt (199998 increasing numbers and  200000, 200000 at the end)"
      ]
    },
    {
      "cell_type": "code",
      "source": [
        "# input11.txt 200000 increasing numbers:  1 2 .. 200000\n",
        "\n",
        "%%writefile WriteTest.cpp\n",
        "\n",
        "#include <iostream>\n",
        "#include <fstream>\n",
        "#include <cstdlib>\n",
        "\n",
        "using namespace std;\n",
        "\n",
        "int main() {\n",
        "  // Create and open a text file\n",
        "  ofstream MyFile(\"input11.txt\");\n",
        "\n",
        " MyFile << 200000 <<\"\\n\";  // n\n",
        " for (int i=1; i <200001; i++){\n",
        "     MyFile << i <<\" \";\n",
        " }\n",
        "\n",
        "  // Close the file\n",
        "  MyFile.close();\n",
        "}"
      ],
      "metadata": {
        "colab": {
          "base_uri": "https://localhost:8080/"
        },
        "id": "UmB1ipWM_nSk",
        "outputId": "cf4d5e8e-2965-411d-d484-6d702b1e4ab3"
      },
      "execution_count": 161,
      "outputs": [
        {
          "output_type": "stream",
          "name": "stdout",
          "text": [
            "Overwriting WriteTest.cpp\n"
          ]
        }
      ]
    },
    {
      "cell_type": "code",
      "execution_count": 162,
      "metadata": {
        "id": "EH25TkOkZfD9"
      },
      "outputs": [],
      "source": [
        "!g++ WriteTest.cpp -o WriteTest\n",
        "!./WriteTest"
      ]
    },
    {
      "cell_type": "code",
      "source": [
        "199999 * 200000"
      ],
      "metadata": {
        "colab": {
          "base_uri": "https://localhost:8080/"
        },
        "id": "j0mokSOnCCtZ",
        "outputId": "cd89f9d7-e537-4cf9-ddc2-971a6da2e257"
      },
      "execution_count": 163,
      "outputs": [
        {
          "output_type": "execute_result",
          "data": {
            "text/plain": [
              "39999800000"
            ]
          },
          "metadata": {},
          "execution_count": 163
        }
      ]
    },
    {
      "cell_type": "code",
      "source": [
        "%%writefile output11.txt\n",
        "39999800000"
      ],
      "metadata": {
        "id": "VoDhDV73B5Mo",
        "colab": {
          "base_uri": "https://localhost:8080/"
        },
        "outputId": "2f1cef24-1987-45d2-beb1-e40a8a8b2154"
      },
      "execution_count": 164,
      "outputs": [
        {
          "output_type": "stream",
          "name": "stdout",
          "text": [
            "Overwriting output11.txt\n"
          ]
        }
      ]
    },
    {
      "cell_type": "code",
      "execution_count": 165,
      "metadata": {
        "colab": {
          "base_uri": "https://localhost:8080/"
        },
        "id": "oLiMjbAIfPlX",
        "outputId": "44910b43-f8d4-40e1-f3b9-de4ce47ee690"
      },
      "outputs": [
        {
          "output_type": "stream",
          "name": "stdout",
          "text": [
            "Overwriting WriteTest.cpp\n"
          ]
        }
      ],
      "source": [
        "# input12.txt 200000 decreasing numbers and 200000, 199999 ...  2 1\n",
        "\n",
        "%%writefile WriteTest.cpp\n",
        "\n",
        "#include <iostream>\n",
        "#include <fstream>\n",
        "#include <cstdlib>\n",
        "\n",
        "using namespace std;\n",
        "\n",
        "int main() {\n",
        "  // Create and open a text file\n",
        "  ofstream MyFile(\"input12.txt\");\n",
        "\n",
        " MyFile << 200000 <<\"\\n\";  // n\n",
        " for (int i=1; i <200001; i++){\n",
        "     MyFile << 200001-i <<\" \";\n",
        " }\n",
        "\n",
        "  // Close the file\n",
        "  MyFile.close();\n",
        "}"
      ]
    },
    {
      "cell_type": "code",
      "source": [
        "!g++ WriteTest.cpp -o WriteTest\n",
        "!./WriteTest"
      ],
      "metadata": {
        "id": "oULNBr_zAd9c"
      },
      "execution_count": 166,
      "outputs": []
    },
    {
      "cell_type": "code",
      "source": [
        "%%writefile output12.txt\n",
        "39999800000"
      ],
      "metadata": {
        "colab": {
          "base_uri": "https://localhost:8080/"
        },
        "id": "PQLyocaFB-y4",
        "outputId": "51c54029-e743-4955-ca44-41634178f72b"
      },
      "execution_count": 167,
      "outputs": [
        {
          "output_type": "stream",
          "name": "stdout",
          "text": [
            "Overwriting output12.txt\n"
          ]
        }
      ]
    },
    {
      "cell_type": "markdown",
      "metadata": {
        "id": "JB6f03qO-lj9"
      },
      "source": [
        "### Measure time\n",
        "\n",
        "https://askubuntu.com/questions/53444/how-can-i-measure-the-execution-time-of-a-terminal-process"
      ]
    },
    {
      "cell_type": "code",
      "execution_count": 168,
      "metadata": {
        "colab": {
          "base_uri": "https://localhost:8080/"
        },
        "id": "6p2QLEr576zk",
        "outputId": "ad18beae-ff74-4763-b357-c2fbebf1107e"
      },
      "outputs": [
        {
          "output_type": "stream",
          "name": "stdout",
          "text": [
            "2147483646\n",
            "\n",
            "real\t5m8.031s\n",
            "user\t5m5.285s\n",
            "sys\t0m0.061s\n"
          ]
        }
      ],
      "source": [
        "!g++ max_pairwise_product_long_full.cpp -o max_pairwise_product_long_full\n",
        "!time ./max_pairwise_product_long_full< input11.txt"
      ]
    },
    {
      "cell_type": "code",
      "source": [
        "!g++ max_pairwise_product_long_full.cpp -o max_pairwise_product_long_full\n",
        "!time ./max_pairwise_product_long_full< input12.txt"
      ],
      "metadata": {
        "colab": {
          "base_uri": "https://localhost:8080/"
        },
        "id": "cnjCyeUdAnZj",
        "outputId": "0d557217-a889-4d3b-83b7-e380a8c1e311"
      },
      "execution_count": 62,
      "outputs": [
        {
          "output_type": "stream",
          "name": "stdout",
          "text": [
            "^C\n"
          ]
        }
      ]
    },
    {
      "cell_type": "markdown",
      "metadata": {
        "id": "FXClpBsUJuXC"
      },
      "source": [
        "### Calculate the number or and upper bound to the number of instructions executed by the algorithm as a function of n, add in each line a comment with the number of instructions that are executed in that line."
      ]
    },
    {
      "cell_type": "code",
      "execution_count": 63,
      "metadata": {
        "colab": {
          "base_uri": "https://localhost:8080/"
        },
        "id": "uG6Mv-Pwlkii",
        "outputId": "05c0f612-bed8-4dde-87fb-669d1e144a34"
      },
      "outputs": [
        {
          "output_type": "stream",
          "name": "stdout",
          "text": [
            "Overwriting max_pairwise_product_long_full.cpp\n"
          ]
        }
      ],
      "source": [
        "%%writefile max_pairwise_product_long_full.cpp\n",
        "#include <iostream>\n",
        "#include <vector>\n",
        "#include <algorithm>\n",
        "\n",
        "long long MaxPairwiseProduct(const std::vector<int>& numbers) {              //INSTRUCTIONS executed by line\n",
        "    long long max_product = 0LL;                                             //1\n",
        "\t  long long aux_product = 0LL;                                             //1\n",
        "    int n = numbers.size();                                                  //1\n",
        "\n",
        "    for (int first = 0; first < n; ++first) {                                //2+2n\n",
        "        for (int second = 0; second < n; ++second) {                         //2n + 2n**2\n",
        "          if ( first != second ){                                            //n**2\n",
        "                aux_product = numbers[first] * numbers[second];              //n**2 -n\n",
        "                if (aux_product > max_product)                               //n**2 -n\n",
        "                    max_product = aux_product;                               //[0, n**2/2 - n/2] upper bound\n",
        "          }\n",
        "        }\n",
        "    }\n",
        "\n",
        "                                                                             // --------------\n",
        "    return max_product;                                                      // 5 + 2*n + [5*n**2, 11*n**2/2  - n/2]  upper bound\n",
        "}\n",
        "\n",
        "int main() {                                              //INSTRUCTIONS executed by line\n",
        "    int n;                                                //1\n",
        "    std::cin >> n;                                        //1\n",
        "    std::vector<int> numbers(n);                          //n\n",
        "    for (int i = 0; i < n; ++i) {                         //2 + 2n\n",
        "        std::cin >> numbers[i];                           //n\n",
        "    }\n",
        "\n",
        "    std::cout << MaxPairwiseProduct(numbers) << \"\\n\";     //1 + 1  + 5 + 2*n + [5*n**2, 11*n**2/2  - n/2]\n",
        "\n",
        "    return 0;                                             // --------------\n",
        "}                                                         //  11 + 6*n + [5*n**2, 11*n**2/2  - n/2]  upper bound\n"
      ]
    },
    {
      "cell_type": "markdown",
      "metadata": {
        "id": "0vTsUg8OwcHs"
      },
      "source": [
        "### Count executed intructions in code"
      ]
    },
    {
      "cell_type": "code",
      "execution_count": 64,
      "metadata": {
        "colab": {
          "base_uri": "https://localhost:8080/"
        },
        "id": "CuRKkqQc137V",
        "outputId": "2ba82a0b-2e00-45d7-d491-55887dab6f5f"
      },
      "outputs": [
        {
          "output_type": "stream",
          "name": "stdout",
          "text": [
            "Writing max_pairwise_product_long_full_execints.cpp\n"
          ]
        }
      ],
      "source": [
        "%%writefile max_pairwise_product_long_full_execints.cpp\n",
        "#include <iostream>\n",
        "#include <vector>\n",
        "#include <algorithm>\n",
        "\n",
        "long long MaxPairwiseProduct(const std::vector<int>& numbers, long long &execints) {      //INSTRUCTIONS executed by line\n",
        "\n",
        "    long long max_product = 0LL;                                                          //1\n",
        "    execints++;\n",
        "\n",
        "\t  long long aux_product = 0LL;                                                          //1\n",
        "    execints++;\n",
        "\n",
        "    int n = numbers.size();                                                               //1\n",
        "    execints++;\n",
        "\n",
        "    execints++;\n",
        "    for (int first = 0; first < n; ++first) {                                             //2+2n\n",
        "        execints += 2;\n",
        "\n",
        "        execints++;\n",
        "        for (int second = 0; second < n; ++second) {                                       //2n + 2n**2\n",
        "          execints += 2;\n",
        "\n",
        "          execints++;\n",
        "          if ( first != second ){                                                         //n**2\n",
        "                aux_product = numbers[first] * numbers[second];                           //n**2 -n\n",
        "                execints++;\n",
        "\n",
        "                execints++;\n",
        "                if (aux_product > max_product){                                           //n**2 -n\n",
        "                    max_product = aux_product;                                            //[0,n**2/2 - n/2)  upper bound\n",
        "                    execints++;\n",
        "\n",
        "                }\n",
        "        }\n",
        "\n",
        "      }\n",
        "      execints++;\n",
        "    }\n",
        "    execints++;\n",
        "                                                                                        // --------------\n",
        "    return max_product;                                                                 // 5 + 2*n + [5*n**2, 11*n**2/2  - n/2] upper bound\n",
        "}\n",
        "\n",
        "int main() {                                                 //INSTRUCTIONS executed by line\n",
        "\n",
        "    long long execints =0LL;\n",
        "\n",
        "    int n;                                                   //1\n",
        "    execints++;\n",
        "\n",
        "    std::cin >> n;                                           //1\n",
        "    execints++;\n",
        "\n",
        "    std::vector<int> numbers(n);                             //n\n",
        "    execints += n;\n",
        "\n",
        "    execints++;\n",
        "    for (int i = 0; i < n; ++i) {                            //2 + 2n\n",
        "        execints += 2;\n",
        "\n",
        "        std::cin >> numbers[i];\n",
        "        execints++;                                          //n\n",
        "\n",
        "    }\n",
        "\n",
        "\n",
        "    //std::cout << MaxPairwiseProduct(numbers) << \"\\n\";      //1 + 1  + 5 + 2*n + [5*n**2, 11*n**2/2  - n/2] upper bound\n",
        "\n",
        "    execints++;\n",
        "    int M = MaxPairwiseProduct(numbers,execints);\n",
        "\n",
        "    execints++;\n",
        "    std::cout <<  execints << \"\\n\";\n",
        "    return 0;                                                // --------------\n",
        "}                                                            // 11 + 6*n + [5*n**2, 11*n**2/2  - n/2]"
      ]
    },
    {
      "cell_type": "markdown",
      "source": [
        "The number of instructions executed by the algooirithm with a list of size $n$ is  \n",
        "\n",
        "$$T (n) = 11 + 6n + \\left[5n^2, 11\\frac{n^2}{2}  - \\frac{n}{2}\\right)  >  6n^2 = O(n^2)$$\n",
        "\n",
        "It depends on the size of the lists and  the order of the list.\n",
        "\n",
        "For the input0.txt\n",
        "```\n",
        "10\n",
        "0 0 0 0 0 0 0 0 0 0\n",
        "```\n",
        "$$T = 11 + 6(10) + 5(10)^2   = 561 $$\n",
        "\n",
        "$$T(10) \\in [571, 621)  $$\n"
      ],
      "metadata": {
        "id": "cUjHtvtdDsmr"
      }
    },
    {
      "cell_type": "code",
      "source": [
        "!g++ max_pairwise_product_long_full_execints.cpp -o max_pairwise_product_long_full_execints\n",
        "!./max_pairwise_product_long_full_execints < input0.txt"
      ],
      "metadata": {
        "colab": {
          "base_uri": "https://localhost:8080/"
        },
        "id": "Om9Fevb0miAT",
        "outputId": "3c3fa65f-f8ec-4d64-e0ec-14d1cbbe5dc2"
      },
      "execution_count": 65,
      "outputs": [
        {
          "output_type": "stream",
          "name": "stdout",
          "text": [
            "570\n"
          ]
        }
      ]
    },
    {
      "cell_type": "markdown",
      "source": [
        "For the input1.txt\n",
        "```\n",
        "10\n",
        "1 2 3 4 5 6 7 8 9 10\n",
        "```\n",
        "$$T = 11 + 6(10) + 5(10)^2 +  9 + 5 + 4 + 3 + 2 + 2 + 2 + 2 + 1 + 0  = 601 $$\n",
        "\n",
        "$$T(10) \\in [572, 622)  $$\n"
      ],
      "metadata": {
        "id": "FwJzZ6VzmArY"
      }
    },
    {
      "cell_type": "code",
      "source": [
        "#The number of times that  max_product = aux_product; in the worst case is less than (n**2 -n)/2 -  upper bound\n",
        "\n",
        "#     1  2  3  4  5  6  7  8  9  10\n",
        "#  1  x  2  3  4  5  6  7  8  9  10         9\n",
        "#  2  2  x  6  8  10 12 14 16 18 20         5 14\n",
        "#  3  3  6  x  12 15 18 21 24 27 30         4 18\n",
        "#  4  4  8  12 x  20 24 28 32 36 40         3 21\n",
        "#  5  5  10 15 20 x  30 35 40 45 50         2 23\n",
        "#  6  6  12 18 24 30 x  42 48 54 60         2 25\n",
        "#  7  7  14 21 28 35 42 x  56 63 70         2 27\n",
        "#  8  8  18 27 36 45 54 63 72 x  90         1 30\n",
        "#  10 10 20 30 40 50 60 70 60 90 x          0"
      ],
      "metadata": {
        "id": "K59xQMWiBNFj"
      },
      "execution_count": 66,
      "outputs": []
    },
    {
      "cell_type": "code",
      "source": [
        "11 + 6*(10) + 5*(10)*(10) +  9 + 5 + 4 + 3 + 2 + 2 + 2 + 2 + 1 + 0"
      ],
      "metadata": {
        "colab": {
          "base_uri": "https://localhost:8080/"
        },
        "id": "E3O8dzFfEgir",
        "outputId": "0d511f14-3cec-49aa-cffa-2854f244d5a7"
      },
      "execution_count": 67,
      "outputs": [
        {
          "output_type": "execute_result",
          "data": {
            "text/plain": [
              "601"
            ]
          },
          "metadata": {},
          "execution_count": 67
        }
      ]
    },
    {
      "cell_type": "code",
      "source": [
        "n = 10\n",
        "print( \"[\", 11 + 6*n + 5*n**2,  \",\", 11 + 6*n  + 5.5*n**2, \")\")"
      ],
      "metadata": {
        "colab": {
          "base_uri": "https://localhost:8080/"
        },
        "id": "TCpdl5u_Gq1a",
        "outputId": "fc41d5fc-2722-456c-8846-be2d17756cec"
      },
      "execution_count": 68,
      "outputs": [
        {
          "output_type": "stream",
          "name": "stdout",
          "text": [
            "[ 571 , 621.0 )\n"
          ]
        }
      ]
    },
    {
      "cell_type": "code",
      "execution_count": 69,
      "metadata": {
        "colab": {
          "base_uri": "https://localhost:8080/"
        },
        "id": "Kuvm1C05ly2a",
        "outputId": "3093e296-b272-4d84-cef6-c03c65fbc8d5"
      },
      "outputs": [
        {
          "output_type": "stream",
          "name": "stdout",
          "text": [
            "600\n"
          ]
        }
      ],
      "source": [
        "!g++ max_pairwise_product_long_full_execints.cpp -o max_pairwise_product_long_full_execints\n",
        "!./max_pairwise_product_long_full_execints < input1.txt"
      ]
    },
    {
      "cell_type": "markdown",
      "source": [
        "\n",
        "For the input2.txt\n",
        "```\n",
        "10\n",
        "10 9 8 7 6 5 4 3 2 1\n",
        "```\n",
        "$$T = 11 + 6*(10) + 5*(10)**2 +  1  = 571 $$"
      ],
      "metadata": {
        "id": "Yr_Lb7CaHfxB"
      }
    },
    {
      "cell_type": "code",
      "source": [
        "11 + 6*(10) + 5*(10)**2 +  1"
      ],
      "metadata": {
        "colab": {
          "base_uri": "https://localhost:8080/"
        },
        "id": "HOdqlwJiZUIp",
        "outputId": "e7a1d153-7908-430f-b499-bcc453ee9ec5"
      },
      "execution_count": 70,
      "outputs": [
        {
          "output_type": "execute_result",
          "data": {
            "text/plain": [
              "572"
            ]
          },
          "metadata": {},
          "execution_count": 70
        }
      ]
    },
    {
      "cell_type": "code",
      "source": [
        "!g++ max_pairwise_product_long_full_execints.cpp -o max_pairwise_product_long_full_execints\n",
        "!./max_pairwise_product_long_full_execints < input2.txt"
      ],
      "metadata": {
        "id": "_znzLectjFSe",
        "colab": {
          "base_uri": "https://localhost:8080/"
        },
        "outputId": "8e763962-b278-41ec-87bf-9c2efcc75aad"
      },
      "execution_count": 71,
      "outputs": [
        {
          "output_type": "stream",
          "name": "stdout",
          "text": [
            "571\n"
          ]
        }
      ]
    },
    {
      "cell_type": "markdown",
      "metadata": {
        "id": "NXW7QkoBL6xH"
      },
      "source": [
        "Calculate estimated time by instruction and number of instructions by second"
      ]
    },
    {
      "cell_type": "markdown",
      "source": [
        "For the input11.txt\n",
        "```\n",
        "200000\n",
        "1 2 ..  199999 2000\n",
        "```\n",
        "$$T = 11 + 6*(200000) + 5.5*(200000)**2  = 200001200012  $$"
      ],
      "metadata": {
        "id": "dlyRjaohz-YH"
      }
    },
    {
      "cell_type": "code",
      "source": [
        "!g++ max_pairwise_product_long_full_execints.cpp -o max_pairwise_product_long_full_execints\n",
        "!./max_pairwise_product_long_full_execints < input11.txt"
      ],
      "metadata": {
        "colab": {
          "base_uri": "https://localhost:8080/"
        },
        "id": "BMH8mF3EKn2w",
        "outputId": "b74ace82-24ce-43bd-8372-c17d76b22610"
      },
      "execution_count": 72,
      "outputs": [
        {
          "output_type": "stream",
          "name": "stdout",
          "text": [
            "^C\n"
          ]
        }
      ]
    },
    {
      "cell_type": "code",
      "execution_count": 73,
      "metadata": {
        "colab": {
          "base_uri": "https://localhost:8080/"
        },
        "id": "pKqB3i7dIxnc",
        "outputId": "c92ed139-40a4-4e43-811f-9bca889e7e7f"
      },
      "outputs": [
        {
          "output_type": "execute_result",
          "data": {
            "text/plain": [
              "1.4749765693187072e-09"
            ]
          },
          "metadata": {},
          "execution_count": 73
        }
      ],
      "source": [
        "# Estimated time by instruction\n",
        "# use the real reported  !time ./max_pairwise_product_long_full< input11.txt in seconds intead of the 295\n",
        "\n",
        "295/200003177092\n"
      ]
    },
    {
      "cell_type": "code",
      "execution_count": 74,
      "metadata": {
        "colab": {
          "base_uri": "https://localhost:8080/"
        },
        "id": "18N1ouqeMhE1",
        "outputId": "bf4bfaf8-bc12-457e-bff3-2d39f79e312a"
      },
      "outputs": [
        {
          "output_type": "execute_result",
          "data": {
            "text/plain": [
              "677976871.4983051"
            ]
          },
          "metadata": {},
          "execution_count": 74
        }
      ],
      "source": [
        "# Estimated number of instructions by second\n",
        "\n",
        "200003177092/295"
      ]
    },
    {
      "cell_type": "markdown",
      "source": [
        "### Estimate and verify the maximun n that can be solved in 1 second\n",
        "\n",
        "$$(5.5n^2 + 5.5n + 11) \\times 1.47*10^{-9} s = 1 s$$\n",
        "\n",
        "$$ n \\approx 11000$$\n"
      ],
      "metadata": {
        "id": "KyuxejFkL5X_"
      }
    },
    {
      "cell_type": "code",
      "source": [
        "# Verify input13.txt\n",
        "%%writefile WriteTest.cpp\n",
        "\n",
        "#include <iostream>\n",
        "#include <fstream>\n",
        "#include <cstdlib>\n",
        "\n",
        "using namespace std;\n",
        "\n",
        "int main() {\n",
        "  // Create and open a text file\n",
        "  ofstream MyFile(\"input13.txt\");\n",
        "\n",
        " MyFile << 11000 <<\"\\n\";  // n\n",
        " for (int i=1; i <11001; i++){\n",
        "     MyFile << i <<\" \";\n",
        " }\n",
        "\n",
        "  // Close the file\n",
        "  MyFile.close();\n",
        "}"
      ],
      "metadata": {
        "colab": {
          "base_uri": "https://localhost:8080/"
        },
        "id": "WXu5jp-DLTOI",
        "outputId": "ed9982b9-f473-4aa8-e2e8-1dbec0c6b0a8"
      },
      "execution_count": 75,
      "outputs": [
        {
          "output_type": "stream",
          "name": "stdout",
          "text": [
            "Overwriting WriteTest.cpp\n"
          ]
        }
      ]
    },
    {
      "cell_type": "code",
      "source": [
        "!g++ WriteTest.cpp -o WriteTest\n",
        "!./WriteTest"
      ],
      "metadata": {
        "id": "AQ8N52pUMCeT"
      },
      "execution_count": 76,
      "outputs": []
    },
    {
      "cell_type": "code",
      "source": [
        "10999 * 11000"
      ],
      "metadata": {
        "colab": {
          "base_uri": "https://localhost:8080/"
        },
        "id": "2iIOdbTrEtBx",
        "outputId": "aadfc7fe-923d-47f0-e14f-e6cc84672cf2"
      },
      "execution_count": 77,
      "outputs": [
        {
          "output_type": "execute_result",
          "data": {
            "text/plain": [
              "120989000"
            ]
          },
          "metadata": {},
          "execution_count": 77
        }
      ]
    },
    {
      "cell_type": "code",
      "source": [
        "!g++ max_pairwise_product_long_full.cpp -o max_pairwise_product_long_full\n",
        "!time ./max_pairwise_product_long_full< input13.txt"
      ],
      "metadata": {
        "colab": {
          "base_uri": "https://localhost:8080/"
        },
        "id": "ussuAokfM2du",
        "outputId": "890dc4cd-3a30-4417-a080-437f64ed1891"
      },
      "execution_count": 78,
      "outputs": [
        {
          "output_type": "stream",
          "name": "stdout",
          "text": [
            "120989000\n",
            "\n",
            "real\t0m1.452s\n",
            "user\t0m1.402s\n",
            "sys\t0m0.003s\n"
          ]
        }
      ]
    },
    {
      "cell_type": "markdown",
      "metadata": {
        "id": "Tm_AVmt-QQH4"
      },
      "source": [
        "## Python"
      ]
    },
    {
      "cell_type": "code",
      "execution_count": 79,
      "metadata": {
        "id": "gRCCcd7IQTKZ",
        "colab": {
          "base_uri": "https://localhost:8080/"
        },
        "outputId": "48a85e99-331c-4d98-ebf0-88cf5b912d9b"
      },
      "outputs": [
        {
          "output_type": "stream",
          "name": "stdout",
          "text": [
            "Overwriting max_pairwise_product_full.py\n"
          ]
        }
      ],
      "source": [
        "%%writefile max_pairwise_product_full.py\n",
        "n = int(input())                        #1\n",
        "list = input().split()                  #1\n",
        "list = [int(x) for x in list]           #n\n",
        "\n",
        "maxProduct = 0                          #1\n",
        "auxProduct = 0                          #1\n",
        "for i in range(0,n):                    #1+2n\n",
        "  for j in range(0,n):                  #n + 2n**2\n",
        "    if i!=j:                            #n**2\n",
        "      auxProduct = list[i]*list[j]      #n**2 -n\n",
        "    if maxProduct < auxProduct:         #n**2 -n\n",
        "      maxProduct = auxProduct           #[1, n**2/2 - n/2] upper bound\n",
        "\n",
        "                                        # --------------\n",
        "print(maxProduct)                       #5 + 3n + [5*n**2+1, 11*n**2/2  - n/2]"
      ]
    },
    {
      "cell_type": "code",
      "execution_count": 80,
      "metadata": {
        "id": "kAEAoNZEQTCw"
      },
      "outputs": [],
      "source": [
        "!python max_pairwise_product_full.py < input5.txt > output5.txt\n",
        "!python max_pairwise_product_full.py < input6.txt > output6.txt\n",
        "!python max_pairwise_product_full.py < input7.txt > output7.txt\n",
        "!python max_pairwise_product_full.py < input8.txt > output8.txt\n",
        "!python max_pairwise_product_full.py < input9.txt > output9.txt\n",
        "!python max_pairwise_product_full.py < input10.txt > output10.txt"
      ]
    },
    {
      "cell_type": "markdown",
      "source": [
        "# For the follwing solutions rquired  the same tests and analysis performed for the first solution"
      ],
      "metadata": {
        "id": "fEZR-3V4ZjCv"
      }
    },
    {
      "cell_type": "markdown",
      "metadata": {
        "id": "MKQKSC-vKePK"
      },
      "source": [
        "## Solutions in C++ and Python that uses\n",
        "$$\\frac{n^2 - n}{2} = O(n^2)\\ \\ \\text{products}$$"
      ]
    },
    {
      "cell_type": "code",
      "execution_count": 81,
      "metadata": {
        "id": "jkkHHoxSK65p",
        "colab": {
          "base_uri": "https://localhost:8080/"
        },
        "outputId": "83055913-5889-4c8c-f890-e0b2085edd0a"
      },
      "outputs": [
        {
          "output_type": "stream",
          "name": "stdout",
          "text": [
            "Writing max_pairwise_product.cpp\n"
          ]
        }
      ],
      "source": [
        "%%writefile max_pairwise_product.cpp\n",
        "#include <iostream>\n",
        "#include <vector>\n",
        "#include <algorithm>\n",
        "\n",
        "int MaxPairwiseProduct(const std::vector<int>& numbers) {\n",
        "    int max_product = 0;\n",
        "    int n = numbers.size();\n",
        "\n",
        "    for (int first = 0; first < n; ++first) {\n",
        "        for (int second = first + 1; second < n; ++second) {\n",
        "            max_product = std::max(max_product,\n",
        "                numbers[first] * numbers[second]);\n",
        "        }\n",
        "    }\n",
        "\n",
        "    return max_product;\n",
        "}\n",
        "\n",
        "int main() {\n",
        "    int n;\n",
        "    std::cin >> n;\n",
        "    std::vector<int> numbers(n);\n",
        "    for (int i = 0; i < n; ++i) {\n",
        "        std::cin >> numbers[i];\n",
        "    }\n",
        "\n",
        "    std::cout << MaxPairwiseProduct(numbers) << \"\\n\";\n",
        "    return 0;\n",
        "}"
      ]
    },
    {
      "cell_type": "code",
      "execution_count": 82,
      "metadata": {
        "id": "sU8-Ote7K8vz",
        "colab": {
          "base_uri": "https://localhost:8080/"
        },
        "outputId": "ed24d904-8b9d-4d22-f97b-57c3e821b301"
      },
      "outputs": [
        {
          "output_type": "stream",
          "name": "stdout",
          "text": [
            "Writing max_pairwise_product_long.cpp\n"
          ]
        }
      ],
      "source": [
        "%%writefile max_pairwise_product_long.cpp\n",
        "#include <iostream>\n",
        "#include <vector>\n",
        "#include <algorithm>\n",
        "\n",
        "long long MaxPairwiseProduct(const std::vector<int>& numbers) {              //INSTRUCTIONS executed by line\n",
        "    long long max_product = 0LL;                                             //1\n",
        "\t  long long aux_product = 0LL;                                             //1\n",
        "    int n = numbers.size();                                                  //1\n",
        "\n",
        "    for (int first = 0; first < n; ++first) {                                //2+2n\n",
        "        for (int second = first + 1; second < n; ++second) {                 //2n + (n-1)n\n",
        "\t\t\t       aux_product =  (long long) numbers[first] * numbers[second];    //(n-1)n/2\n",
        "            if (max_product < aux_product)  {                                //(n-1)n/2\n",
        "\t\t\t\t        max_product = aux_product;                                   //[1,(n-1)n/2)  upper bound\n",
        "             }\n",
        "        }\n",
        "    }\n",
        "                                                                             // --------------\n",
        "    return max_product;                                                      // 5 + 4n + [2(n-1)n+1, 2.5 (n-1)n) upper bound\n",
        "}\n",
        "\n",
        "int main() {                                              //INSTRUCTIONS executed by line\n",
        "    int n;                                                //1\n",
        "    std::cin >> n;                                        //1\n",
        "    std::vector<int> numbers(n);                          //n\n",
        "    for (int i = 0; i < n; ++i) {                         //2 + 2n\n",
        "        std::cin >> numbers[i];                           //n\n",
        "    }\n",
        "\n",
        "    std::cout << MaxPairwiseProduct(numbers) << \"\\n\";     //1 + 1  + 5 + 4n + [2(n-1)n+1, 2.5 (n-1)n) upper bound\n",
        "    return 0;                                             // --------------\n",
        "}                                                         // 11 + 7n + [2(n-1)n+1, 2.5 (n-1)n) upper bound\n"
      ]
    },
    {
      "cell_type": "markdown",
      "source": [
        "The number of instructions executed by the algorithm with a list of size $n$\n",
        " is\n",
        "$$\n",
        "T = 11 + 7n + [2(n-1)n + 1,2.5(n-1)n]\n",
        "$$\n",
        "\n",
        "It depends on the size of the lists and the order of the list."
      ],
      "metadata": {
        "id": "hdQzZREpyuTo"
      }
    },
    {
      "cell_type": "code",
      "execution_count": 83,
      "metadata": {
        "id": "5QWT3fneK8nw",
        "colab": {
          "base_uri": "https://localhost:8080/"
        },
        "outputId": "da0f3429-0ffb-4f37-e49e-463b6e38e378"
      },
      "outputs": [
        {
          "output_type": "stream",
          "name": "stdout",
          "text": [
            "90\n"
          ]
        }
      ],
      "source": [
        "!g++ max_pairwise_product_long.cpp -o max_pairwise_product_long\n",
        "!./max_pairwise_product_long < input1.txt"
      ]
    },
    {
      "cell_type": "code",
      "execution_count": 84,
      "metadata": {
        "id": "mxIVvm1RK8dB",
        "colab": {
          "base_uri": "https://localhost:8080/"
        },
        "outputId": "08a6a896-ba3e-4426-ca69-c6e70117cf39"
      },
      "outputs": [
        {
          "output_type": "stream",
          "name": "stdout",
          "text": [
            "Writing max_pairwise_product.py\n"
          ]
        }
      ],
      "source": [
        "%%writefile max_pairwise_product.py\n",
        "n = int(input())                        #1\n",
        "list = input().split()                  #1\n",
        "list = [int(x) for x in list]           #n\n",
        "\n",
        "maxProduct = 0                          #1\n",
        "auxProduct = 0                          #1\n",
        "for i in range(0,n):                    #1+2n\n",
        "  for j in range(i+1,n):                #((n**2)-n)/2\n",
        "    if i!=j:                            #((n**2)-n)/2\n",
        "      auxProduct = list[i]*list[j]      #((n**2)-n)/2\n",
        "    if maxProduct < auxProduct:         #((n**2)-n)/2\n",
        "      maxProduct = auxProduct           #[0,((n**2)-n)/2] upper bound\n",
        "\n",
        "                                        # --------------\n",
        "print(maxProduct)                       #5 + n + [5*n**2+1, 11*n**2/2  - n/2]"
      ]
    },
    {
      "cell_type": "code",
      "source": [
        "fileName = \"inputPy.txt\"\n",
        "\n",
        "with open(fileName, \"w\") as file:\n",
        "    file.write(\"20000\"+ \"\\n\")\n",
        "    for i in range(1,20001):\n",
        "        file.write(str(i) + \" \")"
      ],
      "metadata": {
        "id": "sk6YHNz1zK-h"
      },
      "execution_count": 85,
      "outputs": []
    },
    {
      "cell_type": "code",
      "source": [
        "!chmod +x max_pairwise_product.py\n",
        "\n",
        "!python max_pairwise_product.py < input3.txt > output3.txt\n",
        "!python max_pairwise_product.py < input4.txt > output4.txt\n",
        "!python max_pairwise_product.py < input5.txt > output5.txt\n",
        "!python max_pairwise_product.py < input6.txt > output6.txt\n",
        "!python max_pairwise_product.py < input7.txt > output7.txt\n",
        "!python max_pairwise_product.py < input8.txt > output8.txt\n",
        "!python max_pairwise_product.py < input9.txt > output9.txt\n",
        "!python max_pairwise_product.py < input10.txt > output10.txt"
      ],
      "metadata": {
        "id": "d2pRH4KHzMcj"
      },
      "execution_count": 169,
      "outputs": []
    },
    {
      "cell_type": "code",
      "source": [
        "import time\n",
        "\n",
        "start_time = time.time()\n",
        "!python max_pairwise_product.py < inputPy.txt\n",
        "\n",
        "end_time = time.time()\n",
        "execution_time = end_time - start_time\n",
        "print(f\"Execution time: {execution_time} segs\")\n",
        "print(f\"Execution time: {execution_time/60} min\")"
      ],
      "metadata": {
        "colab": {
          "base_uri": "https://localhost:8080/"
        },
        "id": "WVF_xq5XzOig",
        "outputId": "eaac2690-b7e7-40a5-8880-8db1ff4c6e5f"
      },
      "execution_count": 87,
      "outputs": [
        {
          "output_type": "stream",
          "name": "stdout",
          "text": [
            "399980000\n",
            "Execution time: 65.45843482017517 segs\n",
            "Execution time: 1.0909739136695862 min\n"
          ]
        }
      ]
    },
    {
      "cell_type": "markdown",
      "source": [
        "Contando los pasos"
      ],
      "metadata": {
        "id": "Ejo6uURHzRTr"
      }
    },
    {
      "cell_type": "code",
      "source": [
        "%%writefile max_pairwise_product_count.py\n",
        "op = 0\n",
        "xd =0\n",
        "n = int(input())                        #1\n",
        "op+=1\n",
        "list = input().split()                  #1\n",
        "op+=1\n",
        "list = [int(x) for x in list]           #n\n",
        "op += n\n",
        "\n",
        "maxProduct = 0                          #1\n",
        "op+=1\n",
        "auxProduct = 0                          #1\n",
        "op+=1\n",
        "for i in range(0,n):                    #1+2n\n",
        "  op+=1\n",
        "  op+=2\n",
        "  for j in range(i+1,n):                #((n**2)-n)/2\n",
        "    op+=1\n",
        "    if i!=j:                            #((n**2)-n)/2\n",
        "      auxProduct = list[i]*list[j]      #((n**2)-n)/2\n",
        "      op+=1\n",
        "      op+=1\n",
        "    op+=1\n",
        "    if maxProduct < auxProduct:         #n * (n - 1) / 2\n",
        "      maxProduct = auxProduct           #n * (n - 1) / 3\n",
        "      op+=1\n",
        "\n",
        "                                        # --------------For worst case\n",
        "print(\"Result: \"+str(maxProduct))\n",
        "print(\"Number of instructions: \"+str(op))"
      ],
      "metadata": {
        "colab": {
          "base_uri": "https://localhost:8080/"
        },
        "id": "hvdJWSKOzQmm",
        "outputId": "419901ff-94d4-413e-cd04-15fafe8b5cd6"
      },
      "execution_count": 88,
      "outputs": [
        {
          "output_type": "stream",
          "name": "stdout",
          "text": [
            "Overwriting max_pairwise_product_count.py\n"
          ]
        }
      ]
    },
    {
      "cell_type": "markdown",
      "source": [
        "### Estimate and verify the maximun n that can be solved in 1 second\n",
        "\n"
      ],
      "metadata": {
        "id": "zxCvxiB-XQJh"
      }
    },
    {
      "cell_type": "code",
      "source": [
        "%%time\n",
        "!g++ max_pairwise_product_long.cpp -o max_pairwise_product_long\n",
        "!./max_pairwise_product_long < input1.txt"
      ],
      "metadata": {
        "id": "Su8drkhrZwcp",
        "colab": {
          "base_uri": "https://localhost:8080/"
        },
        "outputId": "3b714fb5-645b-41bd-a6b6-4bb9a226e838"
      },
      "execution_count": 170,
      "outputs": [
        {
          "output_type": "stream",
          "name": "stdout",
          "text": [
            "90\n",
            "CPU times: user 12.5 ms, sys: 1.13 ms, total: 13.7 ms\n",
            "Wall time: 716 ms\n"
          ]
        }
      ]
    },
    {
      "cell_type": "code",
      "source": [
        "%%time\n",
        "!python max_pairwise_product_count.py < input11.txt"
      ],
      "metadata": {
        "colab": {
          "base_uri": "https://localhost:8080/"
        },
        "id": "089a48UrzZA7",
        "outputId": "133d80a4-18e4-4e54-cd06-7f9225cf746c"
      },
      "execution_count": 171,
      "outputs": [
        {
          "output_type": "stream",
          "name": "stdout",
          "text": [
            "Traceback (most recent call last):\n",
            "  File \"/content/max_pairwise_product_count.py\", line 24, in <module>\n",
            "    if maxProduct < auxProduct:         #n * (n - 1) / 2\n",
            "KeyboardInterrupt\n",
            "^C\n",
            "CPU times: user 637 ms, sys: 91.3 ms, total: 728 ms\n",
            "Wall time: 2min 28s\n"
          ]
        }
      ]
    },
    {
      "cell_type": "code",
      "source": [
        "time_per_ins = 0.001111 / 231\n",
        "instructions_per_second = 1 / time_per_ins\n",
        "print(f\"Time per instruction Python: {time_per_ins}\")\n",
        "print(f\"Instructions per second Python: {instructions_per_second}\")\n",
        "time_per_ins = 0.00325/ 254\n",
        "instructions_per_second = 1 / time_per_ins\n",
        "print(f\"Time per instruction C++: {time_per_ins}\")\n",
        "print(f\"Instructions per second C++: {instructions_per_second}\")"
      ],
      "metadata": {
        "colab": {
          "base_uri": "https://localhost:8080/"
        },
        "id": "vTMu8oGEzaUg",
        "outputId": "526f3e77-bb5d-45bb-aea4-0e523817f49a"
      },
      "execution_count": 91,
      "outputs": [
        {
          "output_type": "stream",
          "name": "stdout",
          "text": [
            "Time per instruction Python: 4.80952380952381e-06\n",
            "Instructions per second Python: 207920.7920792079\n",
            "Time per instruction C++: 1.279527559055118e-05\n",
            "Instructions per second C++: 78153.84615384616\n"
          ]
        }
      ]
    },
    {
      "cell_type": "markdown",
      "metadata": {
        "id": "1Hsbd-uHOb_j"
      },
      "source": [
        "# Sort solution in C++ and Python\n",
        "\n",
        "$$ O(n \\lg n)$$\n",
        "\n",
        "**Which sorting algorithm is used in GCC?**\n",
        "https://stackoverflow.com/questions/7221257/which-sorting-algorithm-is-used-in-gcc\n",
        "\n",
        "* ...  the algorithm is called introsort, a combination between Insertionsort, Quicksort & Heapsort. ...\n",
        "\n",
        "**Introsort**\n",
        "https://en.wikipedia.org/wiki/Introsort\n",
        "\n",
        "Introsort or introspective sort is a hybrid sorting algorithm that provides both fast average performance and (asymptotically) optimal worst-case performance. It begins with quicksort, it switches to heapsort when the recursion depth exceeds a level based on (the logarithm of) the number of elements being sorted and it switches to insertion sort when the number of elements is below some threshold\n",
        "\n",
        "*   Class\tSorting algorithm\n",
        "*   Data structure\tArray\n",
        "*   Worst-case performance\t$O(n \\lg n)$\n",
        "*   Average performance\t$O(n \\lg n)$\n",
        "\n",
        "**Tinsort**\n",
        "https://en.wikipedia.org/wiki/Timsort\n",
        "\n",
        "Timsort is a hybrid, stable sorting algorithm, derived from merge sort and insertion sort, designed to perform well on many kinds of real-world data. It was implemented by Tim Peters in 2002 for use in the Python programming language.\n",
        "\n",
        "*   Class\tSorting algorithm\n",
        "*   Data structure\tArray\n",
        "*   Worst-case performance\t$O(n \\lg n)$\n",
        "*   Best-case performance $O(n)$\n",
        "*   Average performance\t$O(n \\lg n)$\n",
        "*   Worst-case space complexity $O(n)$"
      ]
    },
    {
      "cell_type": "markdown",
      "metadata": {
        "id": "WMUthAXjOb_k"
      },
      "source": [
        "c++ sort"
      ]
    },
    {
      "cell_type": "code",
      "source": [
        "%%writefile max_pairwise_product_sort.cpp\n",
        "#include\n",
        "#include\n",
        "#include\n",
        "\n",
        "// Function to calculate the maximum pairwise product using sorting\n",
        "\n",
        "long long MaxPairwiseProduct(const std::vector& numbers) {\n",
        "    int n = numbers.size();\n",
        "\n",
        "    // Create a copy of the original vector to avoid modifying it\n",
        "    std::vector sorted_numbers(numbers);\n",
        "\n",
        "    // Sort the vector in ascending order\n",
        "    std::sort(sorted_numbers.begin(), sorted_numbers.end());\n",
        "\n",
        "    // Calculate the product of the two largest numbers\n",
        "    long long max_product = sorted_numbers[n - 1] * sorted_numbers[n - 2];\n",
        "\n",
        "    return max_product;\n",
        "}\n",
        "\n",
        "int main() {\n",
        "    int n;\n",
        "    std::cin >> n;\n",
        "    std::vector numbers(n);\n",
        "\n",
        "    // Input the numbers\n",
        "    for (int i = 0; i < n; ++i) {\n",
        "        std::cin >> numbers[i];\n",
        "    }\n",
        "\n",
        "    // Output the result\n",
        "    std::cout << MaxPairwiseProduct(numbers) << \"\\n\";\n",
        "    return 0;\n",
        "}"
      ],
      "metadata": {
        "id": "jnIRWyUEDu_C",
        "colab": {
          "base_uri": "https://localhost:8080/"
        },
        "outputId": "79bf8e5c-cd2d-426e-bf83-a4b224e7165a"
      },
      "execution_count": 186,
      "outputs": [
        {
          "output_type": "stream",
          "name": "stdout",
          "text": [
            "Overwriting max_pairwise_product_sort.cpp\n"
          ]
        }
      ]
    },
    {
      "cell_type": "code",
      "source": [
        "!g++ -o max_pairwise_product_sort max_pairwise_product_sort.cpp\n",
        "!chmod +x max_pairwise_product_sort.cpp\n",
        "!ls -l max_pairwise_product_sort.cpp max_pairwise_product_sort"
      ],
      "metadata": {
        "colab": {
          "base_uri": "https://localhost:8080/"
        },
        "id": "u7OtOxs60CgL",
        "outputId": "3312cb50-9680-44f5-aa25-ff4d84fa26bf"
      },
      "execution_count": 187,
      "outputs": [
        {
          "output_type": "stream",
          "name": "stdout",
          "text": [
            "\u001b[01m\u001b[Kmax_pairwise_product_sort.cpp:1:10:\u001b[m\u001b[K \u001b[01;31m\u001b[Kerror: \u001b[m\u001b[K#include expects \"FILENAME\" or <FILENAME>\n",
            "    1 | #include\n",
            "      |          \u001b[01;31m\u001b[K^\u001b[m\u001b[K\n",
            "\u001b[01m\u001b[Kmax_pairwise_product_sort.cpp:2:10:\u001b[m\u001b[K \u001b[01;31m\u001b[Kerror: \u001b[m\u001b[K#include expects \"FILENAME\" or <FILENAME>\n",
            "    2 | #include\n",
            "      |          \u001b[01;31m\u001b[K^\u001b[m\u001b[K\n",
            "\u001b[01m\u001b[Kmax_pairwise_product_sort.cpp:3:10:\u001b[m\u001b[K \u001b[01;31m\u001b[Kerror: \u001b[m\u001b[K#include expects \"FILENAME\" or <FILENAME>\n",
            "    3 | #include\n",
            "      |          \u001b[01;31m\u001b[K^\u001b[m\u001b[K\n",
            "\u001b[01m\u001b[Kmax_pairwise_product_sort.cpp:7:41:\u001b[m\u001b[K \u001b[01;31m\u001b[Kerror: \u001b[m\u001b[K‘\u001b[01m\u001b[Kvector\u001b[m\u001b[K’ in namespace ‘\u001b[01m\u001b[Kstd\u001b[m\u001b[K’ does not name a type\n",
            "    7 | long long MaxPairwiseProduct(const std::\u001b[01;31m\u001b[Kvector\u001b[m\u001b[K& numbers) {\n",
            "      |                                         \u001b[01;31m\u001b[K^~~~~~\u001b[m\u001b[K\n",
            "\u001b[01m\u001b[Kmax_pairwise_product_sort.cpp:1:1:\u001b[m\u001b[K \u001b[01;36m\u001b[Knote: \u001b[m\u001b[K‘\u001b[01m\u001b[Kstd::vector\u001b[m\u001b[K’ is defined in header ‘\u001b[01m\u001b[K<vector>\u001b[m\u001b[K’; did you forget to ‘\u001b[01m\u001b[K#include <vector>\u001b[m\u001b[K’?\n",
            "  +++ |+\u001b[32m\u001b[K#include <vector>\u001b[m\u001b[K\n",
            "    1 | #include\n",
            "\u001b[01m\u001b[Kmax_pairwise_product_sort.cpp:\u001b[m\u001b[K In function ‘\u001b[01m\u001b[Klong long int MaxPairwiseProduct(const int&)\u001b[m\u001b[K’:\n",
            "\u001b[01m\u001b[Kmax_pairwise_product_sort.cpp:8:21:\u001b[m\u001b[K \u001b[01;31m\u001b[Kerror: \u001b[m\u001b[Krequest for member ‘\u001b[01m\u001b[Ksize\u001b[m\u001b[K’ in ‘\u001b[01m\u001b[Knumbers\u001b[m\u001b[K’, which is of non-class type ‘\u001b[01m\u001b[Kconst int\u001b[m\u001b[K’\n",
            "    8 |     int n = numbers.\u001b[01;31m\u001b[Ksize\u001b[m\u001b[K();\n",
            "      |                     \u001b[01;31m\u001b[K^~~~\u001b[m\u001b[K\n",
            "\u001b[01m\u001b[Kmax_pairwise_product_sort.cpp:11:10:\u001b[m\u001b[K \u001b[01;31m\u001b[Kerror: \u001b[m\u001b[K‘\u001b[01m\u001b[Kvector\u001b[m\u001b[K’ is not a member of ‘\u001b[01m\u001b[Kstd\u001b[m\u001b[K’\n",
            "   11 |     std::\u001b[01;31m\u001b[Kvector\u001b[m\u001b[K sorted_numbers(numbers);\n",
            "      |          \u001b[01;31m\u001b[K^~~~~~\u001b[m\u001b[K\n",
            "\u001b[01m\u001b[Kmax_pairwise_product_sort.cpp:11:10:\u001b[m\u001b[K \u001b[01;36m\u001b[Knote: \u001b[m\u001b[K‘\u001b[01m\u001b[Kstd::vector\u001b[m\u001b[K’ is defined in header ‘\u001b[01m\u001b[K<vector>\u001b[m\u001b[K’; did you forget to ‘\u001b[01m\u001b[K#include <vector>\u001b[m\u001b[K’?\n",
            "\u001b[01m\u001b[Kmax_pairwise_product_sort.cpp:14:10:\u001b[m\u001b[K \u001b[01;31m\u001b[Kerror: \u001b[m\u001b[K‘\u001b[01m\u001b[Ksort\u001b[m\u001b[K’ is not a member of ‘\u001b[01m\u001b[Kstd\u001b[m\u001b[K’\n",
            "   14 |     std::\u001b[01;31m\u001b[Ksort\u001b[m\u001b[K(sorted_numbers.begin(), sorted_numbers.end());\n",
            "      |          \u001b[01;31m\u001b[K^~~~\u001b[m\u001b[K\n",
            "\u001b[01m\u001b[Kmax_pairwise_product_sort.cpp:14:15:\u001b[m\u001b[K \u001b[01;31m\u001b[Kerror: \u001b[m\u001b[K‘\u001b[01m\u001b[Ksorted_numbers\u001b[m\u001b[K’ was not declared in this scope\n",
            "   14 |     std::sort(\u001b[01;31m\u001b[Ksorted_numbers\u001b[m\u001b[K.begin(), sorted_numbers.end());\n",
            "      |               \u001b[01;31m\u001b[K^~~~~~~~~~~~~~\u001b[m\u001b[K\n",
            "\u001b[01m\u001b[Kmax_pairwise_product_sort.cpp:\u001b[m\u001b[K In function ‘\u001b[01m\u001b[Kint main()\u001b[m\u001b[K’:\n",
            "\u001b[01m\u001b[Kmax_pairwise_product_sort.cpp:24:10:\u001b[m\u001b[K \u001b[01;31m\u001b[Kerror: \u001b[m\u001b[K‘\u001b[01m\u001b[Kcin\u001b[m\u001b[K’ is not a member of ‘\u001b[01m\u001b[Kstd\u001b[m\u001b[K’\n",
            "   24 |     std::\u001b[01;31m\u001b[Kcin\u001b[m\u001b[K >> n;\n",
            "      |          \u001b[01;31m\u001b[K^~~\u001b[m\u001b[K\n",
            "\u001b[01m\u001b[Kmax_pairwise_product_sort.cpp:1:1:\u001b[m\u001b[K \u001b[01;36m\u001b[Knote: \u001b[m\u001b[K‘\u001b[01m\u001b[Kstd::cin\u001b[m\u001b[K’ is defined in header ‘\u001b[01m\u001b[K<iostream>\u001b[m\u001b[K’; did you forget to ‘\u001b[01m\u001b[K#include <iostream>\u001b[m\u001b[K’?\n",
            "  +++ |+\u001b[32m\u001b[K#include <iostream>\u001b[m\u001b[K\n",
            "    1 | #include\n",
            "\u001b[01m\u001b[Kmax_pairwise_product_sort.cpp:25:10:\u001b[m\u001b[K \u001b[01;31m\u001b[Kerror: \u001b[m\u001b[K‘\u001b[01m\u001b[Kvector\u001b[m\u001b[K’ is not a member of ‘\u001b[01m\u001b[Kstd\u001b[m\u001b[K’\n",
            "   25 |     std::\u001b[01;31m\u001b[Kvector\u001b[m\u001b[K numbers(n);\n",
            "      |          \u001b[01;31m\u001b[K^~~~~~\u001b[m\u001b[K\n",
            "\u001b[01m\u001b[Kmax_pairwise_product_sort.cpp:25:10:\u001b[m\u001b[K \u001b[01;36m\u001b[Knote: \u001b[m\u001b[K‘\u001b[01m\u001b[Kstd::vector\u001b[m\u001b[K’ is defined in header ‘\u001b[01m\u001b[K<vector>\u001b[m\u001b[K’; did you forget to ‘\u001b[01m\u001b[K#include <vector>\u001b[m\u001b[K’?\n",
            "\u001b[01m\u001b[Kmax_pairwise_product_sort.cpp:29:14:\u001b[m\u001b[K \u001b[01;31m\u001b[Kerror: \u001b[m\u001b[K‘\u001b[01m\u001b[Kcin\u001b[m\u001b[K’ is not a member of ‘\u001b[01m\u001b[Kstd\u001b[m\u001b[K’\n",
            "   29 |         std::\u001b[01;31m\u001b[Kcin\u001b[m\u001b[K >> numbers[i];\n",
            "      |              \u001b[01;31m\u001b[K^~~\u001b[m\u001b[K\n",
            "\u001b[01m\u001b[Kmax_pairwise_product_sort.cpp:29:14:\u001b[m\u001b[K \u001b[01;36m\u001b[Knote: \u001b[m\u001b[K‘\u001b[01m\u001b[Kstd::cin\u001b[m\u001b[K’ is defined in header ‘\u001b[01m\u001b[K<iostream>\u001b[m\u001b[K’; did you forget to ‘\u001b[01m\u001b[K#include <iostream>\u001b[m\u001b[K’?\n",
            "\u001b[01m\u001b[Kmax_pairwise_product_sort.cpp:29:21:\u001b[m\u001b[K \u001b[01;31m\u001b[Kerror: \u001b[m\u001b[K‘\u001b[01m\u001b[Knumbers\u001b[m\u001b[K’ was not declared in this scope\n",
            "   29 |         std::cin >> \u001b[01;31m\u001b[Knumbers\u001b[m\u001b[K[i];\n",
            "      |                     \u001b[01;31m\u001b[K^~~~~~~\u001b[m\u001b[K\n",
            "\u001b[01m\u001b[Kmax_pairwise_product_sort.cpp:33:10:\u001b[m\u001b[K \u001b[01;31m\u001b[Kerror: \u001b[m\u001b[K‘\u001b[01m\u001b[Kcout\u001b[m\u001b[K’ is not a member of ‘\u001b[01m\u001b[Kstd\u001b[m\u001b[K’\n",
            "   33 |     std::\u001b[01;31m\u001b[Kcout\u001b[m\u001b[K << MaxPairwiseProduct(numbers) << \"\\n\";\n",
            "      |          \u001b[01;31m\u001b[K^~~~\u001b[m\u001b[K\n",
            "\u001b[01m\u001b[Kmax_pairwise_product_sort.cpp:33:10:\u001b[m\u001b[K \u001b[01;36m\u001b[Knote: \u001b[m\u001b[K‘\u001b[01m\u001b[Kstd::cout\u001b[m\u001b[K’ is defined in header ‘\u001b[01m\u001b[K<iostream>\u001b[m\u001b[K’; did you forget to ‘\u001b[01m\u001b[K#include <iostream>\u001b[m\u001b[K’?\n",
            "\u001b[01m\u001b[Kmax_pairwise_product_sort.cpp:33:37:\u001b[m\u001b[K \u001b[01;31m\u001b[Kerror: \u001b[m\u001b[K‘\u001b[01m\u001b[Knumbers\u001b[m\u001b[K’ was not declared in this scope\n",
            "   33 |     std::cout << MaxPairwiseProduct(\u001b[01;31m\u001b[Knumbers\u001b[m\u001b[K) << \"\\n\";\n",
            "      |                                     \u001b[01;31m\u001b[K^~~~~~~\u001b[m\u001b[K\n",
            "ls: cannot access 'max_pairwise_product_sort': No such file or directory\n",
            "-rwxr-xr-x 1 root root 824 Dec  4 14:12 max_pairwise_product_sort.cpp\n"
          ]
        }
      ]
    },
    {
      "cell_type": "markdown",
      "metadata": {
        "id": "v8pdV9ABOb_k"
      },
      "source": [
        "Test with inputs 1 and 2\n",
        "\n"
      ]
    },
    {
      "cell_type": "code",
      "execution_count": 179,
      "metadata": {
        "id": "kdXAyLG4Ob_k",
        "colab": {
          "base_uri": "https://localhost:8080/"
        },
        "outputId": "4f8f0dcb-1b99-4d36-a143-007e3d80510d"
      },
      "outputs": [
        {
          "output_type": "stream",
          "name": "stdout",
          "text": [
            "/bin/bash: line 1: ./max_pairwise_product_sort: No such file or directory\n"
          ]
        }
      ],
      "source": [
        "!./max_pairwise_product_sort < input1.txt"
      ]
    },
    {
      "cell_type": "code",
      "source": [
        "!./max_pairwise_product_sort < input2.txt"
      ],
      "metadata": {
        "colab": {
          "base_uri": "https://localhost:8080/"
        },
        "id": "Uiz5r9DD0IEj",
        "outputId": "5008cbbc-27c8-4ad8-91fb-cbf6f0079c0f"
      },
      "execution_count": 95,
      "outputs": [
        {
          "output_type": "stream",
          "name": "stdout",
          "text": [
            "/bin/bash: line 1: ./max_pairwise_product_sort: No such file or directory\n"
          ]
        }
      ]
    },
    {
      "cell_type": "markdown",
      "metadata": {
        "id": "Sw-5X1q1Ob_k"
      },
      "source": [
        "Test and time it with input 3"
      ]
    },
    {
      "cell_type": "code",
      "execution_count": 96,
      "metadata": {
        "id": "ryHJ30WIOb_k",
        "colab": {
          "base_uri": "https://localhost:8080/"
        },
        "outputId": "fa9cf368-05c5-4b0f-aa43-e10a1e5ca42e"
      },
      "outputs": [
        {
          "output_type": "stream",
          "name": "stdout",
          "text": [
            "/bin/bash: line 1: ./max_pairwise_product_sort: No such file or directory\n",
            "\n",
            "real\t0m0.002s\n",
            "user\t0m0.000s\n",
            "sys\t0m0.001s\n"
          ]
        }
      ],
      "source": [
        "!time ./max_pairwise_product_sort < input3.txt"
      ]
    },
    {
      "cell_type": "markdown",
      "metadata": {
        "id": "oJGdPl1HOb_k"
      },
      "source": [
        "20 stress tests"
      ]
    },
    {
      "cell_type": "code",
      "execution_count": 97,
      "metadata": {
        "id": "pXHtO1dEOb_k",
        "colab": {
          "base_uri": "https://localhost:8080/"
        },
        "outputId": "2da884f1-3ae3-4065-ab1c-20df98c817dc"
      },
      "outputs": [
        {
          "output_type": "stream",
          "name": "stdout",
          "text": [
            "Test 11: N=751\n",
            "Test 12: N=849\n",
            "Test 13: N=57\n",
            "Test 14: N=236\n",
            "Test 15: N=872\n",
            "Test 16: N=464\n",
            "Test 17: N=4168\n",
            "Test 18: N=8280\n",
            "Test 19: N=4941\n",
            "Test 20: N=1607\n"
          ]
        }
      ],
      "source": [
        "import random\n",
        "import math\n",
        "\n",
        "# Number of stress tests\n",
        "num_tests = 10\n",
        "\n",
        "for test_number in range(11, 21):\n",
        "    # Determine the size of the input given the iteration\n",
        "    if test_number <= 16:\n",
        "        n = random.randint(2, 1000)\n",
        "    else:\n",
        "        n = random.randint(2, 10000)\n",
        "\n",
        "    # Generating random values\n",
        "    numbers = [random.randint(1, 99999) for _ in range(n)]\n",
        "\n",
        "    #Writing the input in a file\n",
        "    with open(f\"input{test_number}.txt\", \"w\") as file:\n",
        "        file.write(f\"{n}\\n\")\n",
        "        file.write(\" \".join(map(str, numbers)))\n",
        "\n",
        "    print(f\"Test {test_number}: N={n}\")\n"
      ]
    },
    {
      "cell_type": "code",
      "source": [
        "!./max_pairwise_product_sort < input1.txt\n",
        "!./max_pairwise_product_sort < input2.txt\n",
        "!./max_pairwise_product_sort < input3.txt\n",
        "!./max_pairwise_product_sort < input4.txt\n",
        "!./max_pairwise_product_sort < input5.txt\n",
        "!./max_pairwise_product_sort < input6.txt\n",
        "!./max_pairwise_product_sort < input7.txt\n",
        "!./max_pairwise_product_sort < input8.txt\n",
        "!./max_pairwise_product_sort < input9.txt\n",
        "!./max_pairwise_product_sort < input10.txt\n",
        "!./max_pairwise_product_sort < input11.txt\n",
        "!./max_pairwise_product_sort < input12.txt\n",
        "!./max_pairwise_product_sort < input13.txt\n",
        "!./max_pairwise_product_sort < input14.txt\n",
        "!./max_pairwise_product_sort < input15.txt\n",
        "!./max_pairwise_product_sort < input16.txt\n",
        "!./max_pairwise_product_sort < input18.txt\n",
        "!./max_pairwise_product_sort < input19.txt\n",
        "!./max_pairwise_product_sort < input20.txt"
      ],
      "metadata": {
        "colab": {
          "base_uri": "https://localhost:8080/"
        },
        "id": "z0xbLTEM0P-H",
        "outputId": "c42a3925-aece-43e4-e8f1-93ddfdac5c73"
      },
      "execution_count": 98,
      "outputs": [
        {
          "output_type": "stream",
          "name": "stdout",
          "text": [
            "/bin/bash: line 1: ./max_pairwise_product_sort: No such file or directory\n",
            "/bin/bash: line 1: ./max_pairwise_product_sort: No such file or directory\n",
            "/bin/bash: line 1: ./max_pairwise_product_sort: No such file or directory\n",
            "/bin/bash: line 1: input4.txt: No such file or directory\n",
            "/bin/bash: line 1: ./max_pairwise_product_sort: No such file or directory\n",
            "/bin/bash: line 1: ./max_pairwise_product_sort: No such file or directory\n",
            "/bin/bash: line 1: ./max_pairwise_product_sort: No such file or directory\n",
            "/bin/bash: line 1: ./max_pairwise_product_sort: No such file or directory\n",
            "/bin/bash: line 1: ./max_pairwise_product_sort: No such file or directory\n",
            "/bin/bash: line 1: ./max_pairwise_product_sort: No such file or directory\n",
            "/bin/bash: line 1: ./max_pairwise_product_sort: No such file or directory\n",
            "/bin/bash: line 1: ./max_pairwise_product_sort: No such file or directory\n",
            "/bin/bash: line 1: ./max_pairwise_product_sort: No such file or directory\n",
            "/bin/bash: line 1: ./max_pairwise_product_sort: No such file or directory\n",
            "/bin/bash: line 1: ./max_pairwise_product_sort: No such file or directory\n",
            "/bin/bash: line 1: ./max_pairwise_product_sort: No such file or directory\n",
            "/bin/bash: line 1: ./max_pairwise_product_sort: No such file or directory\n",
            "/bin/bash: line 1: ./max_pairwise_product_sort: No such file or directory\n",
            "/bin/bash: line 1: ./max_pairwise_product_sort: No such file or directory\n"
          ]
        }
      ]
    },
    {
      "cell_type": "markdown",
      "metadata": {
        "id": "2beTmWFPOb_k"
      },
      "source": [
        "Count executed instructions in code and verify with inputs 1,2 and 3\n"
      ]
    },
    {
      "cell_type": "code",
      "execution_count": 99,
      "metadata": {
        "id": "iuByv4x1Ob_k",
        "colab": {
          "base_uri": "https://localhost:8080/"
        },
        "outputId": "ec8728ae-fdea-46e8-c1c0-73b03043dbe8"
      },
      "outputs": [
        {
          "output_type": "stream",
          "name": "stdout",
          "text": [
            "Overwriting max_pairwise_product_sort.cpp\n"
          ]
        }
      ],
      "source": [
        "%%writefile max_pairwise_product_sort.cpp\n",
        "#include\n",
        "#include\n",
        "#include\n",
        "\n",
        "//\n",
        "//conteo:\n",
        "//\n",
        "long long MaxPairwiseProduct(const std::vector& numbers) {\n",
        "    int n = numbers.size();                                                     // 1\n",
        "\n",
        "    std::vector sorted_numbers(numbers);                             // n\n",
        "\n",
        "    std::sort(sorted_numbers.begin(), sorted_numbers.end());                    // n*log(n)\n",
        "\n",
        "    long long max_product = sorted_numbers[n - 1] * sorted_numbers[n - 2];      // 1\n",
        "\n",
        "    return max_product;                                                         // 1\n",
        "}\n",
        "\n",
        "int main() {\n",
        "    int n;                                                                      // 1\n",
        "    std::cin >> n;                                                              // 1\n",
        "\n",
        "    std::vector numbers(n);                                          // 1\n",
        "\n",
        "    for (int i = 0; i < n; ++i) {                                               // n\n",
        "        std::cin >> numbers[i];                                                 // n\n",
        "    }\n",
        "\n",
        "    std::cout << MaxPairwiseProduct(numbers) << \"\\n\";                           // 1\n",
        "\n",
        "    return 0;                                                                   // 1\n",
        "\n",
        "                                                                                // total pairwise: n+n*log(n)+3\n",
        "                                                                                // total: 3n+n*log(n)+8\n",
        "}\n",
        "\n",
        "\n",
        ""
      ]
    },
    {
      "cell_type": "code",
      "source": [
        "%%writefile max_pairwise_product_sort2.cpp\n",
        "#include\n",
        "#include\n",
        "#include\n",
        "#include\n",
        "\n",
        "long long MaxPairwiseProduct(const std::vector& numbers, long long &execints) {\n",
        "\n",
        "    int n = numbers.size();\n",
        "    execints++;\n",
        "\n",
        "    std::vector sorted_numbers(numbers);\n",
        "    execints++;\n",
        "\n",
        "    std::sort(sorted_numbers.begin(), sorted_numbers.end());\n",
        "    execints += n * log(n);\n",
        "\n",
        "    long long max_product = sorted_numbers[n - 1] * sorted_numbers[n - 2];\n",
        "    execints++;\n",
        "\n",
        "    return max_product;\n",
        "}\n",
        "\n",
        "int main() {\n",
        "\n",
        "    long long execints = 0LL;\n",
        "    execints++;\n",
        "\n",
        "    int n;\n",
        "    execints++;\n",
        "\n",
        "    std::cin >> n;\n",
        "    execints++;\n",
        "\n",
        "    std::vector numbers(n);\n",
        "    execints += n;\n",
        "\n",
        "    for (int i = 0; i < n; ++i) {\n",
        "        execints += 2;\n",
        "\n",
        "        std::cin >> numbers[i];\n",
        "        execints++;\n",
        "    }\n",
        "\n",
        "    int M = MaxPairwiseProduct(numbers, execints);\n",
        "\n",
        "    std::cout << execints << \"\\n\";\n",
        "    return 0;\n",
        "}\n",
        "\n"
      ],
      "metadata": {
        "colab": {
          "base_uri": "https://localhost:8080/"
        },
        "id": "H8fDbldU0Wx7",
        "outputId": "ee9be902-c859-4f93-c200-2482be63bda8"
      },
      "execution_count": 100,
      "outputs": [
        {
          "output_type": "stream",
          "name": "stdout",
          "text": [
            "Writing max_pairwise_product_sort2.cpp\n"
          ]
        }
      ]
    },
    {
      "cell_type": "code",
      "source": [
        "!g++ -o max_pairwise_product_sort2 max_pairwise_product_sort2.cpp\n",
        "!chmod +x max_pairwise_product_sort2.cpp\n",
        "!ls -l max_pairwise_product_sort2.cpp max_pairwise_product_sort2"
      ],
      "metadata": {
        "colab": {
          "base_uri": "https://localhost:8080/"
        },
        "id": "LBUlHpTG_gYZ",
        "outputId": "effc3517-6b84-46b6-9290-ec03a7591912"
      },
      "execution_count": 174,
      "outputs": [
        {
          "output_type": "stream",
          "name": "stdout",
          "text": [
            "\u001b[01m\u001b[Kmax_pairwise_product_sort2.cpp:1:10:\u001b[m\u001b[K \u001b[01;31m\u001b[Kerror: \u001b[m\u001b[K#include expects \"FILENAME\" or <FILENAME>\n",
            "    1 | #include\n",
            "      |          \u001b[01;31m\u001b[K^\u001b[m\u001b[K\n",
            "\u001b[01m\u001b[Kmax_pairwise_product_sort2.cpp:2:10:\u001b[m\u001b[K \u001b[01;31m\u001b[Kerror: \u001b[m\u001b[K#include expects \"FILENAME\" or <FILENAME>\n",
            "    2 | #include\n",
            "      |          \u001b[01;31m\u001b[K^\u001b[m\u001b[K\n",
            "\u001b[01m\u001b[Kmax_pairwise_product_sort2.cpp:3:10:\u001b[m\u001b[K \u001b[01;31m\u001b[Kerror: \u001b[m\u001b[K#include expects \"FILENAME\" or <FILENAME>\n",
            "    3 | #include\n",
            "      |          \u001b[01;31m\u001b[K^\u001b[m\u001b[K\n",
            "\u001b[01m\u001b[Kmax_pairwise_product_sort2.cpp:4:10:\u001b[m\u001b[K \u001b[01;31m\u001b[Kerror: \u001b[m\u001b[K#include expects \"FILENAME\" or <FILENAME>\n",
            "    4 | #include\n",
            "      |          \u001b[01;31m\u001b[K^\u001b[m\u001b[K\n",
            "\u001b[01m\u001b[Kmax_pairwise_product_sort2.cpp:6:41:\u001b[m\u001b[K \u001b[01;31m\u001b[Kerror: \u001b[m\u001b[K‘\u001b[01m\u001b[Kvector\u001b[m\u001b[K’ in namespace ‘\u001b[01m\u001b[Kstd\u001b[m\u001b[K’ does not name a type\n",
            "    6 | long long MaxPairwiseProduct(const std::\u001b[01;31m\u001b[Kvector\u001b[m\u001b[K& numbers, long long &execints) {\n",
            "      |                                         \u001b[01;31m\u001b[K^~~~~~\u001b[m\u001b[K\n",
            "\u001b[01m\u001b[Kmax_pairwise_product_sort2.cpp:1:1:\u001b[m\u001b[K \u001b[01;36m\u001b[Knote: \u001b[m\u001b[K‘\u001b[01m\u001b[Kstd::vector\u001b[m\u001b[K’ is defined in header ‘\u001b[01m\u001b[K<vector>\u001b[m\u001b[K’; did you forget to ‘\u001b[01m\u001b[K#include <vector>\u001b[m\u001b[K’?\n",
            "  +++ |+\u001b[32m\u001b[K#include <vector>\u001b[m\u001b[K\n",
            "    1 | #include\n",
            "\u001b[01m\u001b[Kmax_pairwise_product_sort2.cpp:\u001b[m\u001b[K In function ‘\u001b[01m\u001b[Klong long int MaxPairwiseProduct(const int&, long long int&)\u001b[m\u001b[K’:\n",
            "\u001b[01m\u001b[Kmax_pairwise_product_sort2.cpp:8:21:\u001b[m\u001b[K \u001b[01;31m\u001b[Kerror: \u001b[m\u001b[Krequest for member ‘\u001b[01m\u001b[Ksize\u001b[m\u001b[K’ in ‘\u001b[01m\u001b[Knumbers\u001b[m\u001b[K’, which is of non-class type ‘\u001b[01m\u001b[Kconst int\u001b[m\u001b[K’\n",
            "    8 |     int n = numbers.\u001b[01;31m\u001b[Ksize\u001b[m\u001b[K();\n",
            "      |                     \u001b[01;31m\u001b[K^~~~\u001b[m\u001b[K\n",
            "\u001b[01m\u001b[Kmax_pairwise_product_sort2.cpp:11:10:\u001b[m\u001b[K \u001b[01;31m\u001b[Kerror: \u001b[m\u001b[K‘\u001b[01m\u001b[Kvector\u001b[m\u001b[K’ is not a member of ‘\u001b[01m\u001b[Kstd\u001b[m\u001b[K’\n",
            "   11 |     std::\u001b[01;31m\u001b[Kvector\u001b[m\u001b[K sorted_numbers(numbers);\n",
            "      |          \u001b[01;31m\u001b[K^~~~~~\u001b[m\u001b[K\n",
            "\u001b[01m\u001b[Kmax_pairwise_product_sort2.cpp:11:10:\u001b[m\u001b[K \u001b[01;36m\u001b[Knote: \u001b[m\u001b[K‘\u001b[01m\u001b[Kstd::vector\u001b[m\u001b[K’ is defined in header ‘\u001b[01m\u001b[K<vector>\u001b[m\u001b[K’; did you forget to ‘\u001b[01m\u001b[K#include <vector>\u001b[m\u001b[K’?\n",
            "\u001b[01m\u001b[Kmax_pairwise_product_sort2.cpp:14:10:\u001b[m\u001b[K \u001b[01;31m\u001b[Kerror: \u001b[m\u001b[K‘\u001b[01m\u001b[Ksort\u001b[m\u001b[K’ is not a member of ‘\u001b[01m\u001b[Kstd\u001b[m\u001b[K’\n",
            "   14 |     std::\u001b[01;31m\u001b[Ksort\u001b[m\u001b[K(sorted_numbers.begin(), sorted_numbers.end());\n",
            "      |          \u001b[01;31m\u001b[K^~~~\u001b[m\u001b[K\n",
            "\u001b[01m\u001b[Kmax_pairwise_product_sort2.cpp:14:15:\u001b[m\u001b[K \u001b[01;31m\u001b[Kerror: \u001b[m\u001b[K‘\u001b[01m\u001b[Ksorted_numbers\u001b[m\u001b[K’ was not declared in this scope\n",
            "   14 |     std::sort(\u001b[01;31m\u001b[Ksorted_numbers\u001b[m\u001b[K.begin(), sorted_numbers.end());\n",
            "      |               \u001b[01;31m\u001b[K^~~~~~~~~~~~~~\u001b[m\u001b[K\n",
            "\u001b[01m\u001b[Kmax_pairwise_product_sort2.cpp:15:21:\u001b[m\u001b[K \u001b[01;31m\u001b[Kerror: \u001b[m\u001b[K‘\u001b[01m\u001b[Klog\u001b[m\u001b[K’ was not declared in this scope; did you mean ‘\u001b[01m\u001b[Klong\u001b[m\u001b[K’?\n",
            "   15 |     execints += n * \u001b[01;31m\u001b[Klog\u001b[m\u001b[K(n);\n",
            "      |                     \u001b[01;31m\u001b[K^~~\u001b[m\u001b[K\n",
            "      |                     \u001b[32m\u001b[Klong\u001b[m\u001b[K\n",
            "\u001b[01m\u001b[Kmax_pairwise_product_sort2.cpp:\u001b[m\u001b[K In function ‘\u001b[01m\u001b[Kint main()\u001b[m\u001b[K’:\n",
            "\u001b[01m\u001b[Kmax_pairwise_product_sort2.cpp:31:10:\u001b[m\u001b[K \u001b[01;31m\u001b[Kerror: \u001b[m\u001b[K‘\u001b[01m\u001b[Kcin\u001b[m\u001b[K’ is not a member of ‘\u001b[01m\u001b[Kstd\u001b[m\u001b[K’\n",
            "   31 |     std::\u001b[01;31m\u001b[Kcin\u001b[m\u001b[K >> n;\n",
            "      |          \u001b[01;31m\u001b[K^~~\u001b[m\u001b[K\n",
            "\u001b[01m\u001b[Kmax_pairwise_product_sort2.cpp:1:1:\u001b[m\u001b[K \u001b[01;36m\u001b[Knote: \u001b[m\u001b[K‘\u001b[01m\u001b[Kstd::cin\u001b[m\u001b[K’ is defined in header ‘\u001b[01m\u001b[K<iostream>\u001b[m\u001b[K’; did you forget to ‘\u001b[01m\u001b[K#include <iostream>\u001b[m\u001b[K’?\n",
            "  +++ |+\u001b[32m\u001b[K#include <iostream>\u001b[m\u001b[K\n",
            "    1 | #include\n",
            "\u001b[01m\u001b[Kmax_pairwise_product_sort2.cpp:34:10:\u001b[m\u001b[K \u001b[01;31m\u001b[Kerror: \u001b[m\u001b[K‘\u001b[01m\u001b[Kvector\u001b[m\u001b[K’ is not a member of ‘\u001b[01m\u001b[Kstd\u001b[m\u001b[K’\n",
            "   34 |     std::\u001b[01;31m\u001b[Kvector\u001b[m\u001b[K numbers(n);\n",
            "      |          \u001b[01;31m\u001b[K^~~~~~\u001b[m\u001b[K\n",
            "\u001b[01m\u001b[Kmax_pairwise_product_sort2.cpp:34:10:\u001b[m\u001b[K \u001b[01;36m\u001b[Knote: \u001b[m\u001b[K‘\u001b[01m\u001b[Kstd::vector\u001b[m\u001b[K’ is defined in header ‘\u001b[01m\u001b[K<vector>\u001b[m\u001b[K’; did you forget to ‘\u001b[01m\u001b[K#include <vector>\u001b[m\u001b[K’?\n",
            "\u001b[01m\u001b[Kmax_pairwise_product_sort2.cpp:40:14:\u001b[m\u001b[K \u001b[01;31m\u001b[Kerror: \u001b[m\u001b[K‘\u001b[01m\u001b[Kcin\u001b[m\u001b[K’ is not a member of ‘\u001b[01m\u001b[Kstd\u001b[m\u001b[K’\n",
            "   40 |         std::\u001b[01;31m\u001b[Kcin\u001b[m\u001b[K >> numbers[i];\n",
            "      |              \u001b[01;31m\u001b[K^~~\u001b[m\u001b[K\n",
            "\u001b[01m\u001b[Kmax_pairwise_product_sort2.cpp:40:14:\u001b[m\u001b[K \u001b[01;36m\u001b[Knote: \u001b[m\u001b[K‘\u001b[01m\u001b[Kstd::cin\u001b[m\u001b[K’ is defined in header ‘\u001b[01m\u001b[K<iostream>\u001b[m\u001b[K’; did you forget to ‘\u001b[01m\u001b[K#include <iostream>\u001b[m\u001b[K’?\n",
            "\u001b[01m\u001b[Kmax_pairwise_product_sort2.cpp:40:21:\u001b[m\u001b[K \u001b[01;31m\u001b[Kerror: \u001b[m\u001b[K‘\u001b[01m\u001b[Knumbers\u001b[m\u001b[K’ was not declared in this scope\n",
            "   40 |         std::cin >> \u001b[01;31m\u001b[Knumbers\u001b[m\u001b[K[i];\n",
            "      |                     \u001b[01;31m\u001b[K^~~~~~~\u001b[m\u001b[K\n",
            "\u001b[01m\u001b[Kmax_pairwise_product_sort2.cpp:44:32:\u001b[m\u001b[K \u001b[01;31m\u001b[Kerror: \u001b[m\u001b[K‘\u001b[01m\u001b[Knumbers\u001b[m\u001b[K’ was not declared in this scope\n",
            "   44 |     int M = MaxPairwiseProduct(\u001b[01;31m\u001b[Knumbers\u001b[m\u001b[K, execints);\n",
            "      |                                \u001b[01;31m\u001b[K^~~~~~~\u001b[m\u001b[K\n",
            "\u001b[01m\u001b[Kmax_pairwise_product_sort2.cpp:46:10:\u001b[m\u001b[K \u001b[01;31m\u001b[Kerror: \u001b[m\u001b[K‘\u001b[01m\u001b[Kcout\u001b[m\u001b[K’ is not a member of ‘\u001b[01m\u001b[Kstd\u001b[m\u001b[K’\n",
            "   46 |     std::\u001b[01;31m\u001b[Kcout\u001b[m\u001b[K << execints << \"\\n\";\n",
            "      |          \u001b[01;31m\u001b[K^~~~\u001b[m\u001b[K\n",
            "\u001b[01m\u001b[Kmax_pairwise_product_sort2.cpp:46:10:\u001b[m\u001b[K \u001b[01;36m\u001b[Knote: \u001b[m\u001b[K‘\u001b[01m\u001b[Kstd::cout\u001b[m\u001b[K’ is defined in header ‘\u001b[01m\u001b[K<iostream>\u001b[m\u001b[K’; did you forget to ‘\u001b[01m\u001b[K#include <iostream>\u001b[m\u001b[K’?\n",
            "ls: cannot access 'max_pairwise_product_sort2': No such file or directory\n",
            "-rwxr-xr-x 1 root root 828 Dec  4 13:51 max_pairwise_product_sort2.cpp\n"
          ]
        }
      ]
    },
    {
      "cell_type": "code",
      "source": [
        "!g++ -o max_pairwise_product_sort2 max_pairwise_product_sort2.cpp\n",
        "!chmod +x max_pairwise_product_sort2.cpp\n",
        "!ls -l max_pairwise_product_sort2.cpp max_pairwise_product_sort2"
      ],
      "metadata": {
        "colab": {
          "base_uri": "https://localhost:8080/"
        },
        "id": "_mPu-z6L0XdT",
        "outputId": "a82d1fe4-0793-4ff7-ae09-a3f2903f717c"
      },
      "execution_count": 101,
      "outputs": [
        {
          "output_type": "stream",
          "name": "stdout",
          "text": [
            "\u001b[01m\u001b[Kmax_pairwise_product_sort2.cpp:1:10:\u001b[m\u001b[K \u001b[01;31m\u001b[Kerror: \u001b[m\u001b[K#include expects \"FILENAME\" or <FILENAME>\n",
            "    1 | #include\n",
            "      |          \u001b[01;31m\u001b[K^\u001b[m\u001b[K\n",
            "\u001b[01m\u001b[Kmax_pairwise_product_sort2.cpp:2:10:\u001b[m\u001b[K \u001b[01;31m\u001b[Kerror: \u001b[m\u001b[K#include expects \"FILENAME\" or <FILENAME>\n",
            "    2 | #include\n",
            "      |          \u001b[01;31m\u001b[K^\u001b[m\u001b[K\n",
            "\u001b[01m\u001b[Kmax_pairwise_product_sort2.cpp:3:10:\u001b[m\u001b[K \u001b[01;31m\u001b[Kerror: \u001b[m\u001b[K#include expects \"FILENAME\" or <FILENAME>\n",
            "    3 | #include\n",
            "      |          \u001b[01;31m\u001b[K^\u001b[m\u001b[K\n",
            "\u001b[01m\u001b[Kmax_pairwise_product_sort2.cpp:4:10:\u001b[m\u001b[K \u001b[01;31m\u001b[Kerror: \u001b[m\u001b[K#include expects \"FILENAME\" or <FILENAME>\n",
            "    4 | #include\n",
            "      |          \u001b[01;31m\u001b[K^\u001b[m\u001b[K\n",
            "\u001b[01m\u001b[Kmax_pairwise_product_sort2.cpp:6:41:\u001b[m\u001b[K \u001b[01;31m\u001b[Kerror: \u001b[m\u001b[K‘\u001b[01m\u001b[Kvector\u001b[m\u001b[K’ in namespace ‘\u001b[01m\u001b[Kstd\u001b[m\u001b[K’ does not name a type\n",
            "    6 | long long MaxPairwiseProduct(const std::\u001b[01;31m\u001b[Kvector\u001b[m\u001b[K& numbers, long long &execints) {\n",
            "      |                                         \u001b[01;31m\u001b[K^~~~~~\u001b[m\u001b[K\n",
            "\u001b[01m\u001b[Kmax_pairwise_product_sort2.cpp:1:1:\u001b[m\u001b[K \u001b[01;36m\u001b[Knote: \u001b[m\u001b[K‘\u001b[01m\u001b[Kstd::vector\u001b[m\u001b[K’ is defined in header ‘\u001b[01m\u001b[K<vector>\u001b[m\u001b[K’; did you forget to ‘\u001b[01m\u001b[K#include <vector>\u001b[m\u001b[K’?\n",
            "  +++ |+\u001b[32m\u001b[K#include <vector>\u001b[m\u001b[K\n",
            "    1 | #include\n",
            "\u001b[01m\u001b[Kmax_pairwise_product_sort2.cpp:\u001b[m\u001b[K In function ‘\u001b[01m\u001b[Klong long int MaxPairwiseProduct(const int&, long long int&)\u001b[m\u001b[K’:\n",
            "\u001b[01m\u001b[Kmax_pairwise_product_sort2.cpp:8:21:\u001b[m\u001b[K \u001b[01;31m\u001b[Kerror: \u001b[m\u001b[Krequest for member ‘\u001b[01m\u001b[Ksize\u001b[m\u001b[K’ in ‘\u001b[01m\u001b[Knumbers\u001b[m\u001b[K’, which is of non-class type ‘\u001b[01m\u001b[Kconst int\u001b[m\u001b[K’\n",
            "    8 |     int n = numbers.\u001b[01;31m\u001b[Ksize\u001b[m\u001b[K();\n",
            "      |                     \u001b[01;31m\u001b[K^~~~\u001b[m\u001b[K\n",
            "\u001b[01m\u001b[Kmax_pairwise_product_sort2.cpp:11:10:\u001b[m\u001b[K \u001b[01;31m\u001b[Kerror: \u001b[m\u001b[K‘\u001b[01m\u001b[Kvector\u001b[m\u001b[K’ is not a member of ‘\u001b[01m\u001b[Kstd\u001b[m\u001b[K’\n",
            "   11 |     std::\u001b[01;31m\u001b[Kvector\u001b[m\u001b[K sorted_numbers(numbers);\n",
            "      |          \u001b[01;31m\u001b[K^~~~~~\u001b[m\u001b[K\n",
            "\u001b[01m\u001b[Kmax_pairwise_product_sort2.cpp:11:10:\u001b[m\u001b[K \u001b[01;36m\u001b[Knote: \u001b[m\u001b[K‘\u001b[01m\u001b[Kstd::vector\u001b[m\u001b[K’ is defined in header ‘\u001b[01m\u001b[K<vector>\u001b[m\u001b[K’; did you forget to ‘\u001b[01m\u001b[K#include <vector>\u001b[m\u001b[K’?\n",
            "\u001b[01m\u001b[Kmax_pairwise_product_sort2.cpp:14:10:\u001b[m\u001b[K \u001b[01;31m\u001b[Kerror: \u001b[m\u001b[K‘\u001b[01m\u001b[Ksort\u001b[m\u001b[K’ is not a member of ‘\u001b[01m\u001b[Kstd\u001b[m\u001b[K’\n",
            "   14 |     std::\u001b[01;31m\u001b[Ksort\u001b[m\u001b[K(sorted_numbers.begin(), sorted_numbers.end());\n",
            "      |          \u001b[01;31m\u001b[K^~~~\u001b[m\u001b[K\n",
            "\u001b[01m\u001b[Kmax_pairwise_product_sort2.cpp:14:15:\u001b[m\u001b[K \u001b[01;31m\u001b[Kerror: \u001b[m\u001b[K‘\u001b[01m\u001b[Ksorted_numbers\u001b[m\u001b[K’ was not declared in this scope\n",
            "   14 |     std::sort(\u001b[01;31m\u001b[Ksorted_numbers\u001b[m\u001b[K.begin(), sorted_numbers.end());\n",
            "      |               \u001b[01;31m\u001b[K^~~~~~~~~~~~~~\u001b[m\u001b[K\n",
            "\u001b[01m\u001b[Kmax_pairwise_product_sort2.cpp:15:21:\u001b[m\u001b[K \u001b[01;31m\u001b[Kerror: \u001b[m\u001b[K‘\u001b[01m\u001b[Klog\u001b[m\u001b[K’ was not declared in this scope; did you mean ‘\u001b[01m\u001b[Klong\u001b[m\u001b[K’?\n",
            "   15 |     execints += n * \u001b[01;31m\u001b[Klog\u001b[m\u001b[K(n);\n",
            "      |                     \u001b[01;31m\u001b[K^~~\u001b[m\u001b[K\n",
            "      |                     \u001b[32m\u001b[Klong\u001b[m\u001b[K\n",
            "\u001b[01m\u001b[Kmax_pairwise_product_sort2.cpp:\u001b[m\u001b[K In function ‘\u001b[01m\u001b[Kint main()\u001b[m\u001b[K’:\n",
            "\u001b[01m\u001b[Kmax_pairwise_product_sort2.cpp:31:10:\u001b[m\u001b[K \u001b[01;31m\u001b[Kerror: \u001b[m\u001b[K‘\u001b[01m\u001b[Kcin\u001b[m\u001b[K’ is not a member of ‘\u001b[01m\u001b[Kstd\u001b[m\u001b[K’\n",
            "   31 |     std::\u001b[01;31m\u001b[Kcin\u001b[m\u001b[K >> n;\n",
            "      |          \u001b[01;31m\u001b[K^~~\u001b[m\u001b[K\n",
            "\u001b[01m\u001b[Kmax_pairwise_product_sort2.cpp:1:1:\u001b[m\u001b[K \u001b[01;36m\u001b[Knote: \u001b[m\u001b[K‘\u001b[01m\u001b[Kstd::cin\u001b[m\u001b[K’ is defined in header ‘\u001b[01m\u001b[K<iostream>\u001b[m\u001b[K’; did you forget to ‘\u001b[01m\u001b[K#include <iostream>\u001b[m\u001b[K’?\n",
            "  +++ |+\u001b[32m\u001b[K#include <iostream>\u001b[m\u001b[K\n",
            "    1 | #include\n",
            "\u001b[01m\u001b[Kmax_pairwise_product_sort2.cpp:34:10:\u001b[m\u001b[K \u001b[01;31m\u001b[Kerror: \u001b[m\u001b[K‘\u001b[01m\u001b[Kvector\u001b[m\u001b[K’ is not a member of ‘\u001b[01m\u001b[Kstd\u001b[m\u001b[K’\n",
            "   34 |     std::\u001b[01;31m\u001b[Kvector\u001b[m\u001b[K numbers(n);\n",
            "      |          \u001b[01;31m\u001b[K^~~~~~\u001b[m\u001b[K\n",
            "\u001b[01m\u001b[Kmax_pairwise_product_sort2.cpp:34:10:\u001b[m\u001b[K \u001b[01;36m\u001b[Knote: \u001b[m\u001b[K‘\u001b[01m\u001b[Kstd::vector\u001b[m\u001b[K’ is defined in header ‘\u001b[01m\u001b[K<vector>\u001b[m\u001b[K’; did you forget to ‘\u001b[01m\u001b[K#include <vector>\u001b[m\u001b[K’?\n",
            "\u001b[01m\u001b[Kmax_pairwise_product_sort2.cpp:40:14:\u001b[m\u001b[K \u001b[01;31m\u001b[Kerror: \u001b[m\u001b[K‘\u001b[01m\u001b[Kcin\u001b[m\u001b[K’ is not a member of ‘\u001b[01m\u001b[Kstd\u001b[m\u001b[K’\n",
            "   40 |         std::\u001b[01;31m\u001b[Kcin\u001b[m\u001b[K >> numbers[i];\n",
            "      |              \u001b[01;31m\u001b[K^~~\u001b[m\u001b[K\n",
            "\u001b[01m\u001b[Kmax_pairwise_product_sort2.cpp:40:14:\u001b[m\u001b[K \u001b[01;36m\u001b[Knote: \u001b[m\u001b[K‘\u001b[01m\u001b[Kstd::cin\u001b[m\u001b[K’ is defined in header ‘\u001b[01m\u001b[K<iostream>\u001b[m\u001b[K’; did you forget to ‘\u001b[01m\u001b[K#include <iostream>\u001b[m\u001b[K’?\n",
            "\u001b[01m\u001b[Kmax_pairwise_product_sort2.cpp:40:21:\u001b[m\u001b[K \u001b[01;31m\u001b[Kerror: \u001b[m\u001b[K‘\u001b[01m\u001b[Knumbers\u001b[m\u001b[K’ was not declared in this scope\n",
            "   40 |         std::cin >> \u001b[01;31m\u001b[Knumbers\u001b[m\u001b[K[i];\n",
            "      |                     \u001b[01;31m\u001b[K^~~~~~~\u001b[m\u001b[K\n",
            "\u001b[01m\u001b[Kmax_pairwise_product_sort2.cpp:44:32:\u001b[m\u001b[K \u001b[01;31m\u001b[Kerror: \u001b[m\u001b[K‘\u001b[01m\u001b[Knumbers\u001b[m\u001b[K’ was not declared in this scope\n",
            "   44 |     int M = MaxPairwiseProduct(\u001b[01;31m\u001b[Knumbers\u001b[m\u001b[K, execints);\n",
            "      |                                \u001b[01;31m\u001b[K^~~~~~~\u001b[m\u001b[K\n",
            "\u001b[01m\u001b[Kmax_pairwise_product_sort2.cpp:46:10:\u001b[m\u001b[K \u001b[01;31m\u001b[Kerror: \u001b[m\u001b[K‘\u001b[01m\u001b[Kcout\u001b[m\u001b[K’ is not a member of ‘\u001b[01m\u001b[Kstd\u001b[m\u001b[K’\n",
            "   46 |     std::\u001b[01;31m\u001b[Kcout\u001b[m\u001b[K << execints << \"\\n\";\n",
            "      |          \u001b[01;31m\u001b[K^~~~\u001b[m\u001b[K\n",
            "\u001b[01m\u001b[Kmax_pairwise_product_sort2.cpp:46:10:\u001b[m\u001b[K \u001b[01;36m\u001b[Knote: \u001b[m\u001b[K‘\u001b[01m\u001b[Kstd::cout\u001b[m\u001b[K’ is defined in header ‘\u001b[01m\u001b[K<iostream>\u001b[m\u001b[K’; did you forget to ‘\u001b[01m\u001b[K#include <iostream>\u001b[m\u001b[K’?\n",
            "ls: cannot access 'max_pairwise_product_sort2': No such file or directory\n",
            "-rwxr-xr-x 1 root root 828 Dec  4 13:51 max_pairwise_product_sort2.cpp\n"
          ]
        }
      ]
    },
    {
      "cell_type": "code",
      "source": [
        "!./max_pairwise_product_sort2 < input1.txt"
      ],
      "metadata": {
        "colab": {
          "base_uri": "https://localhost:8080/"
        },
        "id": "LzSEBgdQ0dbK",
        "outputId": "aef91d77-3bd0-4b07-df56-9b1fc576a9e5"
      },
      "execution_count": 102,
      "outputs": [
        {
          "output_type": "stream",
          "name": "stdout",
          "text": [
            "/bin/bash: line 1: ./max_pairwise_product_sort2: No such file or directory\n"
          ]
        }
      ]
    },
    {
      "cell_type": "code",
      "source": [
        "!./max_pairwise_product_sort2 < input2.txt"
      ],
      "metadata": {
        "colab": {
          "base_uri": "https://localhost:8080/"
        },
        "id": "JvzvEbYV0dP6",
        "outputId": "23997487-2167-448a-fbbd-dfce9be8b69f"
      },
      "execution_count": 103,
      "outputs": [
        {
          "output_type": "stream",
          "name": "stdout",
          "text": [
            "/bin/bash: line 1: ./max_pairwise_product_sort2: No such file or directory\n"
          ]
        }
      ]
    },
    {
      "cell_type": "markdown",
      "metadata": {
        "id": "x2CXhkwTOb_l"
      },
      "source": [
        "Calculate estimated time by instruction and number of instructions by second"
      ]
    },
    {
      "cell_type": "code",
      "execution_count": 104,
      "metadata": {
        "id": "nTjxyTMtOb_l"
      },
      "outputs": [],
      "source": [
        "n = 200000\n",
        "numbers = \" \".join(map(str, range(1, 200001)))\n",
        "with open('input21.txt', 'w') as file:\n",
        "    file.write(f\"{n}\\n{numbers}\\n\")"
      ]
    },
    {
      "cell_type": "code",
      "source": [
        "!time ./max_pairwise_product_sort < input21.txt"
      ],
      "metadata": {
        "colab": {
          "base_uri": "https://localhost:8080/"
        },
        "id": "AyYEy51e0lK6",
        "outputId": "c1e9031d-f138-4672-ab92-1478c3e21b0e"
      },
      "execution_count": 105,
      "outputs": [
        {
          "output_type": "stream",
          "name": "stdout",
          "text": [
            "/bin/bash: line 1: ./max_pairwise_product_sort: No such file or directory\n",
            "\n",
            "real\t0m0.001s\n",
            "user\t0m0.000s\n",
            "sys\t0m0.001s\n"
          ]
        }
      ]
    },
    {
      "cell_type": "code",
      "source": [
        "!./max_pairwise_product_sort2 < input21.txt"
      ],
      "metadata": {
        "colab": {
          "base_uri": "https://localhost:8080/"
        },
        "id": "s9rOb2UT0oNF",
        "outputId": "42a4867c-19cc-4f5b-b281-13e8232e0448"
      },
      "execution_count": 106,
      "outputs": [
        {
          "output_type": "stream",
          "name": "stdout",
          "text": [
            "/bin/bash: line 1: ./max_pairwise_product_sort2: No such file or directory\n"
          ]
        }
      ]
    },
    {
      "cell_type": "code",
      "source": [
        "n=200000\n",
        "print((3 * n) + (n * math.log(n)) + 8)"
      ],
      "metadata": {
        "colab": {
          "base_uri": "https://localhost:8080/"
        },
        "id": "0GYycDcQ0oGa",
        "outputId": "1c9942ac-a7d6-42a8-fa88-de692f9f3078"
      },
      "execution_count": 107,
      "outputs": [
        {
          "output_type": "stream",
          "name": "stdout",
          "text": [
            "3041222.529106035\n"
          ]
        }
      ]
    },
    {
      "cell_type": "markdown",
      "metadata": {
        "id": "VMKC5duEOQfk"
      },
      "source": [
        "## Efficient solution with largest and second-largest in an list, array or vector in C++ and Python\n",
        "\n",
        " $$T(n) < 10 n  = O(n)$$\n",
        "\n",
        "\n",
        "\n"
      ]
    },
    {
      "cell_type": "markdown",
      "metadata": {
        "id": "nLcKBwbU0QsE"
      },
      "source": [
        "Add in each line a coment with the number of intstrcution that are executed in that line"
      ]
    },
    {
      "cell_type": "code",
      "execution_count": 108,
      "metadata": {
        "id": "knls5Fh3NSt_",
        "colab": {
          "base_uri": "https://localhost:8080/"
        },
        "outputId": "eeb81dad-d985-4d1a-805a-4b177850524c"
      },
      "outputs": [
        {
          "output_type": "stream",
          "name": "stdout",
          "text": [
            "Writing max_pairwise_product_efficient.py\n"
          ]
        }
      ],
      "source": [
        "%%writefile max_pairwise_product_efficient.py\n",
        "def max_pairwise_product(numbers):\n",
        "    max1 = float('-inf')  # 1\n",
        "    max2 = float('-inf')  # 1\n",
        "\n",
        "    for num in numbers:  # n\n",
        "        if num > max1:  # n\n",
        "            max2 = max1  # n\n",
        "            max1 = num  # n\n",
        "        elif num > max2:  # n\n",
        "            max2 = num  # n\n",
        "\n",
        "    return max1 * max2  # 1\n",
        "\n",
        "n = int(input())  # 1\n",
        "\n",
        "input_numbers = list(map(int, input().split()))  # n\n",
        "\n",
        "result = max_pairwise_product(input_numbers)  # 1\n",
        "\n",
        "print(result)  # 1\n",
        "\n",
        "#total: 7*n+6"
      ]
    },
    {
      "cell_type": "markdown",
      "metadata": {
        "id": "-JCijbWxNSii"
      },
      "source": [
        "Test with inputs 1 and 2\n",
        "\n"
      ]
    },
    {
      "cell_type": "code",
      "execution_count": 109,
      "metadata": {
        "id": "TrTGAfqlNVXT",
        "colab": {
          "base_uri": "https://localhost:8080/"
        },
        "outputId": "eb9d4f3d-4118-4183-e8f0-a4177b60ad98"
      },
      "outputs": [
        {
          "output_type": "stream",
          "name": "stdout",
          "text": [
            "-rwxr-xr-x 1 root root 460 Dec  4 13:51 max_pairwise_product_efficient.py\n"
          ]
        }
      ],
      "source": [
        "!chmod +x max_pairwise_product_efficient.py\n",
        "!ls -l max_pairwise_product_efficient.py"
      ]
    },
    {
      "cell_type": "markdown",
      "metadata": {
        "id": "PRX51wADNR8b"
      },
      "source": [
        "Test and time it with input 3"
      ]
    },
    {
      "cell_type": "code",
      "execution_count": 110,
      "metadata": {
        "id": "v4z7-Is_NRt7",
        "colab": {
          "base_uri": "https://localhost:8080/"
        },
        "outputId": "8e9731c7-629b-4a12-860b-ae42ee1dd94e"
      },
      "outputs": [
        {
          "output_type": "stream",
          "name": "stdout",
          "text": [
            "90\n",
            "90\n"
          ]
        }
      ],
      "source": [
        "!python ./max_pairwise_product_efficient.py < input1.txt\n",
        "!python ./max_pairwise_product_efficient.py < input2.txt"
      ]
    },
    {
      "cell_type": "markdown",
      "metadata": {
        "id": "rpdfs0_TNZJf"
      },
      "source": [
        "20 stress tests"
      ]
    },
    {
      "cell_type": "code",
      "execution_count": 111,
      "metadata": {
        "id": "Lu4tYcKzNcTT",
        "colab": {
          "base_uri": "https://localhost:8080/"
        },
        "outputId": "caa88a26-b64c-4e3d-9385-8e53fd5beb8c"
      },
      "outputs": [
        {
          "output_type": "stream",
          "name": "stdout",
          "text": [
            "90\n",
            "90\n",
            "40000000000\n",
            "/bin/bash: line 1: input4.txt: No such file or directory\n",
            "420702669\n",
            "20404020\n",
            "329109228\n",
            "518073408\n",
            "5600000\n",
            "7346174472\n",
            "9951410208\n",
            "9966427900\n",
            "9357414300\n",
            "9930232997\n",
            "9942582474\n",
            "9978111570\n",
            "9986404623\n",
            "9995600475\n",
            "9990502184\n",
            "9974413575\n"
          ]
        }
      ],
      "source": [
        "!python max_pairwise_product_efficient.py < input1.txt\n",
        "!python max_pairwise_product_efficient.py < input2.txt\n",
        "!python max_pairwise_product_efficient.py < input3.txt\n",
        "!python max_pairwise_product_efficient.py < input4.txt\n",
        "!python max_pairwise_product_efficient.py < input5.txt\n",
        "!python max_pairwise_product_efficient.py < input6.txt\n",
        "!python max_pairwise_product_efficient.py < input7.txt\n",
        "!python max_pairwise_product_efficient.py < input8.txt\n",
        "!python max_pairwise_product_efficient.py < input9.txt\n",
        "!python max_pairwise_product_efficient.py < input10.txt\n",
        "!python max_pairwise_product_efficient.py < input11.txt\n",
        "!python max_pairwise_product_efficient.py < input12.txt\n",
        "!python max_pairwise_product_efficient.py < input13.txt\n",
        "!python max_pairwise_product_efficient.py < input14.txt\n",
        "!python max_pairwise_product_efficient.py < input15.txt\n",
        "!python max_pairwise_product_efficient.py < input16.txt\n",
        "!python max_pairwise_product_efficient.py < input17.txt\n",
        "!python max_pairwise_product_efficient.py < input18.txt\n",
        "!python max_pairwise_product_efficient.py < input19.txt\n",
        "!python max_pairwise_product_efficient.py < input20.txt"
      ]
    },
    {
      "cell_type": "markdown",
      "metadata": {
        "id": "L8U4151JNbxk"
      },
      "source": [
        "Count executed instructions in code and verify with inputs 1,2 and 3\n"
      ]
    },
    {
      "cell_type": "code",
      "execution_count": 112,
      "metadata": {
        "id": "dh85RM8vNhFz",
        "colab": {
          "base_uri": "https://localhost:8080/"
        },
        "outputId": "80748779-1300-4a18-dd07-3d1f43b9770b"
      },
      "outputs": [
        {
          "output_type": "stream",
          "name": "stdout",
          "text": [
            "Writing max_pairwise_product_sort2.py\n"
          ]
        }
      ],
      "source": [
        "%%writefile max_pairwise_product_sort2.py\n",
        "def max_pairwise_product(numbers):\n",
        "    max1 = float('-inf')  # 1\n",
        "    max2 = float('-inf')  # 1\n",
        "    execints = 2  # Inicialización con el número de instrucciones hasta el bucle for\n",
        "\n",
        "    for num in numbers:  # n\n",
        "        if num > max1:  # n\n",
        "            max2 = max1  # n\n",
        "            max1 = num  # n\n",
        "            execints += 3  # 3 instrucciones: comparación, asignación de max2, asignación de max1\n",
        "        elif num > max2:  # n\n",
        "            max2 = num  # n\n",
        "            execints += 1  # 1 instrucción: asignación de max2\n",
        "\n",
        "    return max1 * max2, execints  # 1 instrucción: retorno del producto y del número de instrucciones\n",
        "\n",
        "n = int(input())  # 1\n",
        "execints = 1  # Inicialización con el número de instrucciones hasta la lectura de n\n",
        "\n",
        "input_numbers = list(map(int, input().split()))  # n\n",
        "execints += n  # Incremento del contador de instrucciones por la creación de la lista\n",
        "\n",
        "result, execints_func = max_pairwise_product(input_numbers)  # 1 (la función se ejecuta)\n",
        "execints += execints_func  # Incremento del contador de instrucciones por la ejecución de la función\n",
        "\n",
        "print(result)  # 1\n",
        "execints += 1  # Incremento del contador de instrucciones por la impresión del resultado\n",
        "\n",
        "print(\"Número total de instrucciones ejecutadas:\", execints)  # 1"
      ]
    },
    {
      "cell_type": "code",
      "source": [
        "!chmod +x max_pairwise_product_sort2.py\n",
        "!ls -l max_pairwise_product_sort2.py"
      ],
      "metadata": {
        "colab": {
          "base_uri": "https://localhost:8080/"
        },
        "id": "I86CyRbo1pnu",
        "outputId": "48fe85b6-4d36-43b2-aaaf-a7815ad843b8"
      },
      "execution_count": 113,
      "outputs": [
        {
          "output_type": "stream",
          "name": "stdout",
          "text": [
            "-rwxr-xr-x 1 root root 1248 Dec  4 13:51 max_pairwise_product_sort2.py\n"
          ]
        }
      ]
    },
    {
      "cell_type": "code",
      "source": [
        "!python max_pairwise_product_sort2.py < input1.txt"
      ],
      "metadata": {
        "colab": {
          "base_uri": "https://localhost:8080/"
        },
        "id": "VaDkZ8F71r2q",
        "outputId": "4104fe9e-7cc4-4920-9ce9-e8502817ab25"
      },
      "execution_count": 114,
      "outputs": [
        {
          "output_type": "stream",
          "name": "stdout",
          "text": [
            "90\n",
            "Número total de instrucciones ejecutadas: 44\n"
          ]
        }
      ]
    },
    {
      "cell_type": "code",
      "source": [
        "!python max_pairwise_product_sort2.py < input2.txt"
      ],
      "metadata": {
        "colab": {
          "base_uri": "https://localhost:8080/"
        },
        "id": "8RxBS-id1tYd",
        "outputId": "af325b84-68ba-4b4a-8a6a-8bc09df9b1ec"
      },
      "execution_count": 115,
      "outputs": [
        {
          "output_type": "stream",
          "name": "stdout",
          "text": [
            "90\n",
            "Número total de instrucciones ejecutadas: 18\n"
          ]
        }
      ]
    },
    {
      "cell_type": "markdown",
      "metadata": {
        "id": "K6ybgCmpNygr"
      },
      "source": [
        "Calculate estimated time by instruction and number of instructions by second"
      ]
    },
    {
      "cell_type": "code",
      "execution_count": 116,
      "metadata": {
        "id": "kwe3G1O3Nz1w"
      },
      "outputs": [],
      "source": [
        "n = 200000\n",
        "numbers = \" \".join(map(str, range(1, 200001)))\n",
        "with open('input21.txt', 'w') as file:\n",
        "    file.write(f\"{n}\\n{numbers}\\n\")\n",
        ""
      ]
    },
    {
      "cell_type": "code",
      "source": [
        "!time python ./max_pairwise_product_sort2.py < input21.txt"
      ],
      "metadata": {
        "colab": {
          "base_uri": "https://localhost:8080/"
        },
        "id": "qwpoiVFH1xdC",
        "outputId": "051c39bf-ccf0-41f3-876a-6f808c0cfe8e"
      },
      "execution_count": 117,
      "outputs": [
        {
          "output_type": "stream",
          "name": "stdout",
          "text": [
            "39999800000\n",
            "Número total de instrucciones ejecutadas: 800004\n",
            "\n",
            "real\t0m0.118s\n",
            "user\t0m0.076s\n",
            "sys\t0m0.036s\n"
          ]
        }
      ]
    },
    {
      "cell_type": "markdown",
      "source": [
        "### Estimate and verify the maximun n that can be solved in 1 second"
      ],
      "metadata": {
        "id": "v8GY6n_ZaJ4P"
      }
    },
    {
      "cell_type": "markdown",
      "source": [
        "$$\n",
        "(n+n*log(n)+7)\\times 1.44*10^{-7}s = 1s\n",
        "$$\n",
        "\n",
        "$T(N)=(n+nlog(n)+7)$ is not the actual function of the code, given that the execution time is less than 1 second with the given n, the value of n that results in an execution time of 1 second is:\n",
        "$$\n",
        "\\approx 2*10^{6}\n",
        "$$"
      ],
      "metadata": {
        "id": "zj0uFeMJ15Cj"
      }
    },
    {
      "cell_type": "code",
      "source": [
        "print(2000000*(2000000-1))"
      ],
      "metadata": {
        "id": "z3xjzg1YaKk6",
        "colab": {
          "base_uri": "https://localhost:8080/"
        },
        "outputId": "9c5fdc10-5bf3-469d-e0a0-bbc25f224f7f"
      },
      "execution_count": 118,
      "outputs": [
        {
          "output_type": "stream",
          "name": "stdout",
          "text": [
            "3999998000000\n"
          ]
        }
      ]
    },
    {
      "cell_type": "code",
      "source": [
        "n = (2000000)\n",
        "numbers = \" \".join(map(str, range(1, n+1)))\n",
        "with open('input22.txt', 'w') as file:\n",
        "    file.write(f\"{n}\\n{numbers}\\n\")"
      ],
      "metadata": {
        "id": "RvM1cCOx2VbS"
      },
      "execution_count": 119,
      "outputs": []
    },
    {
      "cell_type": "code",
      "source": [
        "!time python ./max_pairwise_product_sort.py < input22.txt"
      ],
      "metadata": {
        "colab": {
          "base_uri": "https://localhost:8080/"
        },
        "id": "7Alw3H1r2YCs",
        "outputId": "0dea13de-9f3d-4b62-caf1-7f06453b69d3"
      },
      "execution_count": 120,
      "outputs": [
        {
          "output_type": "stream",
          "name": "stdout",
          "text": [
            "python3: can't open file '/content/./max_pairwise_product_sort.py': [Errno 2] No such file or directory\n",
            "\n",
            "real\t0m0.034s\n",
            "user\t0m0.023s\n",
            "sys\t0m0.010s\n"
          ]
        }
      ]
    },
    {
      "cell_type": "markdown",
      "metadata": {
        "id": "sUpIWcykOGpT"
      },
      "source": [
        "## Super efficient solution\n",
        "\n",
        "Whitout storing the list in memory, only stpring the largest and second largest and whitout calling a function, add in each line a coment with the number of instructions that are executed in that line\n",
        "\n",
        "in C++ and Python\n",
        "\n",
        "\n",
        " $$T(n) < 13 n  = O(n)$$\n"
      ]
    },
    {
      "cell_type": "code",
      "execution_count": 121,
      "metadata": {
        "id": "hBLt_xBQLy8E",
        "colab": {
          "base_uri": "https://localhost:8080/"
        },
        "outputId": "e22bc444-2254-4c62-d356-2391f78f75ed"
      },
      "outputs": [
        {
          "output_type": "stream",
          "name": "stdout",
          "text": [
            "\u001b[01m\u001b[Kcc1plus:\u001b[m\u001b[K \u001b[01;31m\u001b[Kfatal error: \u001b[m\u001b[Kmax_pairwise_product_superefficient.cpp: No such file or directory\n",
            "compilation terminated.\n",
            "chmod: cannot access 'max_pairwise_product_superefficient.cpp': No such file or directory\n",
            "ls: cannot access 'max_pairwise_product_superefficient.cpp': No such file or directory\n",
            "ls: cannot access 'max_pairwise_product_superefficient': No such file or directory\n"
          ]
        }
      ],
      "source": [
        "!g++ -o max_pairwise_product_superefficient max_pairwise_product_superefficient.cpp\n",
        "!chmod +x max_pairwise_product_superefficient.cpp\n",
        "!ls -l max_pairwise_product_superefficient.cpp max_pairwise_product_superefficient\n",
        ""
      ]
    },
    {
      "cell_type": "markdown",
      "metadata": {
        "id": "683gc3roHqzb"
      },
      "source": [
        "Test with inputs 1 and 2\n",
        "\n",
        "\n"
      ]
    },
    {
      "cell_type": "code",
      "execution_count": 122,
      "metadata": {
        "id": "b7d4LA8OIc2_",
        "colab": {
          "base_uri": "https://localhost:8080/"
        },
        "outputId": "faaab6fd-2b2a-45ff-9e70-5d01970185f5"
      },
      "outputs": [
        {
          "output_type": "stream",
          "name": "stdout",
          "text": [
            "/bin/bash: line 1: ./max_pairwise_product_superefficient: No such file or directory\n",
            "/bin/bash: line 1: ./max_pairwise_product_superefficient: No such file or directory\n"
          ]
        }
      ],
      "source": [
        "! ./max_pairwise_product_superefficient < input1.txt\n",
        "! ./max_pairwise_product_superefficient < input2.txt"
      ]
    },
    {
      "cell_type": "markdown",
      "metadata": {
        "id": "36Ugn1odIeJz"
      },
      "source": [
        "Test and time it with input 3"
      ]
    },
    {
      "cell_type": "code",
      "execution_count": 123,
      "metadata": {
        "id": "jDyMbCnxHqSN",
        "colab": {
          "base_uri": "https://localhost:8080/"
        },
        "outputId": "57a4fd53-9af8-481f-9334-7d67ffd9d4fc"
      },
      "outputs": [
        {
          "output_type": "stream",
          "name": "stdout",
          "text": [
            "/bin/bash: line 1: ./max_pairwise_product_superefficient: No such file or directory\n",
            "\n",
            "real\t0m0.001s\n",
            "user\t0m0.000s\n",
            "sys\t0m0.001s\n"
          ]
        }
      ],
      "source": [
        "!time ./max_pairwise_product_superefficient < input3.txt"
      ]
    },
    {
      "cell_type": "markdown",
      "metadata": {
        "id": "bhqiKQG6fjKM"
      },
      "source": [
        "20 stress tests"
      ]
    },
    {
      "cell_type": "code",
      "execution_count": 124,
      "metadata": {
        "id": "2KsiXKhALzwm"
      },
      "outputs": [],
      "source": [
        "for i in range(20,41):\n",
        "  new_file=open(f\"input{i}\",\"w\")"
      ]
    },
    {
      "cell_type": "code",
      "source": [
        "!g++ -o randomGenerator randomGenerator.cpp\n",
        "!chmod +x randomGenerator.cpp\n",
        "!ls -l randomGenerator.cpp randomGenerator"
      ],
      "metadata": {
        "colab": {
          "base_uri": "https://localhost:8080/"
        },
        "id": "jU3LXOWp3Tv6",
        "outputId": "d084504a-98dc-43a7-ed70-964c2c501b33"
      },
      "execution_count": 125,
      "outputs": [
        {
          "output_type": "stream",
          "name": "stdout",
          "text": [
            "\u001b[01m\u001b[Kcc1plus:\u001b[m\u001b[K \u001b[01;31m\u001b[Kfatal error: \u001b[m\u001b[KrandomGenerator.cpp: No such file or directory\n",
            "compilation terminated.\n",
            "chmod: cannot access 'randomGenerator.cpp': No such file or directory\n",
            "ls: cannot access 'randomGenerator.cpp': No such file or directory\n",
            "ls: cannot access 'randomGenerator': No such file or directory\n"
          ]
        }
      ]
    },
    {
      "cell_type": "code",
      "source": [
        "! ./randomGenerator > input20.txt\n",
        "! ./randomGenerator > input21.txt\n",
        "! ./randomGenerator > input22.txt\n",
        "! ./randomGenerator > input23.txt\n",
        "! ./randomGenerator > input24.txt\n",
        "! ./randomGenerator > input25.txt\n",
        "! ./randomGenerator > input26.txt\n",
        "! ./randomGenerator > input27.txt\n",
        "! ./randomGenerator > input28.txt\n",
        "! ./randomGenerator > input29.txt\n",
        "! ./randomGenerator > input30.txt\n",
        "! ./randomGenerator > input31.txt\n",
        "! ./randomGenerator > input32.txt\n",
        "! ./randomGenerator > input33.txt\n",
        "! ./randomGenerator > input34.txt\n",
        "! ./randomGenerator > input35.txt\n",
        "! ./randomGenerator > input36.txt\n",
        "! ./randomGenerator > input37.txt\n",
        "! ./randomGenerator > input38.txt\n",
        "! ./randomGenerator > input39.txt\n",
        "! ./randomGenerator > input40.txt"
      ],
      "metadata": {
        "colab": {
          "base_uri": "https://localhost:8080/"
        },
        "id": "1wRiQdk43VqK",
        "outputId": "c637d05a-e61d-4926-bb70-5bd3cca2957e"
      },
      "execution_count": 126,
      "outputs": [
        {
          "output_type": "stream",
          "name": "stdout",
          "text": [
            "/bin/bash: line 1: ./randomGenerator: No such file or directory\n",
            "/bin/bash: line 1: ./randomGenerator: No such file or directory\n",
            "/bin/bash: line 1: ./randomGenerator: No such file or directory\n",
            "/bin/bash: line 1: ./randomGenerator: No such file or directory\n",
            "/bin/bash: line 1: ./randomGenerator: No such file or directory\n",
            "/bin/bash: line 1: ./randomGenerator: No such file or directory\n",
            "/bin/bash: line 1: ./randomGenerator: No such file or directory\n",
            "/bin/bash: line 1: ./randomGenerator: No such file or directory\n",
            "/bin/bash: line 1: ./randomGenerator: No such file or directory\n",
            "/bin/bash: line 1: ./randomGenerator: No such file or directory\n",
            "/bin/bash: line 1: ./randomGenerator: No such file or directory\n",
            "/bin/bash: line 1: ./randomGenerator: No such file or directory\n",
            "/bin/bash: line 1: ./randomGenerator: No such file or directory\n",
            "/bin/bash: line 1: ./randomGenerator: No such file or directory\n",
            "/bin/bash: line 1: ./randomGenerator: No such file or directory\n",
            "/bin/bash: line 1: ./randomGenerator: No such file or directory\n",
            "/bin/bash: line 1: ./randomGenerator: No such file or directory\n",
            "/bin/bash: line 1: ./randomGenerator: No such file or directory\n",
            "/bin/bash: line 1: ./randomGenerator: No such file or directory\n",
            "/bin/bash: line 1: ./randomGenerator: No such file or directory\n",
            "/bin/bash: line 1: ./randomGenerator: No such file or directory\n"
          ]
        }
      ]
    },
    {
      "cell_type": "code",
      "source": [
        "! ./max_pairwise_product_superefficient < input20.txt\n",
        "! ./max_pairwise_product_superefficient < input21.txt\n",
        "! ./max_pairwise_product_superefficient < input22.txt\n",
        "! ./max_pairwise_product_superefficient < input23.txt\n",
        "! ./max_pairwise_product_superefficient < input24.txt\n",
        "! ./max_pairwise_product_superefficient < input25.txt\n",
        "! ./max_pairwise_product_superefficient < input26.txt\n",
        "! ./max_pairwise_product_superefficient < input27.txt\n",
        "! ./max_pairwise_product_superefficient < input28.txt\n",
        "! ./max_pairwise_product_superefficient < input29.txt\n",
        "! ./max_pairwise_product_superefficient < input30.txt\n",
        "! ./max_pairwise_product_superefficient < input31.txt\n",
        "! ./max_pairwise_product_superefficient < input32.txt\n",
        "! ./max_pairwise_product_superefficient < input33.txt\n",
        "! ./max_pairwise_product_superefficient < input34.txt\n",
        "! ./max_pairwise_product_superefficient < input35.txt\n",
        "! ./max_pairwise_product_superefficient < input36.txt\n",
        "! ./max_pairwise_product_superefficient < input37.txt\n",
        "! ./max_pairwise_product_superefficient < input38.txt\n",
        "! ./max_pairwise_product_superefficient < input39.txt\n",
        "! ./max_pairwise_product_superefficient < input30.txt\n"
      ],
      "metadata": {
        "colab": {
          "base_uri": "https://localhost:8080/"
        },
        "id": "LGWjMkVr3XTN",
        "outputId": "c918d6bc-eb90-4cf0-fa8c-c1609b8bef25"
      },
      "execution_count": 127,
      "outputs": [
        {
          "output_type": "stream",
          "name": "stdout",
          "text": [
            "/bin/bash: line 1: ./max_pairwise_product_superefficient: No such file or directory\n",
            "/bin/bash: line 1: ./max_pairwise_product_superefficient: No such file or directory\n",
            "/bin/bash: line 1: ./max_pairwise_product_superefficient: No such file or directory\n",
            "/bin/bash: line 1: ./max_pairwise_product_superefficient: No such file or directory\n",
            "/bin/bash: line 1: ./max_pairwise_product_superefficient: No such file or directory\n",
            "/bin/bash: line 1: ./max_pairwise_product_superefficient: No such file or directory\n",
            "/bin/bash: line 1: ./max_pairwise_product_superefficient: No such file or directory\n",
            "/bin/bash: line 1: ./max_pairwise_product_superefficient: No such file or directory\n",
            "/bin/bash: line 1: ./max_pairwise_product_superefficient: No such file or directory\n",
            "/bin/bash: line 1: ./max_pairwise_product_superefficient: No such file or directory\n",
            "/bin/bash: line 1: ./max_pairwise_product_superefficient: No such file or directory\n",
            "/bin/bash: line 1: ./max_pairwise_product_superefficient: No such file or directory\n",
            "/bin/bash: line 1: ./max_pairwise_product_superefficient: No such file or directory\n",
            "/bin/bash: line 1: ./max_pairwise_product_superefficient: No such file or directory\n",
            "/bin/bash: line 1: ./max_pairwise_product_superefficient: No such file or directory\n",
            "/bin/bash: line 1: ./max_pairwise_product_superefficient: No such file or directory\n",
            "/bin/bash: line 1: ./max_pairwise_product_superefficient: No such file or directory\n",
            "/bin/bash: line 1: ./max_pairwise_product_superefficient: No such file or directory\n",
            "/bin/bash: line 1: ./max_pairwise_product_superefficient: No such file or directory\n",
            "/bin/bash: line 1: ./max_pairwise_product_superefficient: No such file or directory\n",
            "/bin/bash: line 1: ./max_pairwise_product_superefficient: No such file or directory\n"
          ]
        }
      ]
    },
    {
      "cell_type": "markdown",
      "metadata": {
        "id": "fEXj8GHJH5p1"
      },
      "source": [
        "Count executed instructions in code and verify with inputs 1,2 and 3"
      ]
    },
    {
      "cell_type": "code",
      "execution_count": 128,
      "metadata": {
        "id": "LF1DHjKXIAsF",
        "colab": {
          "base_uri": "https://localhost:8080/"
        },
        "outputId": "dc466bbc-c85a-48ce-e631-5f95795c8342"
      },
      "outputs": [
        {
          "output_type": "stream",
          "name": "stdout",
          "text": [
            "Writing max_pairwise_product_superefficient2.cpp\n"
          ]
        }
      ],
      "source": [
        "%%writefile max_pairwise_product_superefficient2.cpp\n",
        "#include\n",
        "using namespace std;\n",
        "int main(){\n",
        "  int execints=0;\n",
        "  long max, secondMax, input, n;\n",
        "  cin>>n;                      #1\n",
        "  cin>>max;                    #1\n",
        "  cin>>input;                  #1\n",
        "  if(input>max){\n",
        "    secondMax=max;\n",
        "    max=input;                 #2  upper bound\n",
        "  }\n",
        "  else{\n",
        "    secondMax=input;\n",
        "  }\n",
        "  for(int i=0; i>input;                #n-2\n",
        "    if(input>secondMax){\n",
        "      if(input>max){\n",
        "        secondMax=max;\n",
        "        max=input;             #2(n-2) upper bound\n",
        "      }\n",
        "      else{\n",
        "        secondMax=input;\n",
        "      }\n",
        "    }\n",
        "\n",
        "  }\n"
      ]
    },
    {
      "cell_type": "code",
      "source": [
        "!g++ -o max_pairwise_product_superefficient2 max_pairwise_product_superefficient2.cpp\n",
        "!chmod +x max_pairwise_product_superefficient2.cpp\n",
        "!ls -l max_pairwise_product_superefficient2.cpp max_pairwise_product_superefficient2"
      ],
      "metadata": {
        "colab": {
          "base_uri": "https://localhost:8080/"
        },
        "id": "pGXwJMG13yP5",
        "outputId": "6ce6a0de-caf4-4cae-bcea-8edc814d7a5d"
      },
      "execution_count": 129,
      "outputs": [
        {
          "output_type": "stream",
          "name": "stdout",
          "text": [
            "\u001b[01m\u001b[Kmax_pairwise_product_superefficient2.cpp:1:10:\u001b[m\u001b[K \u001b[01;31m\u001b[Kerror: \u001b[m\u001b[K#include expects \"FILENAME\" or <FILENAME>\n",
            "    1 | #include\n",
            "      |          \u001b[01;31m\u001b[K^\u001b[m\u001b[K\n",
            "\u001b[01m\u001b[Kmax_pairwise_product_superefficient2.cpp:6:32:\u001b[m\u001b[K \u001b[01;31m\u001b[Kerror: \u001b[m\u001b[Kstray ‘\u001b[01m\u001b[K#\u001b[m\u001b[K’ in program\n",
            "    6 |   cin>>n;                      \u001b[01;31m\u001b[K#\u001b[m\u001b[K1\n",
            "      |                                \u001b[01;31m\u001b[K^\u001b[m\u001b[K\n",
            "\u001b[01m\u001b[Kmax_pairwise_product_superefficient2.cpp:7:32:\u001b[m\u001b[K \u001b[01;31m\u001b[Kerror: \u001b[m\u001b[Kstray ‘\u001b[01m\u001b[K#\u001b[m\u001b[K’ in program\n",
            "    7 |   cin>>max;                    \u001b[01;31m\u001b[K#\u001b[m\u001b[K1\n",
            "      |                                \u001b[01;31m\u001b[K^\u001b[m\u001b[K\n",
            "\u001b[01m\u001b[Kmax_pairwise_product_superefficient2.cpp:8:32:\u001b[m\u001b[K \u001b[01;31m\u001b[Kerror: \u001b[m\u001b[Kstray ‘\u001b[01m\u001b[K#\u001b[m\u001b[K’ in program\n",
            "    8 |   cin>>input;                  \u001b[01;31m\u001b[K#\u001b[m\u001b[K1\n",
            "      |                                \u001b[01;31m\u001b[K^\u001b[m\u001b[K\n",
            "\u001b[01m\u001b[Kmax_pairwise_product_superefficient2.cpp:11:32:\u001b[m\u001b[K \u001b[01;31m\u001b[Kerror: \u001b[m\u001b[Kstray ‘\u001b[01m\u001b[K#\u001b[m\u001b[K’ in program\n",
            "   11 |     max=input;                 \u001b[01;31m\u001b[K#\u001b[m\u001b[K2  upper bound\n",
            "      |                                \u001b[01;31m\u001b[K^\u001b[m\u001b[K\n",
            "\u001b[01m\u001b[Kmax_pairwise_product_superefficient2.cpp:16:40:\u001b[m\u001b[K \u001b[01;31m\u001b[Kerror: \u001b[m\u001b[Kstray ‘\u001b[01m\u001b[K#\u001b[m\u001b[K’ in program\n",
            "   16 |   for(int i=0; i>input;                \u001b[01;31m\u001b[K#\u001b[m\u001b[Kn-2\n",
            "      |                                        \u001b[01;31m\u001b[K^\u001b[m\u001b[K\n",
            "\u001b[01m\u001b[Kmax_pairwise_product_superefficient2.cpp:20:32:\u001b[m\u001b[K \u001b[01;31m\u001b[Kerror: \u001b[m\u001b[Kstray ‘\u001b[01m\u001b[K#\u001b[m\u001b[K’ in program\n",
            "   20 |         max=input;             \u001b[01;31m\u001b[K#\u001b[m\u001b[K2(n-2) upper bound\n",
            "      |                                \u001b[01;31m\u001b[K^\u001b[m\u001b[K\n",
            "\u001b[01m\u001b[Kmax_pairwise_product_superefficient2.cpp:\u001b[m\u001b[K In function ‘\u001b[01m\u001b[Kint main()\u001b[m\u001b[K’:\n",
            "\u001b[01m\u001b[Kmax_pairwise_product_superefficient2.cpp:6:3:\u001b[m\u001b[K \u001b[01;31m\u001b[Kerror: \u001b[m\u001b[K‘\u001b[01m\u001b[Kcin\u001b[m\u001b[K’ was not declared in this scope\n",
            "    6 |   \u001b[01;31m\u001b[Kcin\u001b[m\u001b[K>>n;                      #1\n",
            "      |   \u001b[01;31m\u001b[K^~~\u001b[m\u001b[K\n",
            "\u001b[01m\u001b[Kmax_pairwise_product_superefficient2.cpp:1:1:\u001b[m\u001b[K \u001b[01;36m\u001b[Knote: \u001b[m\u001b[K‘\u001b[01m\u001b[Kstd::cin\u001b[m\u001b[K’ is defined in header ‘\u001b[01m\u001b[K<iostream>\u001b[m\u001b[K’; did you forget to ‘\u001b[01m\u001b[K#include <iostream>\u001b[m\u001b[K’?\n",
            "  +++ |+\u001b[32m\u001b[K#include <iostream>\u001b[m\u001b[K\n",
            "    1 | #include\n",
            "\u001b[01m\u001b[Kmax_pairwise_product_superefficient2.cpp:6:34:\u001b[m\u001b[K \u001b[01;31m\u001b[Kerror: \u001b[m\u001b[Kexpected ‘\u001b[01m\u001b[K;\u001b[m\u001b[K’ before ‘\u001b[01m\u001b[Kcin\u001b[m\u001b[K’\n",
            "    6 |   cin>>n;                      #1\n",
            "      |                                  \u001b[01;31m\u001b[K^\u001b[m\u001b[K\n",
            "      |                                  \u001b[32m\u001b[K;\u001b[m\u001b[K\n",
            "    7 |   \u001b[32m\u001b[Kcin\u001b[m\u001b[K>>max;                    #1\n",
            "      |   \u001b[32m\u001b[K~~~\u001b[m\u001b[K                             \n",
            "\u001b[01m\u001b[Kmax_pairwise_product_superefficient2.cpp:7:34:\u001b[m\u001b[K \u001b[01;31m\u001b[Kerror: \u001b[m\u001b[Kexpected ‘\u001b[01m\u001b[K;\u001b[m\u001b[K’ before ‘\u001b[01m\u001b[Kcin\u001b[m\u001b[K’\n",
            "    7 |   cin>>max;                    #1\n",
            "      |                                  \u001b[01;31m\u001b[K^\u001b[m\u001b[K\n",
            "      |                                  \u001b[32m\u001b[K;\u001b[m\u001b[K\n",
            "    8 |   \u001b[32m\u001b[Kcin\u001b[m\u001b[K>>input;                  #1\n",
            "      |   \u001b[32m\u001b[K~~~\u001b[m\u001b[K                             \n",
            "\u001b[01m\u001b[Kmax_pairwise_product_superefficient2.cpp:8:34:\u001b[m\u001b[K \u001b[01;31m\u001b[Kerror: \u001b[m\u001b[Kexpected ‘\u001b[01m\u001b[K;\u001b[m\u001b[K’ before ‘\u001b[01m\u001b[Kif\u001b[m\u001b[K’\n",
            "    8 |   cin>>input;                  #1\n",
            "      |                                  \u001b[01;31m\u001b[K^\u001b[m\u001b[K\n",
            "      |                                  \u001b[32m\u001b[K;\u001b[m\u001b[K\n",
            "    9 |   \u001b[32m\u001b[Kif\u001b[m\u001b[K(input>max){\n",
            "      |   \u001b[32m\u001b[K~~\u001b[m\u001b[K                              \n",
            "\u001b[01m\u001b[Kmax_pairwise_product_superefficient2.cpp:13:3:\u001b[m\u001b[K \u001b[01;31m\u001b[Kerror: \u001b[m\u001b[K‘\u001b[01m\u001b[Kelse\u001b[m\u001b[K’ without a previous ‘\u001b[01m\u001b[Kif\u001b[m\u001b[K’\n",
            "   13 |   \u001b[01;31m\u001b[Kelse\u001b[m\u001b[K{\n",
            "      |   \u001b[01;31m\u001b[K^~~~\u001b[m\u001b[K\n",
            "\u001b[01m\u001b[Kmax_pairwise_product_superefficient2.cpp:16:44:\u001b[m\u001b[K \u001b[01;31m\u001b[Kerror: \u001b[m\u001b[Kexpected ‘\u001b[01m\u001b[K)\u001b[m\u001b[K’ before ‘\u001b[01m\u001b[Kif\u001b[m\u001b[K’\n",
            "   16 |   for\u001b[34m\u001b[K(\u001b[m\u001b[Kint i=0; i>input;                #n-2\n",
            "      |      \u001b[34m\u001b[K~\u001b[m\u001b[K                                     \u001b[01;31m\u001b[K^\u001b[m\u001b[K\n",
            "      |                                            \u001b[32m\u001b[K)\u001b[m\u001b[K\n",
            "   17 |     \u001b[32m\u001b[Kif\u001b[m\u001b[K(input>secondMax){\n",
            "      |     \u001b[32m\u001b[K~~\u001b[m\u001b[K                                      \n",
            "\u001b[01m\u001b[Kmax_pairwise_product_superefficient2.cpp:20:34:\u001b[m\u001b[K \u001b[01;31m\u001b[Kerror: \u001b[m\u001b[Kexpression cannot be used as a function\n",
            "   20 |         max=input;             #\u001b[01;31m\u001b[K2(n-2)\u001b[m\u001b[K upper bound\n",
            "      |                                 \u001b[01;31m\u001b[K~^~~~~\u001b[m\u001b[K\n",
            "ls: cannot access 'max_pairwise_product_superefficient2': No such file or directory\n",
            "-rwxr-xr-x 1 root root 544 Dec  4 13:52 max_pairwise_product_superefficient2.cpp\n"
          ]
        }
      ]
    },
    {
      "cell_type": "code",
      "source": [
        "! ./max_pairwise_product_superefficient2 < input1.txt"
      ],
      "metadata": {
        "colab": {
          "base_uri": "https://localhost:8080/"
        },
        "id": "zhgHgdLd313R",
        "outputId": "064971ab-c769-4e7a-df92-43ac7c5d73d4"
      },
      "execution_count": 130,
      "outputs": [
        {
          "output_type": "stream",
          "name": "stdout",
          "text": [
            "/bin/bash: line 1: ./max_pairwise_product_superefficient2: No such file or directory\n"
          ]
        }
      ]
    },
    {
      "cell_type": "code",
      "source": [
        "! ./max_pairwise_product_superefficient2 < input2.txt"
      ],
      "metadata": {
        "colab": {
          "base_uri": "https://localhost:8080/"
        },
        "id": "u8naDikK4FHW",
        "outputId": "ecdeb7f1-d5ed-49e0-9d36-df9f2849f2ee"
      },
      "execution_count": 131,
      "outputs": [
        {
          "output_type": "stream",
          "name": "stdout",
          "text": [
            "/bin/bash: line 1: ./max_pairwise_product_superefficient2: No such file or directory\n"
          ]
        }
      ]
    },
    {
      "cell_type": "markdown",
      "source": [
        "### Super efficient solution in Python\n"
      ],
      "metadata": {
        "id": "GMtPFGW53-eW"
      }
    },
    {
      "cell_type": "code",
      "execution_count": 132,
      "metadata": {
        "id": "_mOjJwKrPxcJ",
        "colab": {
          "base_uri": "https://localhost:8080/"
        },
        "outputId": "8fa619c9-af70-496f-bd6b-015211ce81e2"
      },
      "outputs": [
        {
          "output_type": "stream",
          "name": "stdout",
          "text": [
            "Writing max_pairwise_product_sup.py\n"
          ]
        }
      ],
      "source": [
        "%%writefile max_pairwise_product_sup.py\n",
        "n = int(input())  # 1\n",
        "input_numbers = map(int, input().split())  # n\n",
        "max1 = float('-inf')  # 1\n",
        "max2 = float('-inf')  # 1\n",
        "\n",
        "for num in input_numbers:  # n\n",
        "  if num > max1:  # n\n",
        "    max2 = max1  # n\n",
        "    max1 = num  # n\n",
        "  elif num > max2:  # n\n",
        "    max2 = num  # n\n",
        "#prueba\n",
        "#print(max1,max2)\n",
        "result = max1 * max2  # 1\n",
        "\n",
        "print(result)  # 1\n",
        "\n",
        "#total: 7n+5\n",
        ""
      ]
    },
    {
      "cell_type": "markdown",
      "metadata": {
        "id": "K08Eow0hPxcJ"
      },
      "source": [
        "Test with inputs 1 and 2\n",
        "\n",
        "\n"
      ]
    },
    {
      "cell_type": "code",
      "source": [
        "!chmod +x max_pairwise_product_sup.py\n",
        "!ls -l max_pairwise_product_sup.py"
      ],
      "metadata": {
        "colab": {
          "base_uri": "https://localhost:8080/"
        },
        "id": "bZ83Z6344njL",
        "outputId": "ff36aa1b-e7fe-41a3-d5b5-d29fc1b2cb62"
      },
      "execution_count": 133,
      "outputs": [
        {
          "output_type": "stream",
          "name": "stdout",
          "text": [
            "-rwxr-xr-x 1 root root 352 Dec  4 13:52 max_pairwise_product_sup.py\n"
          ]
        }
      ]
    },
    {
      "cell_type": "code",
      "execution_count": 134,
      "metadata": {
        "id": "1_mUee2cPxcJ",
        "colab": {
          "base_uri": "https://localhost:8080/"
        },
        "outputId": "b78b28e7-d2fb-405f-ea54-a82e2da1038b"
      },
      "outputs": [
        {
          "output_type": "stream",
          "name": "stdout",
          "text": [
            "0\n"
          ]
        }
      ],
      "source": [
        "!python ./max_pairwise_product_sup.py < input0.txt"
      ]
    },
    {
      "cell_type": "code",
      "source": [
        "!python ./max_pairwise_product_sup.py < input2.txt"
      ],
      "metadata": {
        "colab": {
          "base_uri": "https://localhost:8080/"
        },
        "id": "KBRGR0qK4r7F",
        "outputId": "2f721d47-a8f7-4be5-b941-3b03e7e89bd9"
      },
      "execution_count": 135,
      "outputs": [
        {
          "output_type": "stream",
          "name": "stdout",
          "text": [
            "90\n"
          ]
        }
      ]
    },
    {
      "cell_type": "markdown",
      "metadata": {
        "id": "CE5DB3CmPxcJ"
      },
      "source": [
        "Test and time it with input 3"
      ]
    },
    {
      "cell_type": "code",
      "execution_count": 136,
      "metadata": {
        "id": "lyLhFOoePxcJ",
        "colab": {
          "base_uri": "https://localhost:8080/"
        },
        "outputId": "7a066055-6a8e-4269-afca-21aa93015130"
      },
      "outputs": [
        {
          "output_type": "stream",
          "name": "stdout",
          "text": [
            "40000000000\n",
            "\n",
            "real\t0m0.045s\n",
            "user\t0m0.032s\n",
            "sys\t0m0.011s\n"
          ]
        }
      ],
      "source": [
        "!time python ./max_pairwise_product_sup.py < input3.txt"
      ]
    },
    {
      "cell_type": "markdown",
      "metadata": {
        "id": "HZEI236lPxcK"
      },
      "source": [
        "20 stress tests"
      ]
    },
    {
      "cell_type": "code",
      "execution_count": 137,
      "metadata": {
        "id": "_LoV-p4zPxcK",
        "colab": {
          "base_uri": "https://localhost:8080/"
        },
        "outputId": "e6d215f5-32bd-42f9-fe05-7813fc18b3b8"
      },
      "outputs": [
        {
          "output_type": "stream",
          "name": "stdout",
          "text": [
            "90\n",
            "90\n",
            "40000000000\n",
            "/bin/bash: line 1: input4.txt: No such file or directory\n",
            "420702669\n",
            "20404020\n",
            "329109228\n",
            "518073408\n",
            "5600000\n",
            "7346174472\n",
            "9951410208\n",
            "9966427900\n",
            "9357414300\n",
            "9942582474\n",
            "9978111570\n",
            "9986404623\n",
            "9995600475\n",
            "9990502184\n",
            "Traceback (most recent call last):\n",
            "  File \"/content/./max_pairwise_product_sup.py\", line 1, in <module>\n",
            "    n = int(input())  # 1\n",
            "EOFError: EOF when reading a line\n"
          ]
        }
      ],
      "source": [
        "!python ./max_pairwise_product_sup.py < input1.txt\n",
        "!python ./max_pairwise_product_sup.py < input2.txt\n",
        "!python ./max_pairwise_product_sup.py < input3.txt\n",
        "!python ./max_pairwise_product_sup.py < input4.txt\n",
        "!python ./max_pairwise_product_sup.py < input5.txt\n",
        "!python ./max_pairwise_product_sup.py < input6.txt\n",
        "!python ./max_pairwise_product_sup.py < input7.txt\n",
        "!python ./max_pairwise_product_sup.py < input8.txt\n",
        "!python ./max_pairwise_product_sup.py < input9.txt\n",
        "!python ./max_pairwise_product_sup.py < input10.txt\n",
        "!python ./max_pairwise_product_sup.py < input11.txt\n",
        "!python ./max_pairwise_product_sup.py < input12.txt\n",
        "!python ./max_pairwise_product_sup.py < input13.txt\n",
        "!python ./max_pairwise_product_sup.py < input15.txt\n",
        "!python ./max_pairwise_product_sup.py < input16.txt\n",
        "!python ./max_pairwise_product_sup.py < input17.txt\n",
        "!python ./max_pairwise_product_sup.py < input18.txt\n",
        "!python ./max_pairwise_product_sup.py < input19.txt\n",
        "!python ./max_pairwise_product_sup.py < input20.txt"
      ]
    },
    {
      "cell_type": "markdown",
      "metadata": {
        "id": "IRVdP3iuPxcK"
      },
      "source": [
        "Count executed instructions in code and verify with inputs 1,2 and 3"
      ]
    },
    {
      "cell_type": "code",
      "execution_count": 138,
      "metadata": {
        "id": "RghJOg78PxcK",
        "colab": {
          "base_uri": "https://localhost:8080/"
        },
        "outputId": "96003d81-4f02-4f37-aea2-e0756adcc4ce"
      },
      "outputs": [
        {
          "output_type": "stream",
          "name": "stdout",
          "text": [
            "Writing max_pairwise_product_sup2.py\n"
          ]
        }
      ],
      "source": [
        "%%writefile max_pairwise_product_sup2.py\n",
        "execints = 0\n",
        "\n",
        "n = int(input())  # 1\n",
        "execints += 1\n",
        "input_numbers = map(int, input().split())  # n\n",
        "execints += 1\n",
        "max1 = float('-inf')  # 1\n",
        "execints += 1\n",
        "max2 = float('-inf')  # 1\n",
        "execints += 1\n",
        "\n",
        "for num in input_numbers:  # n\n",
        "    execints += 1\n",
        "    if num > max1:  # n\n",
        "        execints += 1\n",
        "        max2 = max1  # n\n",
        "        execints += 1\n",
        "        max1 = num  # n\n",
        "        execints += 1\n",
        "    elif num > max2:  # n\n",
        "        execints += 1\n",
        "        max2 = num  # n\n",
        "        execints += 1\n",
        "\n",
        "result = max1 * max2  # 1\n",
        "execints += 1\n",
        "\n",
        "print(result)  # 1\n",
        "execints += 1\n",
        "\n",
        "print(execints)"
      ]
    },
    {
      "cell_type": "code",
      "source": [
        "!chmod +x max_pairwise_product_sup2.py\n",
        "!ls -l max_pairwise_product_sup2.py"
      ],
      "metadata": {
        "colab": {
          "base_uri": "https://localhost:8080/"
        },
        "id": "kHg2EL2n5lNr",
        "outputId": "acda2733-0db7-4ab9-9bf7-efc3f00685ea"
      },
      "execution_count": 139,
      "outputs": [
        {
          "output_type": "stream",
          "name": "stdout",
          "text": [
            "-rwxr-xr-x 1 root root 566 Dec  4 13:52 max_pairwise_product_sup2.py\n"
          ]
        }
      ]
    },
    {
      "cell_type": "markdown",
      "metadata": {
        "id": "R6qeUjPaPxcK"
      },
      "source": [
        "Calculate estimated time by instruction and number of instructions by second"
      ]
    },
    {
      "cell_type": "code",
      "execution_count": 140,
      "metadata": {
        "id": "iLdXYvn3PxcK"
      },
      "outputs": [],
      "source": [
        "n = 200000\n",
        "numbers = \" \".join(map(str, range(1, 200001)))\n",
        "with open('input21.txt', 'w') as file:\n",
        "    file.write(f\"{n}\\n{numbers}\\n\")"
      ]
    },
    {
      "cell_type": "code",
      "source": [
        "!time python ./max_pairwise_product_sup2.py < input21.txt"
      ],
      "metadata": {
        "colab": {
          "base_uri": "https://localhost:8080/"
        },
        "id": "OdK_oaKt5sGR",
        "outputId": "2e6c9a4d-e6e7-4dc3-e40c-37ae757c70d1"
      },
      "execution_count": 141,
      "outputs": [
        {
          "output_type": "stream",
          "name": "stdout",
          "text": [
            "39999800000\n",
            "800006\n",
            "\n",
            "real\t0m0.173s\n",
            "user\t0m0.145s\n",
            "sys\t0m0.026s\n"
          ]
        }
      ]
    },
    {
      "cell_type": "code",
      "source": [
        "n=200000\n",
        "print(7*n+5)"
      ],
      "metadata": {
        "colab": {
          "base_uri": "https://localhost:8080/"
        },
        "id": "U0cqOVYx5vY0",
        "outputId": "7da350b9-b88a-404f-e9a2-5023428ec5a8"
      },
      "execution_count": 142,
      "outputs": [
        {
          "output_type": "stream",
          "name": "stdout",
          "text": [
            "1400005\n"
          ]
        }
      ]
    },
    {
      "cell_type": "markdown",
      "source": [
        "### Estimate and verify the maximun n that can be solved in 1 second"
      ],
      "metadata": {
        "id": "uZGdjUwuaO4v"
      }
    },
    {
      "cell_type": "markdown",
      "source": [
        "T(N)=(7n+5) is not the actual function of the code, given that the execution time is greater than 1 second with the given n, the value of n that results in an execution time of 1 second is:\n",
        "$$\n",
        "\\approx 2*10^6\n",
        "$$"
      ],
      "metadata": {
        "id": "8p399TKR51Xb"
      }
    },
    {
      "cell_type": "markdown",
      "source": [
        "## Perform 100 randomized automated tests in C++ and Python with a porgram  compares the answers,for the same 100 random input instances, of the super efficient solution $(T(n) < 10 n = O(n))$ against the sorting solution  $(T(n)  = O(n \\lg{n}))$,  if the answers are not the same stops and displays \"Error\" listing  the input and the two answers; if the 100 tests are completed without stoping displays \"Pass\"."
      ],
      "metadata": {
        "id": "4hHRQMXzW6oR"
      }
    },
    {
      "cell_type": "code",
      "source": [
        "import random\n",
        "import math\n",
        "\n",
        "# Number of stress tests\n",
        "num_tests = 100\n",
        "\n",
        "for test_number in range(1, 101):\n",
        "    n = random.randint(2, 100000)\n",
        "    # Generating random values\n",
        "    numbers = [random.randint(1, 99999) for _ in range(n)]\n",
        "\n",
        "    #Writing the input in a file\n",
        "    with open(f\"inputltest{test_number}.txt\", \"w\") as file:\n",
        "        file.write(f\"{n}\\n\")\n",
        "        file.write(\" \".join(map(str, numbers)))\n",
        "\n",
        "    print(f\"Test {test_number}: N={n}\")"
      ],
      "metadata": {
        "colab": {
          "base_uri": "https://localhost:8080/"
        },
        "id": "a5AIKVCt59ty",
        "outputId": "029d9a29-c2de-49fa-e694-8ec69515b1c0"
      },
      "execution_count": 143,
      "outputs": [
        {
          "output_type": "stream",
          "name": "stdout",
          "text": [
            "Test 1: N=30102\n",
            "Test 2: N=42487\n",
            "Test 3: N=81520\n",
            "Test 4: N=88450\n",
            "Test 5: N=59045\n",
            "Test 6: N=90974\n",
            "Test 7: N=48286\n",
            "Test 8: N=8404\n",
            "Test 9: N=10122\n",
            "Test 10: N=4399\n",
            "Test 11: N=60066\n",
            "Test 12: N=97818\n",
            "Test 13: N=2383\n",
            "Test 14: N=26044\n",
            "Test 15: N=5207\n",
            "Test 16: N=84102\n",
            "Test 17: N=71186\n",
            "Test 18: N=85442\n",
            "Test 19: N=75037\n",
            "Test 20: N=43015\n",
            "Test 21: N=61234\n",
            "Test 22: N=38444\n",
            "Test 23: N=56847\n",
            "Test 24: N=53794\n",
            "Test 25: N=68062\n",
            "Test 26: N=849\n",
            "Test 27: N=31503\n",
            "Test 28: N=91121\n",
            "Test 29: N=89077\n",
            "Test 30: N=36535\n",
            "Test 31: N=73816\n",
            "Test 32: N=5293\n",
            "Test 33: N=55591\n",
            "Test 34: N=14462\n",
            "Test 35: N=40050\n",
            "Test 36: N=15864\n",
            "Test 37: N=44228\n",
            "Test 38: N=51752\n",
            "Test 39: N=48639\n",
            "Test 40: N=81712\n",
            "Test 41: N=92527\n",
            "Test 42: N=25369\n",
            "Test 43: N=38222\n",
            "Test 44: N=47145\n",
            "Test 45: N=57364\n",
            "Test 46: N=81571\n",
            "Test 47: N=33225\n",
            "Test 48: N=85402\n",
            "Test 49: N=6315\n",
            "Test 50: N=55947\n",
            "Test 51: N=70079\n",
            "Test 52: N=90510\n",
            "Test 53: N=45936\n",
            "Test 54: N=75420\n",
            "Test 55: N=43319\n",
            "Test 56: N=60621\n",
            "Test 57: N=34708\n",
            "Test 58: N=83314\n",
            "Test 59: N=66533\n",
            "Test 60: N=2808\n",
            "Test 61: N=14411\n",
            "Test 62: N=87186\n",
            "Test 63: N=7469\n",
            "Test 64: N=24607\n",
            "Test 65: N=64886\n",
            "Test 66: N=85241\n",
            "Test 67: N=39905\n",
            "Test 68: N=78247\n",
            "Test 69: N=98377\n",
            "Test 70: N=74912\n",
            "Test 71: N=24554\n",
            "Test 72: N=31636\n",
            "Test 73: N=2552\n",
            "Test 74: N=37904\n",
            "Test 75: N=99488\n",
            "Test 76: N=9647\n",
            "Test 77: N=39949\n",
            "Test 78: N=87579\n",
            "Test 79: N=98405\n",
            "Test 80: N=89540\n",
            "Test 81: N=95206\n",
            "Test 82: N=65422\n",
            "Test 83: N=69279\n",
            "Test 84: N=45339\n",
            "Test 85: N=63613\n",
            "Test 86: N=99792\n",
            "Test 87: N=20484\n",
            "Test 88: N=6432\n",
            "Test 89: N=6094\n",
            "Test 90: N=36458\n",
            "Test 91: N=76361\n",
            "Test 92: N=79433\n",
            "Test 93: N=57938\n",
            "Test 94: N=80526\n",
            "Test 95: N=42930\n",
            "Test 96: N=1832\n",
            "Test 97: N=32461\n",
            "Test 98: N=1560\n",
            "Test 99: N=78415\n",
            "Test 100: N=4502\n"
          ]
        }
      ]
    },
    {
      "cell_type": "code",
      "source": [
        "# Crear un script de Python para generar líneas de comando\n",
        "script_content = \"\"\"\\\n",
        "#!/usr/bin/env python\n",
        "\n",
        "for i in range(1, 101):\n",
        "    input_file = f\"inputltest{i}.txt\"\n",
        "    output_file = f\"outputltest{i}.txt\"\n",
        "    command = f\"python3 max_pairwise_product_sup.py < {input_file} > {output_file}\"\n",
        "    print(command)\n",
        "\"\"\"\n",
        "\n",
        "# Guardar el script en un archivo\n",
        "with open(\"generate_commands.py\", \"w\") as script_file:\n",
        "    script_file.write(script_content)\n"
      ],
      "metadata": {
        "id": "dTm0JPa36ClP"
      },
      "execution_count": 144,
      "outputs": []
    },
    {
      "cell_type": "code",
      "source": [
        "!python generate_commands.py > run_tests.sh\n",
        "!chmod +x run_tests.sh\n",
        "!./run_tests.sh"
      ],
      "metadata": {
        "id": "0vuS3JPc6D8b"
      },
      "execution_count": 145,
      "outputs": []
    },
    {
      "cell_type": "code",
      "source": [
        "!cat outputltest1.txt\n",
        "!cat outputltest100.txt"
      ],
      "metadata": {
        "colab": {
          "base_uri": "https://localhost:8080/"
        },
        "id": "0GRunIRZ6FVK",
        "outputId": "c87a2c0a-545c-4223-827f-c451b4e016d7"
      },
      "execution_count": 146,
      "outputs": [
        {
          "output_type": "stream",
          "name": "stdout",
          "text": [
            "9999700002\n",
            "9996600240\n"
          ]
        }
      ]
    },
    {
      "cell_type": "markdown",
      "source": [
        "c++"
      ],
      "metadata": {
        "id": "klFulaY06Hci"
      }
    },
    {
      "cell_type": "code",
      "source": [
        "script_content = \"\"\"\\\n",
        "#!/usr/bin/env python\n",
        "\n",
        "cpp_file = \"max_pairwise_product_superefficient.cpp\"\n",
        "executable = \"./max_pairwise_product_superefficient\"\n",
        "\n",
        "# Compilar el programa C++\n",
        "compile_command = f\"g++ {cpp_file} -o {executable}\"\n",
        "print(compile_command)\n",
        "\n",
        "for i in range(1, 101):\n",
        "    input_file = f\"inputltest{i}.txt\"\n",
        "    output_file = f\"outputctest{i}.txt\"\n",
        "\n",
        "    run_command = f\"{executable} < {input_file} > {output_file}\"\n",
        "    print(run_command)\n",
        "\"\"\"\n",
        "\n",
        "# Guardar el script en un archivo\n",
        "with open(\"generate_commands_cpp.py\", \"w\") as script_file:\n",
        "    script_file.write(script_content)\n"
      ],
      "metadata": {
        "id": "TWQRQhCs6G9J"
      },
      "execution_count": 147,
      "outputs": []
    },
    {
      "cell_type": "code",
      "source": [
        "!python generate_commands_cpp.py > run_tests_c.sh\n",
        "!chmod +x run_tests_c.sh\n",
        "!./run_tests_c.sh"
      ],
      "metadata": {
        "colab": {
          "base_uri": "https://localhost:8080/"
        },
        "id": "BuGhN-GJ6MUy",
        "outputId": "3793d9fb-6b00-4aac-d378-a6aa2493ba87"
      },
      "execution_count": 148,
      "outputs": [
        {
          "output_type": "stream",
          "name": "stdout",
          "text": [
            "\u001b[01m\u001b[Kcc1plus:\u001b[m\u001b[K \u001b[01;31m\u001b[Kfatal error: \u001b[m\u001b[Kmax_pairwise_product_superefficient.cpp: No such file or directory\n",
            "compilation terminated.\n",
            "./run_tests_c.sh: line 2: ./max_pairwise_product_superefficient: No such file or directory\n",
            "./run_tests_c.sh: line 3: ./max_pairwise_product_superefficient: No such file or directory\n",
            "./run_tests_c.sh: line 4: ./max_pairwise_product_superefficient: No such file or directory\n",
            "./run_tests_c.sh: line 5: ./max_pairwise_product_superefficient: No such file or directory\n",
            "./run_tests_c.sh: line 6: ./max_pairwise_product_superefficient: No such file or directory\n",
            "./run_tests_c.sh: line 7: ./max_pairwise_product_superefficient: No such file or directory\n",
            "./run_tests_c.sh: line 8: ./max_pairwise_product_superefficient: No such file or directory\n",
            "./run_tests_c.sh: line 9: ./max_pairwise_product_superefficient: No such file or directory\n",
            "./run_tests_c.sh: line 10: ./max_pairwise_product_superefficient: No such file or directory\n",
            "./run_tests_c.sh: line 11: ./max_pairwise_product_superefficient: No such file or directory\n",
            "./run_tests_c.sh: line 12: ./max_pairwise_product_superefficient: No such file or directory\n",
            "./run_tests_c.sh: line 13: ./max_pairwise_product_superefficient: No such file or directory\n",
            "./run_tests_c.sh: line 14: ./max_pairwise_product_superefficient: No such file or directory\n",
            "./run_tests_c.sh: line 15: ./max_pairwise_product_superefficient: No such file or directory\n",
            "./run_tests_c.sh: line 16: ./max_pairwise_product_superefficient: No such file or directory\n",
            "./run_tests_c.sh: line 17: ./max_pairwise_product_superefficient: No such file or directory\n",
            "./run_tests_c.sh: line 18: ./max_pairwise_product_superefficient: No such file or directory\n",
            "./run_tests_c.sh: line 19: ./max_pairwise_product_superefficient: No such file or directory\n",
            "./run_tests_c.sh: line 20: ./max_pairwise_product_superefficient: No such file or directory\n",
            "./run_tests_c.sh: line 21: ./max_pairwise_product_superefficient: No such file or directory\n",
            "./run_tests_c.sh: line 22: ./max_pairwise_product_superefficient: No such file or directory\n",
            "./run_tests_c.sh: line 23: ./max_pairwise_product_superefficient: No such file or directory\n",
            "./run_tests_c.sh: line 24: ./max_pairwise_product_superefficient: No such file or directory\n",
            "./run_tests_c.sh: line 25: ./max_pairwise_product_superefficient: No such file or directory\n",
            "./run_tests_c.sh: line 26: ./max_pairwise_product_superefficient: No such file or directory\n",
            "./run_tests_c.sh: line 27: ./max_pairwise_product_superefficient: No such file or directory\n",
            "./run_tests_c.sh: line 28: ./max_pairwise_product_superefficient: No such file or directory\n",
            "./run_tests_c.sh: line 29: ./max_pairwise_product_superefficient: No such file or directory\n",
            "./run_tests_c.sh: line 30: ./max_pairwise_product_superefficient: No such file or directory\n",
            "./run_tests_c.sh: line 31: ./max_pairwise_product_superefficient: No such file or directory\n",
            "./run_tests_c.sh: line 32: ./max_pairwise_product_superefficient: No such file or directory\n",
            "./run_tests_c.sh: line 33: ./max_pairwise_product_superefficient: No such file or directory\n",
            "./run_tests_c.sh: line 34: ./max_pairwise_product_superefficient: No such file or directory\n",
            "./run_tests_c.sh: line 35: ./max_pairwise_product_superefficient: No such file or directory\n",
            "./run_tests_c.sh: line 36: ./max_pairwise_product_superefficient: No such file or directory\n",
            "./run_tests_c.sh: line 37: ./max_pairwise_product_superefficient: No such file or directory\n",
            "./run_tests_c.sh: line 38: ./max_pairwise_product_superefficient: No such file or directory\n",
            "./run_tests_c.sh: line 39: ./max_pairwise_product_superefficient: No such file or directory\n",
            "./run_tests_c.sh: line 40: ./max_pairwise_product_superefficient: No such file or directory\n",
            "./run_tests_c.sh: line 41: ./max_pairwise_product_superefficient: No such file or directory\n",
            "./run_tests_c.sh: line 42: ./max_pairwise_product_superefficient: No such file or directory\n",
            "./run_tests_c.sh: line 43: ./max_pairwise_product_superefficient: No such file or directory\n",
            "./run_tests_c.sh: line 44: ./max_pairwise_product_superefficient: No such file or directory\n",
            "./run_tests_c.sh: line 45: ./max_pairwise_product_superefficient: No such file or directory\n",
            "./run_tests_c.sh: line 46: ./max_pairwise_product_superefficient: No such file or directory\n",
            "./run_tests_c.sh: line 47: ./max_pairwise_product_superefficient: No such file or directory\n",
            "./run_tests_c.sh: line 48: ./max_pairwise_product_superefficient: No such file or directory\n",
            "./run_tests_c.sh: line 49: ./max_pairwise_product_superefficient: No such file or directory\n",
            "./run_tests_c.sh: line 50: ./max_pairwise_product_superefficient: No such file or directory\n",
            "./run_tests_c.sh: line 51: ./max_pairwise_product_superefficient: No such file or directory\n",
            "./run_tests_c.sh: line 52: ./max_pairwise_product_superefficient: No such file or directory\n",
            "./run_tests_c.sh: line 53: ./max_pairwise_product_superefficient: No such file or directory\n",
            "./run_tests_c.sh: line 54: ./max_pairwise_product_superefficient: No such file or directory\n",
            "./run_tests_c.sh: line 55: ./max_pairwise_product_superefficient: No such file or directory\n",
            "./run_tests_c.sh: line 56: ./max_pairwise_product_superefficient: No such file or directory\n",
            "./run_tests_c.sh: line 57: ./max_pairwise_product_superefficient: No such file or directory\n",
            "./run_tests_c.sh: line 58: ./max_pairwise_product_superefficient: No such file or directory\n",
            "./run_tests_c.sh: line 59: ./max_pairwise_product_superefficient: No such file or directory\n",
            "./run_tests_c.sh: line 60: ./max_pairwise_product_superefficient: No such file or directory\n",
            "./run_tests_c.sh: line 61: ./max_pairwise_product_superefficient: No such file or directory\n",
            "./run_tests_c.sh: line 62: ./max_pairwise_product_superefficient: No such file or directory\n",
            "./run_tests_c.sh: line 63: ./max_pairwise_product_superefficient: No such file or directory\n",
            "./run_tests_c.sh: line 64: ./max_pairwise_product_superefficient: No such file or directory\n",
            "./run_tests_c.sh: line 65: ./max_pairwise_product_superefficient: No such file or directory\n",
            "./run_tests_c.sh: line 66: ./max_pairwise_product_superefficient: No such file or directory\n",
            "./run_tests_c.sh: line 67: ./max_pairwise_product_superefficient: No such file or directory\n",
            "./run_tests_c.sh: line 68: ./max_pairwise_product_superefficient: No such file or directory\n",
            "./run_tests_c.sh: line 69: ./max_pairwise_product_superefficient: No such file or directory\n",
            "./run_tests_c.sh: line 70: ./max_pairwise_product_superefficient: No such file or directory\n",
            "./run_tests_c.sh: line 71: ./max_pairwise_product_superefficient: No such file or directory\n",
            "./run_tests_c.sh: line 72: ./max_pairwise_product_superefficient: No such file or directory\n",
            "./run_tests_c.sh: line 73: ./max_pairwise_product_superefficient: No such file or directory\n",
            "./run_tests_c.sh: line 74: ./max_pairwise_product_superefficient: No such file or directory\n",
            "./run_tests_c.sh: line 75: ./max_pairwise_product_superefficient: No such file or directory\n",
            "./run_tests_c.sh: line 76: ./max_pairwise_product_superefficient: No such file or directory\n",
            "./run_tests_c.sh: line 77: ./max_pairwise_product_superefficient: No such file or directory\n",
            "./run_tests_c.sh: line 78: ./max_pairwise_product_superefficient: No such file or directory\n",
            "./run_tests_c.sh: line 79: ./max_pairwise_product_superefficient: No such file or directory\n",
            "./run_tests_c.sh: line 80: ./max_pairwise_product_superefficient: No such file or directory\n",
            "./run_tests_c.sh: line 81: ./max_pairwise_product_superefficient: No such file or directory\n",
            "./run_tests_c.sh: line 82: ./max_pairwise_product_superefficient: No such file or directory\n",
            "./run_tests_c.sh: line 83: ./max_pairwise_product_superefficient: No such file or directory\n",
            "./run_tests_c.sh: line 84: ./max_pairwise_product_superefficient: No such file or directory\n",
            "./run_tests_c.sh: line 85: ./max_pairwise_product_superefficient: No such file or directory\n",
            "./run_tests_c.sh: line 86: ./max_pairwise_product_superefficient: No such file or directory\n",
            "./run_tests_c.sh: line 87: ./max_pairwise_product_superefficient: No such file or directory\n",
            "./run_tests_c.sh: line 88: ./max_pairwise_product_superefficient: No such file or directory\n",
            "./run_tests_c.sh: line 89: ./max_pairwise_product_superefficient: No such file or directory\n",
            "./run_tests_c.sh: line 90: ./max_pairwise_product_superefficient: No such file or directory\n",
            "./run_tests_c.sh: line 91: ./max_pairwise_product_superefficient: No such file or directory\n",
            "./run_tests_c.sh: line 92: ./max_pairwise_product_superefficient: No such file or directory\n",
            "./run_tests_c.sh: line 93: ./max_pairwise_product_superefficient: No such file or directory\n",
            "./run_tests_c.sh: line 94: ./max_pairwise_product_superefficient: No such file or directory\n",
            "./run_tests_c.sh: line 95: ./max_pairwise_product_superefficient: No such file or directory\n",
            "./run_tests_c.sh: line 96: ./max_pairwise_product_superefficient: No such file or directory\n",
            "./run_tests_c.sh: line 97: ./max_pairwise_product_superefficient: No such file or directory\n",
            "./run_tests_c.sh: line 98: ./max_pairwise_product_superefficient: No such file or directory\n",
            "./run_tests_c.sh: line 99: ./max_pairwise_product_superefficient: No such file or directory\n",
            "./run_tests_c.sh: line 100: ./max_pairwise_product_superefficient: No such file or directory\n",
            "./run_tests_c.sh: line 101: ./max_pairwise_product_superefficient: No such file or directory\n"
          ]
        }
      ]
    },
    {
      "cell_type": "code",
      "source": [
        "!cat outputctest1.txt\n",
        "!cat outputctest100.txt"
      ],
      "metadata": {
        "id": "Dzn72NOp6Nfi"
      },
      "execution_count": 149,
      "outputs": []
    },
    {
      "cell_type": "markdown",
      "source": [
        "Python Sort"
      ],
      "metadata": {
        "id": "BUz3NKzC6X_C"
      }
    },
    {
      "cell_type": "code",
      "source": [
        "script_content = \"\"\"\\\n",
        "#!/usr/bin/env python\n",
        "\n",
        "for i in range(1, 101):\n",
        "    input_file = f\"inputltest{i}.txt\"\n",
        "    output_file = f\"outputpysorttest{i}.txt\"\n",
        "    command = f\"python3 max_pairwise_product_sort.py < {input_file} > {output_file}\"\n",
        "    print(command)\n",
        "\"\"\"\n",
        "\n",
        "# Guardar el script en un archivo\n",
        "with open(\"generate_commands_sort.py\", \"w\") as script_file:\n",
        "    script_file.write(script_content)\n"
      ],
      "metadata": {
        "id": "DqDXIqg36adR"
      },
      "execution_count": 150,
      "outputs": []
    },
    {
      "cell_type": "code",
      "source": [
        "!python generate_commands_sort.py > run_tests_pysort.sh\n",
        "!chmod +x run_tests_pysort.sh\n",
        "!./run_tests_pysort.sh"
      ],
      "metadata": {
        "colab": {
          "base_uri": "https://localhost:8080/"
        },
        "id": "mglPEvq16exT",
        "outputId": "377f39c8-a11a-40cb-b094-13f876055c34"
      },
      "execution_count": 151,
      "outputs": [
        {
          "output_type": "stream",
          "name": "stdout",
          "text": [
            "python3: can't open file '/content/max_pairwise_product_sort.py': [Errno 2] No such file or directory\n",
            "python3: can't open file '/content/max_pairwise_product_sort.py': [Errno 2] No such file or directory\n",
            "python3: can't open file '/content/max_pairwise_product_sort.py': [Errno 2] No such file or directory\n",
            "python3: can't open file '/content/max_pairwise_product_sort.py': [Errno 2] No such file or directory\n",
            "python3: can't open file '/content/max_pairwise_product_sort.py': [Errno 2] No such file or directory\n",
            "python3: can't open file '/content/max_pairwise_product_sort.py': [Errno 2] No such file or directory\n",
            "python3: can't open file '/content/max_pairwise_product_sort.py': [Errno 2] No such file or directory\n",
            "python3: can't open file '/content/max_pairwise_product_sort.py': [Errno 2] No such file or directory\n",
            "python3: can't open file '/content/max_pairwise_product_sort.py': [Errno 2] No such file or directory\n",
            "python3: can't open file '/content/max_pairwise_product_sort.py': [Errno 2] No such file or directory\n",
            "python3: can't open file '/content/max_pairwise_product_sort.py': [Errno 2] No such file or directory\n",
            "python3: can't open file '/content/max_pairwise_product_sort.py': [Errno 2] No such file or directory\n",
            "python3: can't open file '/content/max_pairwise_product_sort.py': [Errno 2] No such file or directory\n",
            "python3: can't open file '/content/max_pairwise_product_sort.py': [Errno 2] No such file or directory\n",
            "python3: can't open file '/content/max_pairwise_product_sort.py': [Errno 2] No such file or directory\n",
            "python3: can't open file '/content/max_pairwise_product_sort.py': [Errno 2] No such file or directory\n",
            "python3: can't open file '/content/max_pairwise_product_sort.py': [Errno 2] No such file or directory\n",
            "python3: can't open file '/content/max_pairwise_product_sort.py': [Errno 2] No such file or directory\n",
            "python3: can't open file '/content/max_pairwise_product_sort.py': [Errno 2] No such file or directory\n",
            "python3: can't open file '/content/max_pairwise_product_sort.py': [Errno 2] No such file or directory\n",
            "python3: can't open file '/content/max_pairwise_product_sort.py': [Errno 2] No such file or directory\n",
            "python3: can't open file '/content/max_pairwise_product_sort.py': [Errno 2] No such file or directory\n",
            "python3: can't open file '/content/max_pairwise_product_sort.py': [Errno 2] No such file or directory\n",
            "python3: can't open file '/content/max_pairwise_product_sort.py': [Errno 2] No such file or directory\n",
            "python3: can't open file '/content/max_pairwise_product_sort.py': [Errno 2] No such file or directory\n",
            "python3: can't open file '/content/max_pairwise_product_sort.py': [Errno 2] No such file or directory\n",
            "python3: can't open file '/content/max_pairwise_product_sort.py': [Errno 2] No such file or directory\n",
            "python3: can't open file '/content/max_pairwise_product_sort.py': [Errno 2] No such file or directory\n",
            "python3: can't open file '/content/max_pairwise_product_sort.py': [Errno 2] No such file or directory\n",
            "python3: can't open file '/content/max_pairwise_product_sort.py': [Errno 2] No such file or directory\n",
            "python3: can't open file '/content/max_pairwise_product_sort.py': [Errno 2] No such file or directory\n",
            "python3: can't open file '/content/max_pairwise_product_sort.py': [Errno 2] No such file or directory\n",
            "python3: can't open file '/content/max_pairwise_product_sort.py': [Errno 2] No such file or directory\n",
            "python3: can't open file '/content/max_pairwise_product_sort.py': [Errno 2] No such file or directory\n",
            "python3: can't open file '/content/max_pairwise_product_sort.py': [Errno 2] No such file or directory\n",
            "python3: can't open file '/content/max_pairwise_product_sort.py': [Errno 2] No such file or directory\n",
            "python3: can't open file '/content/max_pairwise_product_sort.py': [Errno 2] No such file or directory\n",
            "python3: can't open file '/content/max_pairwise_product_sort.py': [Errno 2] No such file or directory\n",
            "python3: can't open file '/content/max_pairwise_product_sort.py': [Errno 2] No such file or directory\n",
            "python3: can't open file '/content/max_pairwise_product_sort.py': [Errno 2] No such file or directory\n",
            "python3: can't open file '/content/max_pairwise_product_sort.py': [Errno 2] No such file or directory\n",
            "python3: can't open file '/content/max_pairwise_product_sort.py': [Errno 2] No such file or directory\n",
            "python3: can't open file '/content/max_pairwise_product_sort.py': [Errno 2] No such file or directory\n",
            "python3: can't open file '/content/max_pairwise_product_sort.py': [Errno 2] No such file or directory\n",
            "python3: can't open file '/content/max_pairwise_product_sort.py': [Errno 2] No such file or directory\n",
            "python3: can't open file '/content/max_pairwise_product_sort.py': [Errno 2] No such file or directory\n",
            "python3: can't open file '/content/max_pairwise_product_sort.py': [Errno 2] No such file or directory\n",
            "python3: can't open file '/content/max_pairwise_product_sort.py': [Errno 2] No such file or directory\n",
            "python3: can't open file '/content/max_pairwise_product_sort.py': [Errno 2] No such file or directory\n",
            "python3: can't open file '/content/max_pairwise_product_sort.py': [Errno 2] No such file or directory\n",
            "python3: can't open file '/content/max_pairwise_product_sort.py': [Errno 2] No such file or directory\n",
            "python3: can't open file '/content/max_pairwise_product_sort.py': [Errno 2] No such file or directory\n",
            "python3: can't open file '/content/max_pairwise_product_sort.py': [Errno 2] No such file or directory\n",
            "python3: can't open file '/content/max_pairwise_product_sort.py': [Errno 2] No such file or directory\n",
            "python3: can't open file '/content/max_pairwise_product_sort.py': [Errno 2] No such file or directory\n",
            "python3: can't open file '/content/max_pairwise_product_sort.py': [Errno 2] No such file or directory\n",
            "python3: can't open file '/content/max_pairwise_product_sort.py': [Errno 2] No such file or directory\n",
            "python3: can't open file '/content/max_pairwise_product_sort.py': [Errno 2] No such file or directory\n",
            "python3: can't open file '/content/max_pairwise_product_sort.py': [Errno 2] No such file or directory\n",
            "python3: can't open file '/content/max_pairwise_product_sort.py': [Errno 2] No such file or directory\n",
            "python3: can't open file '/content/max_pairwise_product_sort.py': [Errno 2] No such file or directory\n",
            "python3: can't open file '/content/max_pairwise_product_sort.py': [Errno 2] No such file or directory\n",
            "python3: can't open file '/content/max_pairwise_product_sort.py': [Errno 2] No such file or directory\n",
            "python3: can't open file '/content/max_pairwise_product_sort.py': [Errno 2] No such file or directory\n",
            "python3: can't open file '/content/max_pairwise_product_sort.py': [Errno 2] No such file or directory\n",
            "python3: can't open file '/content/max_pairwise_product_sort.py': [Errno 2] No such file or directory\n",
            "python3: can't open file '/content/max_pairwise_product_sort.py': [Errno 2] No such file or directory\n",
            "python3: can't open file '/content/max_pairwise_product_sort.py': [Errno 2] No such file or directory\n",
            "python3: can't open file '/content/max_pairwise_product_sort.py': [Errno 2] No such file or directory\n",
            "python3: can't open file '/content/max_pairwise_product_sort.py': [Errno 2] No such file or directory\n",
            "python3: can't open file '/content/max_pairwise_product_sort.py': [Errno 2] No such file or directory\n",
            "python3: can't open file '/content/max_pairwise_product_sort.py': [Errno 2] No such file or directory\n",
            "python3: can't open file '/content/max_pairwise_product_sort.py': [Errno 2] No such file or directory\n",
            "python3: can't open file '/content/max_pairwise_product_sort.py': [Errno 2] No such file or directory\n",
            "python3: can't open file '/content/max_pairwise_product_sort.py': [Errno 2] No such file or directory\n",
            "python3: can't open file '/content/max_pairwise_product_sort.py': [Errno 2] No such file or directory\n",
            "python3: can't open file '/content/max_pairwise_product_sort.py': [Errno 2] No such file or directory\n",
            "python3: can't open file '/content/max_pairwise_product_sort.py': [Errno 2] No such file or directory\n",
            "python3: can't open file '/content/max_pairwise_product_sort.py': [Errno 2] No such file or directory\n",
            "python3: can't open file '/content/max_pairwise_product_sort.py': [Errno 2] No such file or directory\n",
            "python3: can't open file '/content/max_pairwise_product_sort.py': [Errno 2] No such file or directory\n",
            "python3: can't open file '/content/max_pairwise_product_sort.py': [Errno 2] No such file or directory\n",
            "python3: can't open file '/content/max_pairwise_product_sort.py': [Errno 2] No such file or directory\n",
            "python3: can't open file '/content/max_pairwise_product_sort.py': [Errno 2] No such file or directory\n",
            "python3: can't open file '/content/max_pairwise_product_sort.py': [Errno 2] No such file or directory\n",
            "python3: can't open file '/content/max_pairwise_product_sort.py': [Errno 2] No such file or directory\n",
            "python3: can't open file '/content/max_pairwise_product_sort.py': [Errno 2] No such file or directory\n",
            "python3: can't open file '/content/max_pairwise_product_sort.py': [Errno 2] No such file or directory\n",
            "python3: can't open file '/content/max_pairwise_product_sort.py': [Errno 2] No such file or directory\n",
            "python3: can't open file '/content/max_pairwise_product_sort.py': [Errno 2] No such file or directory\n",
            "python3: can't open file '/content/max_pairwise_product_sort.py': [Errno 2] No such file or directory\n",
            "python3: can't open file '/content/max_pairwise_product_sort.py': [Errno 2] No such file or directory\n",
            "python3: can't open file '/content/max_pairwise_product_sort.py': [Errno 2] No such file or directory\n",
            "python3: can't open file '/content/max_pairwise_product_sort.py': [Errno 2] No such file or directory\n",
            "python3: can't open file '/content/max_pairwise_product_sort.py': [Errno 2] No such file or directory\n",
            "python3: can't open file '/content/max_pairwise_product_sort.py': [Errno 2] No such file or directory\n",
            "python3: can't open file '/content/max_pairwise_product_sort.py': [Errno 2] No such file or directory\n",
            "python3: can't open file '/content/max_pairwise_product_sort.py': [Errno 2] No such file or directory\n",
            "python3: can't open file '/content/max_pairwise_product_sort.py': [Errno 2] No such file or directory\n",
            "python3: can't open file '/content/max_pairwise_product_sort.py': [Errno 2] No such file or directory\n"
          ]
        }
      ]
    },
    {
      "cell_type": "code",
      "source": [
        "!cat outputpysorttest1.txt\n",
        "!cat outputpysorttest100.txt"
      ],
      "metadata": {
        "id": "T-qpRcT76f5l"
      },
      "execution_count": 152,
      "outputs": []
    },
    {
      "cell_type": "markdown",
      "source": [
        "c++ sort"
      ],
      "metadata": {
        "id": "gy8vuD8Y6gzK"
      }
    },
    {
      "cell_type": "code",
      "source": [
        "script_content = \"\"\"\\\n",
        "#!/usr/bin/env python\n",
        "\n",
        "cpp_file = \"max_pairwise_product_sort.cpp\"\n",
        "executable = \"./max_pairwise_product_sort\"\n",
        "\n",
        "# Compilar el programa C++\n",
        "compile_command = f\"g++ {cpp_file} -o {executable}\"\n",
        "print(compile_command)\n",
        "\n",
        "for i in range(1, 101):\n",
        "    input_file = f\"inputltest{i}.txt\"\n",
        "    output_file = f\"outputcsorttest{i}.txt\"\n",
        "\n",
        "    run_command = f\"{executable} < {input_file} > {output_file}\"\n",
        "    print(run_command)\n",
        "\"\"\"\n",
        "\n",
        "# Guardar el script en un archivo\n",
        "with open(\"generate_commands_cpp_sort.py\", \"w\") as script_file:\n",
        "    script_file.write(script_content)\n",
        ""
      ],
      "metadata": {
        "id": "Snc8o2OF6iTh"
      },
      "execution_count": 153,
      "outputs": []
    },
    {
      "cell_type": "code",
      "source": [
        "!python generate_commands_cpp_sort.py > run_tests_c_sort.sh\n",
        "!chmod +x run_tests_c_sort.sh\n",
        "!./run_tests_c_sort.sh"
      ],
      "metadata": {
        "colab": {
          "base_uri": "https://localhost:8080/"
        },
        "id": "sxT6Dkr06kbZ",
        "outputId": "ca1f29a6-9518-4424-ef08-d404880278c5"
      },
      "execution_count": 177,
      "outputs": [
        {
          "output_type": "stream",
          "name": "stdout",
          "text": [
            "\u001b[01m\u001b[Kmax_pairwise_product_sort.cpp:7:30:\u001b[m\u001b[K \u001b[01;31m\u001b[Kerror: \u001b[m\u001b[Ktemplate placeholder type ‘\u001b[01m\u001b[Kconst vector<...auto...>\u001b[m\u001b[K’ must be followed by a simple declarator-id\n",
            "    7 | long long MaxPairwiseProduct(\u001b[01;31m\u001b[Kconst\u001b[m\u001b[K std::vector& numbers) {\n",
            "      |                              \u001b[01;31m\u001b[K^~~~~\u001b[m\u001b[K\n",
            "In file included from \u001b[01m\u001b[K/usr/include/c++/11/vector:67\u001b[m\u001b[K,\n",
            "                 from \u001b[01m\u001b[Kmax_pairwise_product_sort.cpp:2\u001b[m\u001b[K:\n",
            "\u001b[01m\u001b[K/usr/include/c++/11/bits/stl_vector.h:389:11:\u001b[m\u001b[K \u001b[01;36m\u001b[Knote: \u001b[m\u001b[K‘\u001b[01m\u001b[Ktemplate<class _Tp, class _Alloc> class std::vector\u001b[m\u001b[K’ declared here\n",
            "  389 |     class \u001b[01;36m\u001b[Kvector\u001b[m\u001b[K : protected _Vector_base<_Tp, _Alloc>\n",
            "      |           \u001b[01;36m\u001b[K^~~~~~\u001b[m\u001b[K\n",
            "\u001b[01m\u001b[Kmax_pairwise_product_sort.cpp:\u001b[m\u001b[K In function ‘\u001b[01m\u001b[Klong long int MaxPairwiseProduct(...)\u001b[m\u001b[K’:\n",
            "\u001b[01m\u001b[Kmax_pairwise_product_sort.cpp:8:13:\u001b[m\u001b[K \u001b[01;31m\u001b[Kerror: \u001b[m\u001b[K‘\u001b[01m\u001b[Knumbers\u001b[m\u001b[K’ was not declared in this scope\n",
            "    8 |     int n = \u001b[01;31m\u001b[Knumbers\u001b[m\u001b[K.size();\n",
            "      |             \u001b[01;31m\u001b[K^~~~~~~\u001b[m\u001b[K\n",
            "\u001b[01m\u001b[Kmax_pairwise_product_sort.cpp:\u001b[m\u001b[K In function ‘\u001b[01m\u001b[Kint main()\u001b[m\u001b[K’:\n",
            "\u001b[01m\u001b[Kmax_pairwise_product_sort.cpp:25:26:\u001b[m\u001b[K \u001b[01;31m\u001b[Kerror: \u001b[m\u001b[Kclass template argument deduction failed:\n",
            "   25 |     std::vector numbers(n\u001b[01;31m\u001b[K)\u001b[m\u001b[K;\n",
            "      |                          \u001b[01;31m\u001b[K^\u001b[m\u001b[K\n",
            "\u001b[01m\u001b[Kmax_pairwise_product_sort.cpp:25:26:\u001b[m\u001b[K \u001b[01;31m\u001b[Kerror: \u001b[m\u001b[Kno matching function for call to ‘\u001b[01m\u001b[Kvector(int&)\u001b[m\u001b[K’\n",
            "In file included from \u001b[01m\u001b[K/usr/include/c++/11/vector:67\u001b[m\u001b[K,\n",
            "                 from \u001b[01m\u001b[Kmax_pairwise_product_sort.cpp:2\u001b[m\u001b[K:\n",
            "\u001b[01m\u001b[K/usr/include/c++/11/bits/stl_vector.h:653:9:\u001b[m\u001b[K \u001b[01;36m\u001b[Knote: \u001b[m\u001b[Kcandidate: ‘\u001b[01m\u001b[Ktemplate<class _Tp, class _Alloc, class _InputIterator, class> vector(_InputIterator, _InputIterator, const _Alloc&)-> std::vector<_Tp, _Alloc>\u001b[m\u001b[K’\n",
            "  653 |         \u001b[01;36m\u001b[Kvector\u001b[m\u001b[K(_InputIterator __first, _InputIterator __last,\n",
            "      |         \u001b[01;36m\u001b[K^~~~~~\u001b[m\u001b[K\n",
            "\u001b[01m\u001b[K/usr/include/c++/11/bits/stl_vector.h:653:9:\u001b[m\u001b[K \u001b[01;36m\u001b[Knote: \u001b[m\u001b[K  template argument deduction/substitution failed:\n",
            "\u001b[01m\u001b[Kmax_pairwise_product_sort.cpp:25:26:\u001b[m\u001b[K \u001b[01;36m\u001b[Knote: \u001b[m\u001b[K  candidate expects 3 arguments, 1 provided\n",
            "   25 |     std::vector numbers(n\u001b[01;36m\u001b[K)\u001b[m\u001b[K;\n",
            "      |                          \u001b[01;36m\u001b[K^\u001b[m\u001b[K\n",
            "In file included from \u001b[01m\u001b[K/usr/include/c++/11/vector:67\u001b[m\u001b[K,\n",
            "                 from \u001b[01m\u001b[Kmax_pairwise_product_sort.cpp:2\u001b[m\u001b[K:\n",
            "\u001b[01m\u001b[K/usr/include/c++/11/bits/stl_vector.h:625:7:\u001b[m\u001b[K \u001b[01;36m\u001b[Knote: \u001b[m\u001b[Kcandidate: ‘\u001b[01m\u001b[Ktemplate<class _Tp, class _Alloc> vector(std::initializer_list<_Tp>, const _Alloc&)-> std::vector<_Tp, _Alloc>\u001b[m\u001b[K’\n",
            "  625 |       \u001b[01;36m\u001b[Kvector\u001b[m\u001b[K(initializer_list<value_type> __l,\n",
            "      |       \u001b[01;36m\u001b[K^~~~~~\u001b[m\u001b[K\n",
            "\u001b[01m\u001b[K/usr/include/c++/11/bits/stl_vector.h:625:7:\u001b[m\u001b[K \u001b[01;36m\u001b[Knote: \u001b[m\u001b[K  template argument deduction/substitution failed:\n",
            "\u001b[01m\u001b[Kmax_pairwise_product_sort.cpp:25:26:\u001b[m\u001b[K \u001b[01;36m\u001b[Knote: \u001b[m\u001b[K  mismatched types ‘\u001b[01m\u001b[Kstd::initializer_list<_Tp>\u001b[m\u001b[K’ and ‘\u001b[01m\u001b[Kint\u001b[m\u001b[K’\n",
            "   25 |     std::vector numbers(n\u001b[01;36m\u001b[K)\u001b[m\u001b[K;\n",
            "      |                          \u001b[01;36m\u001b[K^\u001b[m\u001b[K\n",
            "In file included from \u001b[01m\u001b[K/usr/include/c++/11/vector:67\u001b[m\u001b[K,\n",
            "                 from \u001b[01m\u001b[Kmax_pairwise_product_sort.cpp:2\u001b[m\u001b[K:\n",
            "\u001b[01m\u001b[K/usr/include/c++/11/bits/stl_vector.h:607:7:\u001b[m\u001b[K \u001b[01;36m\u001b[Knote: \u001b[m\u001b[Kcandidate: ‘\u001b[01m\u001b[Ktemplate<class _Tp, class _Alloc> vector(std::vector<_Tp, _Alloc>&&, const _Alloc&)-> std::vector<_Tp, _Alloc>\u001b[m\u001b[K’\n",
            "  607 |       \u001b[01;36m\u001b[Kvector\u001b[m\u001b[K(vector&& __rv, const allocator_type& __m)\n",
            "      |       \u001b[01;36m\u001b[K^~~~~~\u001b[m\u001b[K\n",
            "\u001b[01m\u001b[K/usr/include/c++/11/bits/stl_vector.h:607:7:\u001b[m\u001b[K \u001b[01;36m\u001b[Knote: \u001b[m\u001b[K  template argument deduction/substitution failed:\n",
            "\u001b[01m\u001b[Kmax_pairwise_product_sort.cpp:25:26:\u001b[m\u001b[K \u001b[01;36m\u001b[Knote: \u001b[m\u001b[K  mismatched types ‘\u001b[01m\u001b[Kstd::vector<_Tp, _Alloc>\u001b[m\u001b[K’ and ‘\u001b[01m\u001b[Kint\u001b[m\u001b[K’\n",
            "   25 |     std::vector numbers(n\u001b[01;36m\u001b[K)\u001b[m\u001b[K;\n",
            "      |                          \u001b[01;36m\u001b[K^\u001b[m\u001b[K\n",
            "In file included from \u001b[01m\u001b[K/usr/include/c++/11/vector:67\u001b[m\u001b[K,\n",
            "                 from \u001b[01m\u001b[Kmax_pairwise_product_sort.cpp:2\u001b[m\u001b[K:\n",
            "\u001b[01m\u001b[K/usr/include/c++/11/bits/stl_vector.h:589:7:\u001b[m\u001b[K \u001b[01;36m\u001b[Knote: \u001b[m\u001b[Kcandidate: ‘\u001b[01m\u001b[Ktemplate<class _Tp, class _Alloc> vector(std::vector<_Tp, _Alloc>&&, const _Alloc&, std::false_type)-> std::vector<_Tp, _Alloc>\u001b[m\u001b[K’\n",
            "  589 |       \u001b[01;36m\u001b[Kvector\u001b[m\u001b[K(vector&& __rv, const allocator_type& __m, false_type)\n",
            "      |       \u001b[01;36m\u001b[K^~~~~~\u001b[m\u001b[K\n",
            "\u001b[01m\u001b[K/usr/include/c++/11/bits/stl_vector.h:589:7:\u001b[m\u001b[K \u001b[01;36m\u001b[Knote: \u001b[m\u001b[K  template argument deduction/substitution failed:\n",
            "\u001b[01m\u001b[Kmax_pairwise_product_sort.cpp:25:26:\u001b[m\u001b[K \u001b[01;36m\u001b[Knote: \u001b[m\u001b[K  mismatched types ‘\u001b[01m\u001b[Kstd::vector<_Tp, _Alloc>\u001b[m\u001b[K’ and ‘\u001b[01m\u001b[Kint\u001b[m\u001b[K’\n",
            "   25 |     std::vector numbers(n\u001b[01;36m\u001b[K)\u001b[m\u001b[K;\n",
            "      |                          \u001b[01;36m\u001b[K^\u001b[m\u001b[K\n",
            "In file included from \u001b[01m\u001b[K/usr/include/c++/11/vector:67\u001b[m\u001b[K,\n",
            "                 from \u001b[01m\u001b[Kmax_pairwise_product_sort.cpp:2\u001b[m\u001b[K:\n",
            "\u001b[01m\u001b[K/usr/include/c++/11/bits/stl_vector.h:585:7:\u001b[m\u001b[K \u001b[01;36m\u001b[Knote: \u001b[m\u001b[Kcandidate: ‘\u001b[01m\u001b[Ktemplate<class _Tp, class _Alloc> vector(std::vector<_Tp, _Alloc>&&, const _Alloc&, std::true_type)-> std::vector<_Tp, _Alloc>\u001b[m\u001b[K’\n",
            "  585 |       \u001b[01;36m\u001b[Kvector\u001b[m\u001b[K(vector&& __rv, const allocator_type& __m, true_type) noexcept\n",
            "      |       \u001b[01;36m\u001b[K^~~~~~\u001b[m\u001b[K\n",
            "\u001b[01m\u001b[K/usr/include/c++/11/bits/stl_vector.h:585:7:\u001b[m\u001b[K \u001b[01;36m\u001b[Knote: \u001b[m\u001b[K  template argument deduction/substitution failed:\n",
            "\u001b[01m\u001b[Kmax_pairwise_product_sort.cpp:25:26:\u001b[m\u001b[K \u001b[01;36m\u001b[Knote: \u001b[m\u001b[K  mismatched types ‘\u001b[01m\u001b[Kstd::vector<_Tp, _Alloc>\u001b[m\u001b[K’ and ‘\u001b[01m\u001b[Kint\u001b[m\u001b[K’\n",
            "   25 |     std::vector numbers(n\u001b[01;36m\u001b[K)\u001b[m\u001b[K;\n",
            "      |                          \u001b[01;36m\u001b[K^\u001b[m\u001b[K\n",
            "In file included from \u001b[01m\u001b[K/usr/include/c++/11/vector:67\u001b[m\u001b[K,\n",
            "                 from \u001b[01m\u001b[Kmax_pairwise_product_sort.cpp:2\u001b[m\u001b[K:\n",
            "\u001b[01m\u001b[K/usr/include/c++/11/bits/stl_vector.h:575:7:\u001b[m\u001b[K \u001b[01;36m\u001b[Knote: \u001b[m\u001b[Kcandidate: ‘\u001b[01m\u001b[Ktemplate<class _Tp, class _Alloc> vector(const std::vector<_Tp, _Alloc>&, const _Alloc&)-> std::vector<_Tp, _Alloc>\u001b[m\u001b[K’\n",
            "  575 |       \u001b[01;36m\u001b[Kvector\u001b[m\u001b[K(const vector& __x, const allocator_type& __a)\n",
            "      |       \u001b[01;36m\u001b[K^~~~~~\u001b[m\u001b[K\n",
            "\u001b[01m\u001b[K/usr/include/c++/11/bits/stl_vector.h:575:7:\u001b[m\u001b[K \u001b[01;36m\u001b[Knote: \u001b[m\u001b[K  template argument deduction/substitution failed:\n",
            "\u001b[01m\u001b[Kmax_pairwise_product_sort.cpp:25:26:\u001b[m\u001b[K \u001b[01;36m\u001b[Knote: \u001b[m\u001b[K  mismatched types ‘\u001b[01m\u001b[Kconst std::vector<_Tp, _Alloc>\u001b[m\u001b[K’ and ‘\u001b[01m\u001b[Kint\u001b[m\u001b[K’\n",
            "   25 |     std::vector numbers(n\u001b[01;36m\u001b[K)\u001b[m\u001b[K;\n",
            "      |                          \u001b[01;36m\u001b[K^\u001b[m\u001b[K\n",
            "In file included from \u001b[01m\u001b[K/usr/include/c++/11/vector:67\u001b[m\u001b[K,\n",
            "                 from \u001b[01m\u001b[Kmax_pairwise_product_sort.cpp:2\u001b[m\u001b[K:\n",
            "\u001b[01m\u001b[K/usr/include/c++/11/bits/stl_vector.h:572:7:\u001b[m\u001b[K \u001b[01;36m\u001b[Knote: \u001b[m\u001b[Kcandidate: ‘\u001b[01m\u001b[Ktemplate<class _Tp, class _Alloc> vector(std::vector<_Tp, _Alloc>&&)-> std::vector<_Tp, _Alloc>\u001b[m\u001b[K’\n",
            "  572 |       \u001b[01;36m\u001b[Kvector\u001b[m\u001b[K(vector&&) noexcept = default;\n",
            "      |       \u001b[01;36m\u001b[K^~~~~~\u001b[m\u001b[K\n",
            "\u001b[01m\u001b[K/usr/include/c++/11/bits/stl_vector.h:572:7:\u001b[m\u001b[K \u001b[01;36m\u001b[Knote: \u001b[m\u001b[K  template argument deduction/substitution failed:\n",
            "\u001b[01m\u001b[Kmax_pairwise_product_sort.cpp:25:26:\u001b[m\u001b[K \u001b[01;36m\u001b[Knote: \u001b[m\u001b[K  mismatched types ‘\u001b[01m\u001b[Kstd::vector<_Tp, _Alloc>\u001b[m\u001b[K’ and ‘\u001b[01m\u001b[Kint\u001b[m\u001b[K’\n",
            "   25 |     std::vector numbers(n\u001b[01;36m\u001b[K)\u001b[m\u001b[K;\n",
            "      |                          \u001b[01;36m\u001b[K^\u001b[m\u001b[K\n",
            "In file included from \u001b[01m\u001b[K/usr/include/c++/11/vector:67\u001b[m\u001b[K,\n",
            "                 from \u001b[01m\u001b[Kmax_pairwise_product_sort.cpp:2\u001b[m\u001b[K:\n",
            "\u001b[01m\u001b[K/usr/include/c++/11/bits/stl_vector.h:553:7:\u001b[m\u001b[K \u001b[01;36m\u001b[Knote: \u001b[m\u001b[Kcandidate: ‘\u001b[01m\u001b[Ktemplate<class _Tp, class _Alloc> vector(const std::vector<_Tp, _Alloc>&)-> std::vector<_Tp, _Alloc>\u001b[m\u001b[K’\n",
            "  553 |       \u001b[01;36m\u001b[Kvector\u001b[m\u001b[K(const vector& __x)\n",
            "      |       \u001b[01;36m\u001b[K^~~~~~\u001b[m\u001b[K\n",
            "\u001b[01m\u001b[K/usr/include/c++/11/bits/stl_vector.h:553:7:\u001b[m\u001b[K \u001b[01;36m\u001b[Knote: \u001b[m\u001b[K  template argument deduction/substitution failed:\n",
            "\u001b[01m\u001b[Kmax_pairwise_product_sort.cpp:25:26:\u001b[m\u001b[K \u001b[01;36m\u001b[Knote: \u001b[m\u001b[K  mismatched types ‘\u001b[01m\u001b[Kconst std::vector<_Tp, _Alloc>\u001b[m\u001b[K’ and ‘\u001b[01m\u001b[Kint\u001b[m\u001b[K’\n",
            "   25 |     std::vector numbers(n\u001b[01;36m\u001b[K)\u001b[m\u001b[K;\n",
            "      |                          \u001b[01;36m\u001b[K^\u001b[m\u001b[K\n",
            "In file included from \u001b[01m\u001b[K/usr/include/c++/11/vector:67\u001b[m\u001b[K,\n",
            "                 from \u001b[01m\u001b[Kmax_pairwise_product_sort.cpp:2\u001b[m\u001b[K:\n",
            "\u001b[01m\u001b[K/usr/include/c++/11/bits/stl_vector.h:522:7:\u001b[m\u001b[K \u001b[01;36m\u001b[Knote: \u001b[m\u001b[Kcandidate: ‘\u001b[01m\u001b[Ktemplate<class _Tp, class _Alloc> vector(std::size_t, const _Tp&, const _Alloc&)-> std::vector<_Tp, _Alloc>\u001b[m\u001b[K’\n",
            "  522 |       \u001b[01;36m\u001b[Kvector\u001b[m\u001b[K(size_type __n, const value_type& __value,\n",
            "      |       \u001b[01;36m\u001b[K^~~~~~\u001b[m\u001b[K\n",
            "\u001b[01m\u001b[K/usr/include/c++/11/bits/stl_vector.h:522:7:\u001b[m\u001b[K \u001b[01;36m\u001b[Knote: \u001b[m\u001b[K  template argument deduction/substitution failed:\n",
            "\u001b[01m\u001b[Kmax_pairwise_product_sort.cpp:25:26:\u001b[m\u001b[K \u001b[01;36m\u001b[Knote: \u001b[m\u001b[K  candidate expects 3 arguments, 1 provided\n",
            "   25 |     std::vector numbers(n\u001b[01;36m\u001b[K)\u001b[m\u001b[K;\n",
            "      |                          \u001b[01;36m\u001b[K^\u001b[m\u001b[K\n",
            "In file included from \u001b[01m\u001b[K/usr/include/c++/11/vector:67\u001b[m\u001b[K,\n",
            "                 from \u001b[01m\u001b[Kmax_pairwise_product_sort.cpp:2\u001b[m\u001b[K:\n",
            "\u001b[01m\u001b[K/usr/include/c++/11/bits/stl_vector.h:510:7:\u001b[m\u001b[K \u001b[01;36m\u001b[Knote: \u001b[m\u001b[Kcandidate: ‘\u001b[01m\u001b[Ktemplate<class _Tp, class _Alloc> vector(std::size_t, const _Alloc&)-> std::vector<_Tp, _Alloc>\u001b[m\u001b[K’\n",
            "  510 |       \u001b[01;36m\u001b[Kvector\u001b[m\u001b[K(size_type __n, const allocator_type& __a = allocator_type())\n",
            "      |       \u001b[01;36m\u001b[K^~~~~~\u001b[m\u001b[K\n",
            "\u001b[01m\u001b[K/usr/include/c++/11/bits/stl_vector.h:510:7:\u001b[m\u001b[K \u001b[01;36m\u001b[Knote: \u001b[m\u001b[K  template argument deduction/substitution failed:\n",
            "\u001b[01m\u001b[Kmax_pairwise_product_sort.cpp:25:26:\u001b[m\u001b[K \u001b[01;36m\u001b[Knote: \u001b[m\u001b[K  couldn’t deduce template parameter ‘\u001b[01m\u001b[K_Tp\u001b[m\u001b[K’\n",
            "   25 |     std::vector numbers(n\u001b[01;36m\u001b[K)\u001b[m\u001b[K;\n",
            "      |                          \u001b[01;36m\u001b[K^\u001b[m\u001b[K\n",
            "In file included from \u001b[01m\u001b[K/usr/include/c++/11/vector:67\u001b[m\u001b[K,\n",
            "                 from \u001b[01m\u001b[Kmax_pairwise_product_sort.cpp:2\u001b[m\u001b[K:\n",
            "\u001b[01m\u001b[K/usr/include/c++/11/bits/stl_vector.h:497:7:\u001b[m\u001b[K \u001b[01;36m\u001b[Knote: \u001b[m\u001b[Kcandidate: ‘\u001b[01m\u001b[Ktemplate<class _Tp, class _Alloc> vector(const _Alloc&)-> std::vector<_Tp, _Alloc>\u001b[m\u001b[K’\n",
            "  497 |       \u001b[01;36m\u001b[Kvector\u001b[m\u001b[K(const allocator_type& __a) _GLIBCXX_NOEXCEPT\n",
            "      |       \u001b[01;36m\u001b[K^~~~~~\u001b[m\u001b[K\n",
            "\u001b[01m\u001b[K/usr/include/c++/11/bits/stl_vector.h:497:7:\u001b[m\u001b[K \u001b[01;36m\u001b[Knote: \u001b[m\u001b[K  template argument deduction/substitution failed:\n",
            "\u001b[01m\u001b[Kmax_pairwise_product_sort.cpp:25:26:\u001b[m\u001b[K \u001b[01;36m\u001b[Knote: \u001b[m\u001b[K  couldn’t deduce template parameter ‘\u001b[01m\u001b[K_Tp\u001b[m\u001b[K’\n",
            "   25 |     std::vector numbers(n\u001b[01;36m\u001b[K)\u001b[m\u001b[K;\n",
            "      |                          \u001b[01;36m\u001b[K^\u001b[m\u001b[K\n",
            "In file included from \u001b[01m\u001b[K/usr/include/c++/11/vector:67\u001b[m\u001b[K,\n",
            "                 from \u001b[01m\u001b[Kmax_pairwise_product_sort.cpp:2\u001b[m\u001b[K:\n",
            "\u001b[01m\u001b[K/usr/include/c++/11/bits/stl_vector.h:487:7:\u001b[m\u001b[K \u001b[01;36m\u001b[Knote: \u001b[m\u001b[Kcandidate: ‘\u001b[01m\u001b[Ktemplate<class _Tp, class _Alloc> vector()-> std::vector<_Tp, _Alloc>\u001b[m\u001b[K’\n",
            "  487 |       \u001b[01;36m\u001b[Kvector\u001b[m\u001b[K() = default;\n",
            "      |       \u001b[01;36m\u001b[K^~~~~~\u001b[m\u001b[K\n",
            "\u001b[01m\u001b[K/usr/include/c++/11/bits/stl_vector.h:487:7:\u001b[m\u001b[K \u001b[01;36m\u001b[Knote: \u001b[m\u001b[K  template argument deduction/substitution failed:\n",
            "\u001b[01m\u001b[Kmax_pairwise_product_sort.cpp:25:26:\u001b[m\u001b[K \u001b[01;36m\u001b[Knote: \u001b[m\u001b[K  candidate expects 0 arguments, 1 provided\n",
            "   25 |     std::vector numbers(n\u001b[01;36m\u001b[K)\u001b[m\u001b[K;\n",
            "      |                          \u001b[01;36m\u001b[K^\u001b[m\u001b[K\n",
            "In file included from \u001b[01m\u001b[K/usr/include/c++/11/vector:67\u001b[m\u001b[K,\n",
            "                 from \u001b[01m\u001b[Kmax_pairwise_product_sort.cpp:2\u001b[m\u001b[K:\n",
            "\u001b[01m\u001b[K/usr/include/c++/11/bits/stl_vector.h:389:11:\u001b[m\u001b[K \u001b[01;36m\u001b[Knote: \u001b[m\u001b[Kcandidate: ‘\u001b[01m\u001b[Ktemplate<class _Tp, class _Alloc> vector(std::vector<_Tp, _Alloc>)-> std::vector<_Tp, _Alloc>\u001b[m\u001b[K’\n",
            "  389 |     class \u001b[01;36m\u001b[Kvector\u001b[m\u001b[K : protected _Vector_base<_Tp, _Alloc>\n",
            "      |           \u001b[01;36m\u001b[K^~~~~~\u001b[m\u001b[K\n",
            "\u001b[01m\u001b[K/usr/include/c++/11/bits/stl_vector.h:389:11:\u001b[m\u001b[K \u001b[01;36m\u001b[Knote: \u001b[m\u001b[K  template argument deduction/substitution failed:\n",
            "\u001b[01m\u001b[Kmax_pairwise_product_sort.cpp:25:26:\u001b[m\u001b[K \u001b[01;36m\u001b[Knote: \u001b[m\u001b[K  mismatched types ‘\u001b[01m\u001b[Kstd::vector<_Tp, _Alloc>\u001b[m\u001b[K’ and ‘\u001b[01m\u001b[Kint\u001b[m\u001b[K’\n",
            "   25 |     std::vector numbers(n\u001b[01;36m\u001b[K)\u001b[m\u001b[K;\n",
            "      |                          \u001b[01;36m\u001b[K^\u001b[m\u001b[K\n",
            "In file included from \u001b[01m\u001b[K/usr/include/c++/11/vector:67\u001b[m\u001b[K,\n",
            "                 from \u001b[01m\u001b[Kmax_pairwise_product_sort.cpp:2\u001b[m\u001b[K:\n",
            "\u001b[01m\u001b[K/usr/include/c++/11/bits/stl_vector.h:1876:5:\u001b[m\u001b[K \u001b[01;36m\u001b[Knote: \u001b[m\u001b[Kcandidate: ‘\u001b[01m\u001b[Ktemplate<class _InputIterator, class _ValT, class _Allocator, class, class> std::vector(_InputIterator, _InputIterator, _Allocator)-> std::vector<_ValT, _Allocator>\u001b[m\u001b[K’\n",
            " 1876 |     \u001b[01;36m\u001b[Kvector\u001b[m\u001b[K(_InputIterator, _InputIterator, _Allocator = _Allocator())\n",
            "      |     \u001b[01;36m\u001b[K^~~~~~\u001b[m\u001b[K\n",
            "\u001b[01m\u001b[K/usr/include/c++/11/bits/stl_vector.h:1876:5:\u001b[m\u001b[K \u001b[01;36m\u001b[Knote: \u001b[m\u001b[K  template argument deduction/substitution failed:\n",
            "\u001b[01m\u001b[Kmax_pairwise_product_sort.cpp:25:26:\u001b[m\u001b[K \u001b[01;36m\u001b[Knote: \u001b[m\u001b[K  candidate expects 3 arguments, 1 provided\n",
            "   25 |     std::vector numbers(n\u001b[01;36m\u001b[K)\u001b[m\u001b[K;\n",
            "      |                          \u001b[01;36m\u001b[K^\u001b[m\u001b[K\n",
            "./run_tests_c_sort.sh: line 2: ./max_pairwise_product_sort: No such file or directory\n",
            "./run_tests_c_sort.sh: line 3: ./max_pairwise_product_sort: No such file or directory\n",
            "./run_tests_c_sort.sh: line 4: ./max_pairwise_product_sort: No such file or directory\n",
            "./run_tests_c_sort.sh: line 5: ./max_pairwise_product_sort: No such file or directory\n",
            "./run_tests_c_sort.sh: line 6: ./max_pairwise_product_sort: No such file or directory\n",
            "./run_tests_c_sort.sh: line 7: ./max_pairwise_product_sort: No such file or directory\n",
            "./run_tests_c_sort.sh: line 8: ./max_pairwise_product_sort: No such file or directory\n",
            "./run_tests_c_sort.sh: line 9: ./max_pairwise_product_sort: No such file or directory\n",
            "./run_tests_c_sort.sh: line 10: ./max_pairwise_product_sort: No such file or directory\n",
            "./run_tests_c_sort.sh: line 11: ./max_pairwise_product_sort: No such file or directory\n",
            "./run_tests_c_sort.sh: line 12: ./max_pairwise_product_sort: No such file or directory\n",
            "./run_tests_c_sort.sh: line 13: ./max_pairwise_product_sort: No such file or directory\n",
            "./run_tests_c_sort.sh: line 14: ./max_pairwise_product_sort: No such file or directory\n",
            "./run_tests_c_sort.sh: line 15: ./max_pairwise_product_sort: No such file or directory\n",
            "./run_tests_c_sort.sh: line 16: ./max_pairwise_product_sort: No such file or directory\n",
            "./run_tests_c_sort.sh: line 17: ./max_pairwise_product_sort: No such file or directory\n",
            "./run_tests_c_sort.sh: line 18: ./max_pairwise_product_sort: No such file or directory\n",
            "./run_tests_c_sort.sh: line 19: ./max_pairwise_product_sort: No such file or directory\n",
            "./run_tests_c_sort.sh: line 20: ./max_pairwise_product_sort: No such file or directory\n",
            "./run_tests_c_sort.sh: line 21: ./max_pairwise_product_sort: No such file or directory\n",
            "./run_tests_c_sort.sh: line 22: ./max_pairwise_product_sort: No such file or directory\n",
            "./run_tests_c_sort.sh: line 23: ./max_pairwise_product_sort: No such file or directory\n",
            "./run_tests_c_sort.sh: line 24: ./max_pairwise_product_sort: No such file or directory\n",
            "./run_tests_c_sort.sh: line 25: ./max_pairwise_product_sort: No such file or directory\n",
            "./run_tests_c_sort.sh: line 26: ./max_pairwise_product_sort: No such file or directory\n",
            "./run_tests_c_sort.sh: line 27: ./max_pairwise_product_sort: No such file or directory\n",
            "./run_tests_c_sort.sh: line 28: ./max_pairwise_product_sort: No such file or directory\n",
            "./run_tests_c_sort.sh: line 29: ./max_pairwise_product_sort: No such file or directory\n",
            "./run_tests_c_sort.sh: line 30: ./max_pairwise_product_sort: No such file or directory\n",
            "./run_tests_c_sort.sh: line 31: ./max_pairwise_product_sort: No such file or directory\n",
            "./run_tests_c_sort.sh: line 32: ./max_pairwise_product_sort: No such file or directory\n",
            "./run_tests_c_sort.sh: line 33: ./max_pairwise_product_sort: No such file or directory\n",
            "./run_tests_c_sort.sh: line 34: ./max_pairwise_product_sort: No such file or directory\n",
            "./run_tests_c_sort.sh: line 35: ./max_pairwise_product_sort: No such file or directory\n",
            "./run_tests_c_sort.sh: line 36: ./max_pairwise_product_sort: No such file or directory\n",
            "./run_tests_c_sort.sh: line 37: ./max_pairwise_product_sort: No such file or directory\n",
            "./run_tests_c_sort.sh: line 38: ./max_pairwise_product_sort: No such file or directory\n",
            "./run_tests_c_sort.sh: line 39: ./max_pairwise_product_sort: No such file or directory\n",
            "./run_tests_c_sort.sh: line 40: ./max_pairwise_product_sort: No such file or directory\n",
            "./run_tests_c_sort.sh: line 41: ./max_pairwise_product_sort: No such file or directory\n",
            "./run_tests_c_sort.sh: line 42: ./max_pairwise_product_sort: No such file or directory\n",
            "./run_tests_c_sort.sh: line 43: ./max_pairwise_product_sort: No such file or directory\n",
            "./run_tests_c_sort.sh: line 44: ./max_pairwise_product_sort: No such file or directory\n",
            "./run_tests_c_sort.sh: line 45: ./max_pairwise_product_sort: No such file or directory\n",
            "./run_tests_c_sort.sh: line 46: ./max_pairwise_product_sort: No such file or directory\n",
            "./run_tests_c_sort.sh: line 47: ./max_pairwise_product_sort: No such file or directory\n",
            "./run_tests_c_sort.sh: line 48: ./max_pairwise_product_sort: No such file or directory\n",
            "./run_tests_c_sort.sh: line 49: ./max_pairwise_product_sort: No such file or directory\n",
            "./run_tests_c_sort.sh: line 50: ./max_pairwise_product_sort: No such file or directory\n",
            "./run_tests_c_sort.sh: line 51: ./max_pairwise_product_sort: No such file or directory\n",
            "./run_tests_c_sort.sh: line 52: ./max_pairwise_product_sort: No such file or directory\n",
            "./run_tests_c_sort.sh: line 53: ./max_pairwise_product_sort: No such file or directory\n",
            "./run_tests_c_sort.sh: line 54: ./max_pairwise_product_sort: No such file or directory\n",
            "./run_tests_c_sort.sh: line 55: ./max_pairwise_product_sort: No such file or directory\n",
            "./run_tests_c_sort.sh: line 56: ./max_pairwise_product_sort: No such file or directory\n",
            "./run_tests_c_sort.sh: line 57: ./max_pairwise_product_sort: No such file or directory\n",
            "./run_tests_c_sort.sh: line 58: ./max_pairwise_product_sort: No such file or directory\n",
            "./run_tests_c_sort.sh: line 59: ./max_pairwise_product_sort: No such file or directory\n",
            "./run_tests_c_sort.sh: line 60: ./max_pairwise_product_sort: No such file or directory\n",
            "./run_tests_c_sort.sh: line 61: ./max_pairwise_product_sort: No such file or directory\n",
            "./run_tests_c_sort.sh: line 62: ./max_pairwise_product_sort: No such file or directory\n",
            "./run_tests_c_sort.sh: line 63: ./max_pairwise_product_sort: No such file or directory\n",
            "./run_tests_c_sort.sh: line 64: ./max_pairwise_product_sort: No such file or directory\n",
            "./run_tests_c_sort.sh: line 65: ./max_pairwise_product_sort: No such file or directory\n",
            "./run_tests_c_sort.sh: line 66: ./max_pairwise_product_sort: No such file or directory\n",
            "./run_tests_c_sort.sh: line 67: ./max_pairwise_product_sort: No such file or directory\n",
            "./run_tests_c_sort.sh: line 68: ./max_pairwise_product_sort: No such file or directory\n",
            "./run_tests_c_sort.sh: line 69: ./max_pairwise_product_sort: No such file or directory\n",
            "./run_tests_c_sort.sh: line 70: ./max_pairwise_product_sort: No such file or directory\n",
            "./run_tests_c_sort.sh: line 71: ./max_pairwise_product_sort: No such file or directory\n",
            "./run_tests_c_sort.sh: line 72: ./max_pairwise_product_sort: No such file or directory\n",
            "./run_tests_c_sort.sh: line 73: ./max_pairwise_product_sort: No such file or directory\n",
            "./run_tests_c_sort.sh: line 74: ./max_pairwise_product_sort: No such file or directory\n",
            "./run_tests_c_sort.sh: line 75: ./max_pairwise_product_sort: No such file or directory\n",
            "./run_tests_c_sort.sh: line 76: ./max_pairwise_product_sort: No such file or directory\n",
            "./run_tests_c_sort.sh: line 77: ./max_pairwise_product_sort: No such file or directory\n",
            "./run_tests_c_sort.sh: line 78: ./max_pairwise_product_sort: No such file or directory\n",
            "./run_tests_c_sort.sh: line 79: ./max_pairwise_product_sort: No such file or directory\n",
            "./run_tests_c_sort.sh: line 80: ./max_pairwise_product_sort: No such file or directory\n",
            "./run_tests_c_sort.sh: line 81: ./max_pairwise_product_sort: No such file or directory\n",
            "./run_tests_c_sort.sh: line 82: ./max_pairwise_product_sort: No such file or directory\n",
            "./run_tests_c_sort.sh: line 83: ./max_pairwise_product_sort: No such file or directory\n",
            "./run_tests_c_sort.sh: line 84: ./max_pairwise_product_sort: No such file or directory\n",
            "./run_tests_c_sort.sh: line 85: ./max_pairwise_product_sort: No such file or directory\n",
            "./run_tests_c_sort.sh: line 86: ./max_pairwise_product_sort: No such file or directory\n",
            "./run_tests_c_sort.sh: line 87: ./max_pairwise_product_sort: No such file or directory\n",
            "./run_tests_c_sort.sh: line 88: ./max_pairwise_product_sort: No such file or directory\n",
            "./run_tests_c_sort.sh: line 89: ./max_pairwise_product_sort: No such file or directory\n",
            "./run_tests_c_sort.sh: line 90: ./max_pairwise_product_sort: No such file or directory\n",
            "./run_tests_c_sort.sh: line 91: ./max_pairwise_product_sort: No such file or directory\n",
            "./run_tests_c_sort.sh: line 92: ./max_pairwise_product_sort: No such file or directory\n",
            "./run_tests_c_sort.sh: line 93: ./max_pairwise_product_sort: No such file or directory\n",
            "./run_tests_c_sort.sh: line 94: ./max_pairwise_product_sort: No such file or directory\n",
            "./run_tests_c_sort.sh: line 95: ./max_pairwise_product_sort: No such file or directory\n",
            "./run_tests_c_sort.sh: line 96: ./max_pairwise_product_sort: No such file or directory\n",
            "./run_tests_c_sort.sh: line 97: ./max_pairwise_product_sort: No such file or directory\n",
            "./run_tests_c_sort.sh: line 98: ./max_pairwise_product_sort: No such file or directory\n",
            "./run_tests_c_sort.sh: line 99: ./max_pairwise_product_sort: No such file or directory\n",
            "./run_tests_c_sort.sh: line 100: ./max_pairwise_product_sort: No such file or directory\n",
            "./run_tests_c_sort.sh: line 101: ./max_pairwise_product_sort: No such file or directory\n"
          ]
        }
      ]
    },
    {
      "cell_type": "code",
      "source": [
        "!cat outputcsorttest1.txt\n",
        "!cat outputcsorttest100.txt"
      ],
      "metadata": {
        "id": "NY8sj5Fw6lwq"
      },
      "execution_count": 155,
      "outputs": []
    },
    {
      "cell_type": "markdown",
      "source": [
        "compare"
      ],
      "metadata": {
        "id": "1gDYvWKI6qDJ"
      }
    },
    {
      "cell_type": "code",
      "source": [
        "def compare_outputs(output_file1, output_file2):\n",
        "    with open(output_file1, 'r') as file1, open(output_file2, 'r') as file2:\n",
        "        for line1, line2 in zip(file1, file2):\n",
        "            if line1.strip() != line2.strip():\n",
        "                return \"Error\"\n",
        "    return \"Pass\"\n",
        "\n",
        "# Comparar los 100 archivos de salida\n",
        "for i in range(1, 101):\n",
        "    output_file1 = f\"outputctest{i}.txt\"\n",
        "    output_file2 = f\"outputcsorttest{i}.txt\"\n",
        "    result = compare_outputs(output_file1, output_file2)\n",
        "    print(f\"Test {i}: {result}\")"
      ],
      "metadata": {
        "colab": {
          "base_uri": "https://localhost:8080/"
        },
        "id": "wpQ5Fz5G6rAR",
        "outputId": "60eae331-04f6-4749-a46a-4ed8c8aee385"
      },
      "execution_count": 156,
      "outputs": [
        {
          "output_type": "stream",
          "name": "stdout",
          "text": [
            "Test 1: Pass\n",
            "Test 2: Pass\n",
            "Test 3: Pass\n",
            "Test 4: Pass\n",
            "Test 5: Pass\n",
            "Test 6: Pass\n",
            "Test 7: Pass\n",
            "Test 8: Pass\n",
            "Test 9: Pass\n",
            "Test 10: Pass\n",
            "Test 11: Pass\n",
            "Test 12: Pass\n",
            "Test 13: Pass\n",
            "Test 14: Pass\n",
            "Test 15: Pass\n",
            "Test 16: Pass\n",
            "Test 17: Pass\n",
            "Test 18: Pass\n",
            "Test 19: Pass\n",
            "Test 20: Pass\n",
            "Test 21: Pass\n",
            "Test 22: Pass\n",
            "Test 23: Pass\n",
            "Test 24: Pass\n",
            "Test 25: Pass\n",
            "Test 26: Pass\n",
            "Test 27: Pass\n",
            "Test 28: Pass\n",
            "Test 29: Pass\n",
            "Test 30: Pass\n",
            "Test 31: Pass\n",
            "Test 32: Pass\n",
            "Test 33: Pass\n",
            "Test 34: Pass\n",
            "Test 35: Pass\n",
            "Test 36: Pass\n",
            "Test 37: Pass\n",
            "Test 38: Pass\n",
            "Test 39: Pass\n",
            "Test 40: Pass\n",
            "Test 41: Pass\n",
            "Test 42: Pass\n",
            "Test 43: Pass\n",
            "Test 44: Pass\n",
            "Test 45: Pass\n",
            "Test 46: Pass\n",
            "Test 47: Pass\n",
            "Test 48: Pass\n",
            "Test 49: Pass\n",
            "Test 50: Pass\n",
            "Test 51: Pass\n",
            "Test 52: Pass\n",
            "Test 53: Pass\n",
            "Test 54: Pass\n",
            "Test 55: Pass\n",
            "Test 56: Pass\n",
            "Test 57: Pass\n",
            "Test 58: Pass\n",
            "Test 59: Pass\n",
            "Test 60: Pass\n",
            "Test 61: Pass\n",
            "Test 62: Pass\n",
            "Test 63: Pass\n",
            "Test 64: Pass\n",
            "Test 65: Pass\n",
            "Test 66: Pass\n",
            "Test 67: Pass\n",
            "Test 68: Pass\n",
            "Test 69: Pass\n",
            "Test 70: Pass\n",
            "Test 71: Pass\n",
            "Test 72: Pass\n",
            "Test 73: Pass\n",
            "Test 74: Pass\n",
            "Test 75: Pass\n",
            "Test 76: Pass\n",
            "Test 77: Pass\n",
            "Test 78: Pass\n",
            "Test 79: Pass\n",
            "Test 80: Pass\n",
            "Test 81: Pass\n",
            "Test 82: Pass\n",
            "Test 83: Pass\n",
            "Test 84: Pass\n",
            "Test 85: Pass\n",
            "Test 86: Pass\n",
            "Test 87: Pass\n",
            "Test 88: Pass\n",
            "Test 89: Pass\n",
            "Test 90: Pass\n",
            "Test 91: Pass\n",
            "Test 92: Pass\n",
            "Test 93: Pass\n",
            "Test 94: Pass\n",
            "Test 95: Pass\n",
            "Test 96: Pass\n",
            "Test 97: Pass\n",
            "Test 98: Pass\n",
            "Test 99: Pass\n",
            "Test 100: Pass\n"
          ]
        }
      ]
    },
    {
      "cell_type": "code",
      "source": [
        "def compare_outputs(output_file1, output_file2):\n",
        "    with open(output_file1, 'r') as file1, open(output_file2, 'r') as file2:\n",
        "        for line1, line2 in zip(file1, file2):\n",
        "            if line1.strip() != line2.strip():\n",
        "                return \"Error\"\n",
        "    return \"Pass\"\n",
        "\n",
        "# Comparar los 100 archivos de salida\n",
        "for i in range(1, 101):\n",
        "    output_file1 = f\"outputltest{i}.txt\"\n",
        "    output_file2 = f\"outputpysorttest{i}.txt\"\n",
        "    result = compare_outputs(output_file1, output_file2)\n",
        "    print(f\"Test {i}: {result}\")"
      ],
      "metadata": {
        "colab": {
          "base_uri": "https://localhost:8080/"
        },
        "id": "lLJGM1LN6tER",
        "outputId": "2cdb6b39-a0b7-4b9f-fb80-f5fff06a504a"
      },
      "execution_count": 157,
      "outputs": [
        {
          "output_type": "stream",
          "name": "stdout",
          "text": [
            "Test 1: Pass\n",
            "Test 2: Pass\n",
            "Test 3: Pass\n",
            "Test 4: Pass\n",
            "Test 5: Pass\n",
            "Test 6: Pass\n",
            "Test 7: Pass\n",
            "Test 8: Pass\n",
            "Test 9: Pass\n",
            "Test 10: Pass\n",
            "Test 11: Pass\n",
            "Test 12: Pass\n",
            "Test 13: Pass\n",
            "Test 14: Pass\n",
            "Test 15: Pass\n",
            "Test 16: Pass\n",
            "Test 17: Pass\n",
            "Test 18: Pass\n",
            "Test 19: Pass\n",
            "Test 20: Pass\n",
            "Test 21: Pass\n",
            "Test 22: Pass\n",
            "Test 23: Pass\n",
            "Test 24: Pass\n",
            "Test 25: Pass\n",
            "Test 26: Pass\n",
            "Test 27: Pass\n",
            "Test 28: Pass\n",
            "Test 29: Pass\n",
            "Test 30: Pass\n",
            "Test 31: Pass\n",
            "Test 32: Pass\n",
            "Test 33: Pass\n",
            "Test 34: Pass\n",
            "Test 35: Pass\n",
            "Test 36: Pass\n",
            "Test 37: Pass\n",
            "Test 38: Pass\n",
            "Test 39: Pass\n",
            "Test 40: Pass\n",
            "Test 41: Pass\n",
            "Test 42: Pass\n",
            "Test 43: Pass\n",
            "Test 44: Pass\n",
            "Test 45: Pass\n",
            "Test 46: Pass\n",
            "Test 47: Pass\n",
            "Test 48: Pass\n",
            "Test 49: Pass\n",
            "Test 50: Pass\n",
            "Test 51: Pass\n",
            "Test 52: Pass\n",
            "Test 53: Pass\n",
            "Test 54: Pass\n",
            "Test 55: Pass\n",
            "Test 56: Pass\n",
            "Test 57: Pass\n",
            "Test 58: Pass\n",
            "Test 59: Pass\n",
            "Test 60: Pass\n",
            "Test 61: Pass\n",
            "Test 62: Pass\n",
            "Test 63: Pass\n",
            "Test 64: Pass\n",
            "Test 65: Pass\n",
            "Test 66: Pass\n",
            "Test 67: Pass\n",
            "Test 68: Pass\n",
            "Test 69: Pass\n",
            "Test 70: Pass\n",
            "Test 71: Pass\n",
            "Test 72: Pass\n",
            "Test 73: Pass\n",
            "Test 74: Pass\n",
            "Test 75: Pass\n",
            "Test 76: Pass\n",
            "Test 77: Pass\n",
            "Test 78: Pass\n",
            "Test 79: Pass\n",
            "Test 80: Pass\n",
            "Test 81: Pass\n",
            "Test 82: Pass\n",
            "Test 83: Pass\n",
            "Test 84: Pass\n",
            "Test 85: Pass\n",
            "Test 86: Pass\n",
            "Test 87: Pass\n",
            "Test 88: Pass\n",
            "Test 89: Pass\n",
            "Test 90: Pass\n",
            "Test 91: Pass\n",
            "Test 92: Pass\n",
            "Test 93: Pass\n",
            "Test 94: Pass\n",
            "Test 95: Pass\n",
            "Test 96: Pass\n",
            "Test 97: Pass\n",
            "Test 98: Pass\n",
            "Test 99: Pass\n",
            "Test 100: Pass\n"
          ]
        }
      ]
    }
  ],
  "metadata": {
    "colab": {
      "provenance": [],
      "include_colab_link": true
    },
    "kernelspec": {
      "display_name": "Python 3",
      "name": "python3"
    },
    "language_info": {
      "name": "python"
    }
  },
  "nbformat": 4,
  "nbformat_minor": 0
}